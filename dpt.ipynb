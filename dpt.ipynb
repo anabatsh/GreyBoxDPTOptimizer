{
 "cells": [
  {
   "cell_type": "code",
   "execution_count": 1,
   "metadata": {},
   "outputs": [],
   "source": [
    "%load_ext autoreload\n",
    "%autoreload 2"
   ]
  },
  {
   "cell_type": "markdown",
   "metadata": {},
   "source": [
    "# Train DPT"
   ]
  },
  {
   "cell_type": "markdown",
   "metadata": {},
   "source": [
    "If there is no `results` directory, run"
   ]
  },
  {
   "cell_type": "code",
   "execution_count": 5,
   "metadata": {},
   "outputs": [],
   "source": [
    "# !bash dpt_run.sh"
   ]
  },
  {
   "cell_type": "markdown",
   "metadata": {},
   "source": [
    "If there is, run"
   ]
  },
  {
   "cell_type": "code",
   "execution_count": 18,
   "metadata": {},
   "outputs": [
    {
     "name": "stdout",
     "output_type": "stream",
     "text": [
      "\u001b[34m\u001b[1mwandb\u001b[0m: Using wandb-core as the SDK backend. Please refer to https://wandb.me/wandb-core for more information.\n",
      "\u001b[34m\u001b[1mwandb\u001b[0m: Currently logged in as: \u001b[33manabatsheva\u001b[0m (\u001b[33manabatsheva_sk\u001b[0m). Use \u001b[1m`wandb login --relogin`\u001b[0m to force relogin\n",
      "\u001b[34m\u001b[1mwandb\u001b[0m: Tracking run with wandb version 0.18.5\n",
      "\u001b[34m\u001b[1mwandb\u001b[0m: Run data is saved locally in \u001b[35m\u001b[1m/home/j/Desktop/GreyBoxDPTOptimizer_/wandb/run-20241109_002027-tsc3j3r1\u001b[0m\n",
      "\u001b[34m\u001b[1mwandb\u001b[0m: Run \u001b[1m`wandb offline`\u001b[0m to turn off syncing.\n",
      "\u001b[34m\u001b[1mwandb\u001b[0m: Syncing run \u001b[33mdainty-firebrand-59\u001b[0m\n",
      "\u001b[34m\u001b[1mwandb\u001b[0m: ⭐️ View project at \u001b[34m\u001b[4mhttps://wandb.ai/anabatsheva_sk/GreyBoxDPT\u001b[0m\n",
      "\u001b[34m\u001b[1mwandb\u001b[0m: 🚀 View run at \u001b[34m\u001b[4mhttps://wandb.ai/anabatsheva_sk/GreyBoxDPT/runs/tsc3j3r1\u001b[0m\n",
      "Loading training histories...\n",
      "Num histories: 6000\n",
      "Checkpoints path: ../GreyBoxDPTOptimizerData/checkpoints\n",
      "Parameters: 51986\n",
      "Training: 0it [00:00, ?it/s]0.16485056281089783 | 0.16485056281089783\n",
      "Training: 193it [00:02, 100.15it/s]0.3247920870780945 | 0.16485056281089783\n",
      "Training: 393it [00:04, 99.47it/s] 0.30801743268966675 | 0.16485056281089783\n",
      "Training: 593it [00:06, 99.79it/s] 0.16485056281089783 | 0.16485056281089783\n",
      "Training: 794it [00:08, 100.18it/s]0.30657562613487244 | 0.16485056281089783\n",
      "Training: 997it [00:10, 97.26it/s] 0.30657562613487244 | 0.16485056281089783\n",
      "Training: 1197it [00:12, 96.49it/s]0.16485056281089783 | 0.16485056281089783\n",
      "Training: 1397it [00:14, 95.81it/s]0.30657562613487244 | 0.16485056281089783\n",
      "Training: 1597it [00:16, 96.02it/s]0.16485056281089783 | 0.16485056281089783\n",
      "Training: 1797it [00:18, 95.78it/s]0.16485056281089783 | 0.16485056281089783\n",
      "Training: 1997it [00:21, 96.94it/s]0.3247920870780945 | 0.16485056281089783\n",
      "Training: 2197it [00:23, 96.61it/s]0.3247920870780945 | 0.16485056281089783\n",
      "Training: 2397it [00:25, 96.42it/s]0.30657562613487244 | 0.16485056281089783\n",
      "Training: 2597it [00:27, 95.14it/s]0.16629235446453094 | 0.16485056281089783\n",
      "Training: 2793it [00:29, 100.19it/s]0.16485056281089783 | 0.16485056281089783\n",
      "Training: 2997it [00:31, 100.23it/s]0.16485056281089783 | 0.16485056281089783\n",
      "Training: 3194it [00:33, 99.65it/s] 0.16629235446453094 | 0.16485056281089783\n",
      "Training: 3399it [00:35, 100.69it/s]0.16629235446453094 | 0.16485056281089783\n",
      "Training: 3594it [00:37, 99.97it/s] 0.16629235446453094 | 0.16485056281089783\n",
      "Training: 3791it [00:39, 100.28it/s]0.16485056281089783 | 0.16485056281089783\n",
      "Training: 3992it [00:41, 97.08it/s] 0.16485056281089783 | 0.16485056281089783\n",
      "Training: 4192it [00:43, 99.86it/s] 0.30657562613487244 | 0.16485056281089783\n",
      "Training: 4399it [00:45, 101.14it/s]0.16485056281089783 | 0.16485056281089783\n",
      "Training: 4592it [00:47, 93.97it/s] 0.32335028052330017 | 0.16485056281089783\n",
      "Training: 4793it [00:49, 93.10it/s]0.3247920870780945 | 0.16485056281089783\n",
      "Training: 4992it [00:51, 97.07it/s]0.30801743268966675 | 0.16485056281089783\n",
      "Training: 5192it [00:54, 95.28it/s]0.16485056281089783 | 0.16485056281089783\n",
      "Training: 5392it [00:56, 96.13it/s]0.3247920870780945 | 0.16485056281089783\n",
      "Training: 5596it [00:58, 99.81it/s]0.16629235446453094 | 0.16485056281089783\n",
      "Training: 5790it [01:00, 100.93it/s]0.26959913969039917 | 0.16485056281089783\n",
      "Training: 5992it [01:02, 100.07it/s]0.30801743268966675 | 0.16485056281089783\n",
      "Training: 6199it [01:04, 99.97it/s] 0.30801743268966675 | 0.16485056281089783\n",
      "Training: 6395it [01:06, 101.53it/s]0.26959913969039917 | 0.16485056281089783\n",
      "Training: 6600it [01:08, 97.82it/s]0.26959913969039917 | 0.16485056281089783\n",
      "Training: 6800it [01:10, 98.80it/s]0.30801743268966675 | 0.16485056281089783\n",
      "Training: 7000it [01:12, 98.56it/s]0.30801743268966675 | 0.16485056281089783\n",
      "Training: 7200it [01:14, 98.58it/s]0.30801743268966675 | 0.16485056281089783\n",
      "Training: 7400it [01:16, 98.74it/s]0.30801743268966675 | 0.16485056281089783\n",
      "Training: 7593it [01:18, 100.50it/s]0.30801743268966675 | 0.16485056281089783\n",
      "Training: 7791it [01:20, 101.19it/s]0.3247920870780945 | 0.16485056281089783\n",
      "Training: 7993it [01:22, 101.38it/s]0.30801743268966675 | 0.16485056281089783\n",
      "Training: 8200it [01:24, 101.23it/s]0.3247920870780945 | 0.16485056281089783\n",
      "Training: 8398it [01:26, 100.90it/s]0.3247920870780945 | 0.16485056281089783\n",
      "Training: 8595it [01:28, 100.93it/s]0.26959913969039917 | 0.16485056281089783\n",
      "Training: 8791it [01:30, 99.92it/s] 0.3247920870780945 | 0.16485056281089783\n",
      "Training: 9000it [01:32, 101.60it/s]0.3247920870780945 | 0.16485056281089783\n",
      "Training: 9198it [01:34, 101.05it/s]0.30801743268966675 | 0.16485056281089783\n",
      "Training: 9395it [01:36, 101.48it/s]0.3247920870780945 | 0.16485056281089783\n",
      "Training: 9593it [01:38, 101.73it/s]0.30801743268966675 | 0.16485056281089783\n",
      "Training: 9791it [01:40, 101.61it/s]0.26815736293792725 | 0.16485056281089783\n",
      "Training: 9999it [01:42, 101.19it/s]0.26959913969039917 | 0.16485056281089783\n",
      "Training: 10001it [01:42, 97.28it/s]\n",
      "\u001b[1;34mwandb\u001b[0m: 🚀 View run \u001b[33mdainty-firebrand-59\u001b[0m at: \u001b[34mhttps://wandb.ai/anabatsheva_sk/GreyBoxDPT/runs/tsc3j3r1\u001b[0m\n",
      "\u001b[1;34mwandb\u001b[0m: Find logs at: \u001b[1;35mwandb/run-20241109_002027-tsc3j3r1/logs\u001b[0m\n"
     ]
    }
   ],
   "source": [
    "!python3 train_dpt.py"
   ]
  },
  {
   "cell_type": "markdown",
   "metadata": {},
   "source": [
    "# Test DPT"
   ]
  },
  {
   "cell_type": "markdown",
   "metadata": {},
   "source": [
    "Get a model and run it on a `Net` problem."
   ]
  },
  {
   "cell_type": "code",
   "execution_count": null,
   "metadata": {},
   "outputs": [
    {
     "name": "stdout",
     "output_type": "stream",
     "text": [
      "hi\n"
     ]
    }
   ],
   "source": [
    "from GreyBoxDPTOptimizer_.test_dpt import load_model, test\n",
    "from problems import Net\n",
    "\n",
    "\n",
    "model = load_model(\"../GreyBoxDPTOptimizerData/checkpoints/model_last.pt\")\n",
    "model.eval()\n",
    "problem = Net(d=4, n=2, seed=1)\n",
    "result = test(model, problem, 2)"
   ]
  },
  {
   "cell_type": "markdown",
   "metadata": {},
   "source": [
    "Run it on a proble, of the class `Net`"
   ]
  },
  {
   "cell_type": "code",
   "execution_count": 122,
   "metadata": {},
   "outputs": [
    {
     "name": "stdout",
     "output_type": "stream",
     "text": [
      "step 0 | current target: 0.898736 -> suggested point: [1 1 1 0] -> new target: 0.656192\n",
      "step 1 | current target: 0.656192 -> suggested point: [1 1 1 1] -> new target: 0.435252\n",
      "step 2 | current target: 0.435252 -> suggested point: [0 1 0 1] -> new target: 0.586542\n",
      "step 3 | current target: 0.586542 -> suggested point: [1 1 1 0] -> new target: 0.656192\n",
      "step 4 | current target: 0.656192 -> suggested point: [1 1 1 1] -> new target: 0.435252\n",
      "step 5 | current target: 0.435252 -> suggested point: [1 1 1 1] -> new target: 0.435252\n",
      "step 6 | current target: 0.435252 -> suggested point: [1 1 0 1] -> new target: 0.343998\n",
      "step 7 | current target: 0.343998 -> suggested point: [1 1 1 1] -> new target: 0.435252\n",
      "step 8 | current target: 0.435252 -> suggested point: [1 1 0 1] -> new target: 0.343998\n",
      "step 9 | current target: 0.343998 -> suggested point: [1 1 1 1] -> new target: 0.435252\n",
      "\n",
      "found minimal value: 0.435252\n",
      "ground truth: 0.136233\n",
      "\n",
      "all possible targets in an order:\n",
      "[0.13623276 0.22748694 0.34399763 0.35717338 0.37877664 0.4352518\n",
      " 0.44842756 0.4700308  0.56493825 0.58654153 0.59971726 0.6561924\n",
      " 0.6777957  0.69097143 0.8074821  0.8987363 ]\n"
     ]
    }
   ],
   "source": [
    "import numpy as np\n",
    "from torch.nn import functional as F\n",
    "from utils import int2bin\n",
    "from problems import Net\n",
    "from utils import get_xaxis\n",
    "\n",
    "\n",
    "p = Net(d=4, n=2, seed=1)\n",
    "all_targets = p.target(get_xaxis(d=4, n=2))\n",
    "\n",
    "temp = 0.5\n",
    "do_samples = True\n",
    "\n",
    "query_states = torch.tensor([all_targets.max()])\n",
    "context_states = torch.Tensor(1, 0)\n",
    "context_next_states = torch.Tensor(1, 0)\n",
    "context_actions = torch.Tensor(1, 0)\n",
    "context_rewards = torch.Tensor(1, 0)\n",
    "\n",
    "for _ in range(10):\n",
    "    predicted_actions = model(\n",
    "        query_states=query_states.to(dtype=torch.float, device=DEVICE),\n",
    "        context_states=context_states.to(dtype=torch.float, device=DEVICE),\n",
    "        context_next_states=context_next_states.to(dtype=torch.float, device=DEVICE),\n",
    "        context_actions=context_actions.to(dtype=torch.long, device=DEVICE),\n",
    "        context_rewards=context_rewards.to(dtype=torch.float, device=DEVICE),\n",
    "    )\n",
    "    temp = 1.0 if temp <= 0 else temp\n",
    "    probs = F.softmax(predicted_actions / temp, dim=-1)\n",
    "    if do_samples:\n",
    "        predicted_action = torch.multinomial(probs, num_samples=1).squeeze(1).cpu()[0]\n",
    "    else:\n",
    "        predicted_action = torch.argmax(probs, dim=-1).cpu()[0]\n",
    "\n",
    "    # predicted_action = torch.argmax(F.softmax(predicted_actions, dim=1)).cpu()\n",
    "    # делать сэмплирование из распределения, а не брать моду\n",
    "    # добавить температуру\n",
    "    point = int2bin(predicted_action, d=4, n=2)\n",
    "    target = torch.tensor(p.target(point))\n",
    "    print(f'step {_} | current target: {query_states.item():>8.6} -> suggested point: {point} -> new target: {target.item():.6}')\n",
    "\n",
    "    context_states = torch.cat([context_states, query_states.unsqueeze(0)], dim=1)\n",
    "    context_next_states = torch.cat([context_next_states, target.unsqueeze(0)], dim=1)\n",
    "    context_actions = torch.cat([context_actions, torch.tensor([predicted_action]).unsqueeze(0)], dim=1)\n",
    "    context_rewards = torch.cat([context_rewards, (target - query_states).unsqueeze(0)], dim=1)\n",
    "    query_states = target\n",
    "\n",
    "print()\n",
    "print(f'found minimal value: {target.item():.6}')\n",
    "print(f'ground truth: {all_targets.min().item():.6}')\n",
    "print()\n",
    "print(f'all possible targets in an order:\\n{np.sort(all_targets)}')"
   ]
  },
  {
   "cell_type": "markdown",
   "metadata": {},
   "source": [
    "# Extra"
   ]
  },
  {
   "cell_type": "markdown",
   "metadata": {},
   "source": [
    "other extra things"
   ]
  },
  {
   "cell_type": "markdown",
   "metadata": {},
   "source": [
    "## Offline Test"
   ]
  },
  {
   "cell_type": "code",
   "execution_count": null,
   "metadata": {},
   "outputs": [],
   "source": [
    "# # dataset = MarkovianDataset(\"trajectories/\", seq_len=200)\n",
    "# # dataloader = DataLoader(dataset=dataset, batch_size=1, pin_memory=True, shuffle=False, num_workers=0)\n",
    "\n",
    "# for batch in dataloader:\n",
    "#     (\n",
    "#         query_flag,\n",
    "#         query_states,\n",
    "#         flags,\n",
    "#         states,\n",
    "#         actions,\n",
    "#         next_flags,\n",
    "#         next_states,\n",
    "#         rewards,\n",
    "#         target_actions,\n",
    "#     ) = [b.to(dtype=torch.float, device=DEVICE) for b in batch]\n",
    "#     break\n",
    "\n",
    "# actions = actions.to(torch.long)\n",
    "\n",
    "# predicted_actions = model(\n",
    "#     query_states=query_states,\n",
    "#     context_states=states,\n",
    "#     context_next_states=next_states,\n",
    "#     context_actions=actions,\n",
    "#     context_rewards=rewards,\n",
    "# )\n",
    "\n",
    "# predicted_action = torch.argmax(F.softmax(predicted_actions, dim=1))\n",
    "# target_actions, predicted_action"
   ]
  },
  {
   "cell_type": "markdown",
   "metadata": {},
   "source": [
    "## Train step"
   ]
  },
  {
   "cell_type": "code",
   "execution_count": null,
   "metadata": {},
   "outputs": [],
   "source": [
    "for i in range(2):\n",
    "    print(f\"Problem {i}...\")\n",
    "    !bash ./run.sh $i"
   ]
  },
  {
   "cell_type": "code",
   "execution_count": null,
   "metadata": {},
   "outputs": [],
   "source": [
    "from solvers.dpt.src.utils.data import results2trajectories\n",
    "\n",
    "results2trajectories('results', 'solvers/dpt/trajectories')"
   ]
  },
  {
   "cell_type": "code",
   "execution_count": null,
   "metadata": {},
   "outputs": [],
   "source": [
    "import torch\n",
    "from torch.utils.data import DataLoader\n",
    "from torch.nn import functional as F\n",
    "\n",
    "from solvers.dpt.src.utils.data import MarkovianDataset\n",
    "from solvers.dpt.src.model_dpt import DPT_K2D\n",
    "\n",
    "DEVICE = \"cuda\" if torch.cuda.is_available() else \"cpu\"\n",
    "\n",
    "\n",
    "dataset = MarkovianDataset('solvers/dpt/trajectories', seq_len=50)\n",
    "dataloader = DataLoader(\n",
    "    dataset=dataset,\n",
    "    batch_size=4,\n",
    "    pin_memory=True,\n",
    "    shuffle=False,\n",
    "    num_workers=0,\n",
    ")"
   ]
  },
  {
   "cell_type": "code",
   "execution_count": null,
   "metadata": {},
   "outputs": [],
   "source": [
    "model = DPT_K2D(\n",
    "    num_states=1,\n",
    "    num_actions=16,\n",
    "    hidden_dim=512,\n",
    "    seq_len=50,\n",
    "    num_layers=4,\n",
    "    num_heads=4,\n",
    "    attention_dropout=0.5,\n",
    "    residual_dropout=0.1,\n",
    "    embedding_dropout=0.3,\n",
    "    normalize_qk=False,\n",
    "    pre_norm=True,\n",
    "    rnn_weights_path=None,\n",
    "    state_rnn_embedding=16,\n",
    "    rnn_dropout=0.0,\n",
    ").to(DEVICE)"
   ]
  },
  {
   "cell_type": "code",
   "execution_count": null,
   "metadata": {},
   "outputs": [],
   "source": [
    "for batch in dataloader:\n",
    "    (\n",
    "        query_states,\n",
    "        states,\n",
    "        actions,\n",
    "        next_states,\n",
    "        rewards,\n",
    "        target_actions,\n",
    "    ) = [b.to(DEVICE) for b in batch]\n",
    "    break"
   ]
  },
  {
   "cell_type": "code",
   "execution_count": null,
   "metadata": {},
   "outputs": [],
   "source": [
    "query_states = query_states.to(torch.float)\n",
    "states = states.to(torch.float)\n",
    "actions = actions.to(torch.long)\n",
    "next_states = next_states.to(torch.float)\n",
    "rewards = rewards.to(torch.float32)"
   ]
  },
  {
   "cell_type": "code",
   "execution_count": null,
   "metadata": {},
   "outputs": [],
   "source": [
    "target_actions_onehot = (\n",
    "    F.one_hot(target_actions.squeeze(-1), num_classes=16)\n",
    "    .unsqueeze(1)\n",
    "    .repeat(1, 50, 1)\n",
    "    .float()\n",
    ")"
   ]
  },
  {
   "cell_type": "code",
   "execution_count": null,
   "metadata": {},
   "outputs": [],
   "source": [
    "predicted_actions = model(\n",
    "    query_states=query_states,\n",
    "    context_states=states,\n",
    "    context_next_states=next_states,\n",
    "    context_actions=actions,\n",
    "    context_rewards=rewards,\n",
    ")\n",
    "predicted_actions = predicted_actions[:, 1:, :]"
   ]
  },
  {
   "cell_type": "code",
   "execution_count": null,
   "metadata": {},
   "outputs": [],
   "source": [
    "loss = F.cross_entropy(\n",
    "    input=predicted_actions.flatten(0, 1),\n",
    "    target=target_actions_onehot.flatten(0, 1),\n",
    "    label_smoothing=0.0,\n",
    ")"
   ]
  },
  {
   "cell_type": "code",
   "execution_count": null,
   "metadata": {},
   "outputs": [],
   "source": [
    "loss"
   ]
  },
  {
   "cell_type": "markdown",
   "metadata": {},
   "source": [
    "## things"
   ]
  },
  {
   "cell_type": "code",
   "execution_count": 91,
   "metadata": {},
   "outputs": [
    {
     "data": {
      "image/png": "[encoded data removed]",
      "text/plain": [
       "<Figure size 640x480 with 1 Axes>"
      ]
     },
     "metadata": {},
     "output_type": "display_data"
    }
   ],
   "source": [
    "import numpy as np\n",
    "import matplotlib.pyplot as plt\n",
    "import torch\n",
    "\n",
    "logits = torch.tensor(np.hstack([np.arange(5), np.arange(4)[::-1]])).to(torch.float)\n",
    "d = len(logits)\n",
    "bins = np.arange(d+1)\n",
    "N = 1000\n",
    "\n",
    "temp = 1\n",
    "probs = torch.nn.functional.softmax(logits / temp, dim=-1)\n",
    "next_tokens = torch.multinomial(probs, num_samples=N, replacement=True)#.squeeze(1)\n",
    "distr = np.histogram(next_tokens, bins=bins)[0] / N\n",
    "plt.plot(bins[:-1]+0.5, distr, '-o', label=f't={temp}')\n",
    "# plt.hist(next_tokens, bins=bins, density=True, rwidth=0.9)\n",
    "\n",
    "probs = torch.nn.functional.softmax(logits, dim=-1)\n",
    "next_tokens = torch.argmax(logits, dim=-1)\n",
    "distr = np.zeros(d)\n",
    "distr[next_tokens] = 1\n",
    "plt.plot(bins[:-1]+0.5, distr, '-o', label='argmax')\n",
    "# plt.hist([next_tokens], bins=bins, density=False, rwidth=0.9)\n",
    "\n",
    "# plt.xticks(bins[:-1]+0.5, bins[:-1])\n",
    "plt.legend()\n",
    "plt.show()"
   ]
  }
 ],
 "metadata": {
  "kernelspec": {
   "display_name": "DPT",
   "language": "python",
   "name": "python3"
  },
  "language_info": {
   "codemirror_mode": {
    "name": "ipython",
    "version": 3
   },
   "file_extension": ".py",
   "mimetype": "text/x-python",
   "name": "python",
   "nbconvert_exporter": "python",
   "pygments_lexer": "ipython3",
   "version": "3.9.20"
  }
 },
 "nbformat": 4,
 "nbformat_minor": 2
}
