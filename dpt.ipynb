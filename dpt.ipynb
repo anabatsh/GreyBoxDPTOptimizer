{
 "cells": [
  {
   "cell_type": "code",
   "execution_count": 1,
   "metadata": {},
   "outputs": [],
   "source": [
    "%load_ext autoreload\n",
    "%autoreload 2"
   ]
  },
  {
   "cell_type": "markdown",
   "metadata": {},
   "source": [
    "# Train DPT"
   ]
  },
  {
   "cell_type": "markdown",
   "metadata": {},
   "source": [
    "If there is no `results` directory, run"
   ]
  },
  {
   "cell_type": "code",
   "execution_count": 5,
   "metadata": {},
   "outputs": [],
   "source": [
    "# !bash dpt_run.sh"
   ]
  },
  {
   "cell_type": "markdown",
   "metadata": {},
   "source": [
    "If there is, run"
   ]
  },
  {
   "cell_type": "code",
   "execution_count": 16,
   "metadata": {},
   "outputs": [
    {
     "name": "stdout",
     "output_type": "stream",
     "text": [
      "\u001b[34m\u001b[1mwandb\u001b[0m: Using wandb-core as the SDK backend. Please refer to https://wandb.me/wandb-core for more information.\n",
      "\u001b[34m\u001b[1mwandb\u001b[0m: Currently logged in as: \u001b[33manabatsheva\u001b[0m (\u001b[33manabatsheva_sk\u001b[0m). Use \u001b[1m`wandb login --relogin`\u001b[0m to force relogin\n",
      "\u001b[34m\u001b[1mwandb\u001b[0m: Tracking run with wandb version 0.18.5\n",
      "\u001b[34m\u001b[1mwandb\u001b[0m: Run data is saved locally in \u001b[35m\u001b[1m/home/j/Desktop/GreyBoxDPTOptimizer_/wandb/run-20241108_143408-pa4nrk0w\u001b[0m\n",
      "\u001b[34m\u001b[1mwandb\u001b[0m: Run \u001b[1m`wandb offline`\u001b[0m to turn off syncing.\n",
      "\u001b[34m\u001b[1mwandb\u001b[0m: Syncing run \u001b[33mdenim-tree-49\u001b[0m\n",
      "\u001b[34m\u001b[1mwandb\u001b[0m: ⭐️ View project at \u001b[34m\u001b[4mhttps://wandb.ai/anabatsheva_sk/GreyBoxDPT\u001b[0m\n",
      "\u001b[34m\u001b[1mwandb\u001b[0m: 🚀 View run at \u001b[34m\u001b[4mhttps://wandb.ai/anabatsheva_sk/GreyBoxDPT/runs/pa4nrk0w\u001b[0m\n",
      "Loading training histories...\n",
      "Num histories: 6000\n",
      "Checkpoints path: ../GreyBoxDPTOptimizerData/checkpoints\n",
      "Parameters: 51986\n",
      "Training: 10001it [01:45, 94.50it/s]\n",
      "\u001b[1;34mwandb\u001b[0m: 🚀 View run \u001b[33mdenim-tree-49\u001b[0m at: \u001b[34mhttps://wandb.ai/anabatsheva_sk/GreyBoxDPT/runs/pa4nrk0w\u001b[0m\n",
      "\u001b[1;34mwandb\u001b[0m: Find logs at: \u001b[1;35mwandb/run-20241108_143408-pa4nrk0w/logs\u001b[0m\n"
     ]
    }
   ],
   "source": [
    "!python3 solvers/dpt/train_dpt.py"
   ]
  },
  {
   "cell_type": "markdown",
   "metadata": {},
   "source": [
    "# Test DPT"
   ]
  },
  {
   "cell_type": "markdown",
   "metadata": {},
   "source": [
    "Get a model"
   ]
  },
  {
   "cell_type": "code",
   "execution_count": 22,
   "metadata": {},
   "outputs": [
    {
     "data": {
      "text/plain": [
       "DPT_K2D(\n",
       "  (embedd): Linear(in_features=1, out_features=1, bias=True)\n",
       "  (embed_transition): Linear(in_features=19, out_features=32, bias=True)\n",
       "  (emb_dropout): Dropout(p=0.3, inplace=False)\n",
       "  (blocks): ModuleList(\n",
       "    (0-3): 4 x TransformerBlock(\n",
       "      (norm1): LayerNorm((32,), eps=1e-05, elementwise_affine=True)\n",
       "      (norm2): LayerNorm((32,), eps=1e-05, elementwise_affine=True)\n",
       "      (drop): Dropout(p=0.1, inplace=False)\n",
       "      (attention): CausalSelfAttentionWithCache(\n",
       "        (in_proj): Linear(in_features=32, out_features=96, bias=True)\n",
       "        (out_proj): Linear(in_features=32, out_features=32, bias=True)\n",
       "      )\n",
       "      (mlp): Sequential(\n",
       "        (0): Linear(in_features=32, out_features=128, bias=True)\n",
       "        (1): GELU(approximate='none')\n",
       "        (2): Linear(in_features=128, out_features=32, bias=True)\n",
       "        (3): Dropout(p=0.1, inplace=False)\n",
       "      )\n",
       "    )\n",
       "  )\n",
       "  (action_head): Linear(in_features=32, out_features=16, bias=True)\n",
       ")"
      ]
     },
     "execution_count": 22,
     "metadata": {},
     "output_type": "execute_result"
    }
   ],
   "source": [
    "import torch\n",
    "from solvers.dpt.src.model_dpt import DPT_K2D\n",
    "\n",
    "DEVICE = \"cuda\" if torch.cuda.is_available() else \"cpu\"\n",
    "\n",
    "\n",
    "model = DPT_K2D(\n",
    "    num_states=1,\n",
    "    num_actions=16,\n",
    "    hidden_dim=32,\n",
    "    seq_len=50,\n",
    "    num_layers=4,\n",
    "    num_heads=4,\n",
    "    attention_dropout=0.5,\n",
    "    residual_dropout=0.1,\n",
    "    embedding_dropout=0.3,\n",
    "    normalize_qk=False,\n",
    "    pre_norm=True,\n",
    "    rnn_weights_path=None,\n",
    "    state_rnn_embedding=1,\n",
    "    rnn_dropout=0.0,\n",
    ").to(DEVICE)\n",
    "\n",
    "checkpoint_path = \"../GreyBoxDPTOptimizerData/checkpoints/model_last.pt\"\n",
    "checkpoint = torch.load(checkpoint_path, weights_only=True)\n",
    "model.load_state_dict(checkpoint)\n",
    "model.eval()"
   ]
  },
  {
   "cell_type": "code",
   "execution_count": 55,
   "metadata": {},
   "outputs": [],
   "source": [
    "import numpy as np\n",
    "import matplotlib.pyplot as plt\n",
    "import torch"
   ]
  },
  {
   "cell_type": "code",
   "execution_count": 67,
   "metadata": {},
   "outputs": [
    {
     "data": {
      "text/plain": [
       "10"
      ]
     },
     "execution_count": 67,
     "metadata": {},
     "output_type": "execute_result"
    }
   ],
   "source": [
    "len(logits)"
   ]
  },
  {
   "cell_type": "code",
   "execution_count": 83,
   "metadata": {},
   "outputs": [
    {
     "data": {
      "image/png": "[encoded data removed]",
      "text/plain": [
       "<Figure size 640x480 with 1 Axes>"
      ]
     },
     "metadata": {},
     "output_type": "display_data"
    }
   ],
   "source": [
    "logits = torch.tensor(np.hstack([np.arange(5), np.arange(5)[::-1]])).to(torch.float)\n",
    "temp = 0.5\n",
    "\n",
    "# 1\n",
    "probs = torch.nn.functional.softmax(logits, dim=-1)\n",
    "N = 1000\n",
    "next_tokens = torch.multinomial(probs, num_samples=N, replacement=True)#.squeeze(1)\n",
    "plt.hist(next_tokens, bins=len(logits), density=True)\n",
    "\n",
    "# 2\n",
    "next_tokens = torch.multinomial(probs / temp, num_samples=N, replacement=True)#.squeeze(1)\n",
    "plt.hist(next_tokens, bins=len(logits), density=True)\n",
    "\n",
    "# 3\n",
    "next_tokens = torch.argmax(logits, dim=-1)\n",
    "plt.hist([next_tokens], bins=len(logits), density=False)\n",
    "\n",
    "plt.show()"
   ]
  },
  {
   "cell_type": "code",
   "execution_count": 51,
   "metadata": {},
   "outputs": [
    {
     "data": {
      "text/plain": [
       "<matplotlib.legend.Legend at 0x7e5889b65430>"
      ]
     },
     "execution_count": 51,
     "metadata": {},
     "output_type": "execute_result"
    },
    {
     "data": {
      "image/png": "[encoded data removed]",
      "text/plain": [
       "<Figure size 640x480 with 1 Axes>"
      ]
     },
     "metadata": {},
     "output_type": "display_data"
    }
   ],
   "source": [
    "a = np.hstack([np.arange(5), np.arange(5)[::-1]]) / 4\n",
    "plt.plot(softmax(a), label='1.0')\n",
    "plt.plot(softmax(a) / 0.75, label='0.75')\n",
    "plt.plot(softmax(a) / 0.5, label='0.5')\n",
    "plt.plot(softmax(a) / 0.25, label='0.25')\n",
    "\n",
    "plt.plot(softmax(a) / 3, label='3.0')\n",
    "\n",
    "plt.legend()"
   ]
  },
  {
   "cell_type": "markdown",
   "metadata": {},
   "source": [
    "Run it on a proble, of the class `Net`"
   ]
  },
  {
   "cell_type": "code",
   "execution_count": 26,
   "metadata": {},
   "outputs": [
    {
     "name": "stdout",
     "output_type": "stream",
     "text": [
      "step 0 | current target: 0.898736 -> suggested point: [1 1 1 0] -> new target: 0.656192\n",
      "step 1 | current target: 0.656192 -> suggested point: [1 1 1 0] -> new target: 0.656192\n",
      "step 2 | current target: 0.656192 -> suggested point: [1 1 1 0] -> new target: 0.656192\n",
      "step 3 | current target: 0.656192 -> suggested point: [1 0 1 0] -> new target: 0.448428\n",
      "step 4 | current target: 0.448428 -> suggested point: [1 0 1 0] -> new target: 0.448428\n",
      "step 5 | current target: 0.448428 -> suggested point: [1 0 1 0] -> new target: 0.448428\n",
      "step 6 | current target: 0.448428 -> suggested point: [1 0 1 0] -> new target: 0.448428\n",
      "step 7 | current target: 0.448428 -> suggested point: [1 0 1 0] -> new target: 0.448428\n",
      "step 8 | current target: 0.448428 -> suggested point: [1 0 1 0] -> new target: 0.448428\n",
      "step 9 | current target: 0.448428 -> suggested point: [1 1 1 0] -> new target: 0.656192\n",
      "\n",
      "found minimal value: 0.656192\n",
      "ground truth: 0.136233\n",
      "\n",
      "all possible targets in an order:\n",
      "[0.13623276 0.22748694 0.34399763 0.35717338 0.37877664 0.4352518\n",
      " 0.44842756 0.4700308  0.56493825 0.58654153 0.59971726 0.6561924\n",
      " 0.6777957  0.69097143 0.8074821  0.8987363 ]\n"
     ]
    }
   ],
   "source": [
    "import numpy as np\n",
    "from torch.nn import functional as F\n",
    "from utils import int2bin\n",
    "from problems import Net\n",
    "from utils import get_xaxis\n",
    "\n",
    "\n",
    "p = Net(d=4, n=2, seed=1)\n",
    "all_targets = p.target(get_xaxis(d=4, n=2))\n",
    "\n",
    "query_states = torch.tensor([all_targets.max()])\n",
    "context_states = torch.Tensor(1, 0)\n",
    "context_next_states = torch.Tensor(1, 0)\n",
    "context_actions = torch.Tensor(1, 0)\n",
    "context_rewards = torch.Tensor(1, 0)\n",
    "\n",
    "for _ in range(10):\n",
    "    predicted_actions = model(\n",
    "        query_states=query_states.to(dtype=torch.float, device=DEVICE),\n",
    "        context_states=context_states.to(dtype=torch.float, device=DEVICE),\n",
    "        context_next_states=context_next_states.to(dtype=torch.float, device=DEVICE),\n",
    "        context_actions=context_actions.to(dtype=torch.long, device=DEVICE),\n",
    "        context_rewards=context_rewards.to(dtype=torch.float, device=DEVICE),\n",
    "    )\n",
    "    predicted_action = torch.argmax(F.softmax(predicted_actions, dim=1)).cpu()\n",
    "    # делать сэмплирование из распределения, а не брать моду\n",
    "    # добавить температуру\n",
    "    point = int2bin(predicted_action, d=4, n=2)\n",
    "    target = torch.tensor(p.target(point))\n",
    "    print(f'step {_} | current target: {query_states.item():>8.6} -> suggested point: {point} -> new target: {target.item():.6}')\n",
    "\n",
    "    context_states = torch.cat([context_states, query_states.unsqueeze(0)], dim=1)\n",
    "    context_next_states = torch.cat([context_next_states, target.unsqueeze(0)], dim=1)\n",
    "    context_actions = torch.cat([context_actions, torch.tensor([predicted_action]).unsqueeze(0)], dim=1)\n",
    "    context_rewards = torch.cat([context_rewards, (target - query_states).unsqueeze(0)], dim=1)\n",
    "    query_states = target\n",
    "\n",
    "print()\n",
    "print(f'found minimal value: {target.item():.6}')\n",
    "print(f'ground truth: {all_targets.min().item():.6}')\n",
    "print()\n",
    "print(f'all possible targets in an order:\\n{np.sort(all_targets)}')"
   ]
  },
  {
   "cell_type": "markdown",
   "metadata": {},
   "source": [
    "# Extra"
   ]
  },
  {
   "cell_type": "markdown",
   "metadata": {},
   "source": [
    "other extra things"
   ]
  },
  {
   "cell_type": "markdown",
   "metadata": {},
   "source": [
    "## Offline Test"
   ]
  },
  {
   "cell_type": "code",
   "execution_count": null,
   "metadata": {},
   "outputs": [],
   "source": [
    "# # dataset = MarkovianDataset(\"trajectories/\", seq_len=200)\n",
    "# # dataloader = DataLoader(dataset=dataset, batch_size=1, pin_memory=True, shuffle=False, num_workers=0)\n",
    "\n",
    "# for batch in dataloader:\n",
    "#     (\n",
    "#         query_flag,\n",
    "#         query_states,\n",
    "#         flags,\n",
    "#         states,\n",
    "#         actions,\n",
    "#         next_flags,\n",
    "#         next_states,\n",
    "#         rewards,\n",
    "#         target_actions,\n",
    "#     ) = [b.to(dtype=torch.float, device=DEVICE) for b in batch]\n",
    "#     break\n",
    "\n",
    "# actions = actions.to(torch.long)\n",
    "\n",
    "# predicted_actions = model(\n",
    "#     query_states=query_states,\n",
    "#     context_states=states,\n",
    "#     context_next_states=next_states,\n",
    "#     context_actions=actions,\n",
    "#     context_rewards=rewards,\n",
    "# )\n",
    "\n",
    "# predicted_action = torch.argmax(F.softmax(predicted_actions, dim=1))\n",
    "# target_actions, predicted_action"
   ]
  },
  {
   "cell_type": "markdown",
   "metadata": {},
   "source": [
    "## Train step"
   ]
  },
  {
   "cell_type": "code",
   "execution_count": null,
   "metadata": {},
   "outputs": [],
   "source": [
    "for i in range(2):\n",
    "    print(f\"Problem {i}...\")\n",
    "    !bash ./run.sh $i"
   ]
  },
  {
   "cell_type": "code",
   "execution_count": null,
   "metadata": {},
   "outputs": [],
   "source": [
    "from solvers.dpt.src.utils.data import results2trajectories\n",
    "\n",
    "results2trajectories('results', 'solvers/dpt/trajectories')"
   ]
  },
  {
   "cell_type": "code",
   "execution_count": null,
   "metadata": {},
   "outputs": [],
   "source": [
    "import torch\n",
    "from torch.utils.data import DataLoader\n",
    "from torch.nn import functional as F\n",
    "\n",
    "from solvers.dpt.src.utils.data import MarkovianDataset\n",
    "from solvers.dpt.src.model_dpt import DPT_K2D\n",
    "\n",
    "DEVICE = \"cuda\" if torch.cuda.is_available() else \"cpu\"\n",
    "\n",
    "\n",
    "dataset = MarkovianDataset('solvers/dpt/trajectories', seq_len=50)\n",
    "dataloader = DataLoader(\n",
    "    dataset=dataset,\n",
    "    batch_size=4,\n",
    "    pin_memory=True,\n",
    "    shuffle=False,\n",
    "    num_workers=0,\n",
    ")"
   ]
  },
  {
   "cell_type": "code",
   "execution_count": null,
   "metadata": {},
   "outputs": [],
   "source": [
    "model = DPT_K2D(\n",
    "    num_states=1,\n",
    "    num_actions=16,\n",
    "    hidden_dim=512,\n",
    "    seq_len=50,\n",
    "    num_layers=4,\n",
    "    num_heads=4,\n",
    "    attention_dropout=0.5,\n",
    "    residual_dropout=0.1,\n",
    "    embedding_dropout=0.3,\n",
    "    normalize_qk=False,\n",
    "    pre_norm=True,\n",
    "    rnn_weights_path=None,\n",
    "    state_rnn_embedding=16,\n",
    "    rnn_dropout=0.0,\n",
    ").to(DEVICE)"
   ]
  },
  {
   "cell_type": "code",
   "execution_count": null,
   "metadata": {},
   "outputs": [],
   "source": [
    "for batch in dataloader:\n",
    "    (\n",
    "        query_states,\n",
    "        states,\n",
    "        actions,\n",
    "        next_states,\n",
    "        rewards,\n",
    "        target_actions,\n",
    "    ) = [b.to(DEVICE) for b in batch]\n",
    "    break"
   ]
  },
  {
   "cell_type": "code",
   "execution_count": null,
   "metadata": {},
   "outputs": [],
   "source": [
    "query_states = query_states.to(torch.float)\n",
    "states = states.to(torch.float)\n",
    "actions = actions.to(torch.long)\n",
    "next_states = next_states.to(torch.float)\n",
    "rewards = rewards.to(torch.float32)"
   ]
  },
  {
   "cell_type": "code",
   "execution_count": null,
   "metadata": {},
   "outputs": [],
   "source": [
    "target_actions_onehot = (\n",
    "    F.one_hot(target_actions.squeeze(-1), num_classes=16)\n",
    "    .unsqueeze(1)\n",
    "    .repeat(1, 50, 1)\n",
    "    .float()\n",
    ")"
   ]
  },
  {
   "cell_type": "code",
   "execution_count": null,
   "metadata": {},
   "outputs": [],
   "source": [
    "predicted_actions = model(\n",
    "    query_states=query_states,\n",
    "    context_states=states,\n",
    "    context_next_states=next_states,\n",
    "    context_actions=actions,\n",
    "    context_rewards=rewards,\n",
    ")\n",
    "predicted_actions = predicted_actions[:, 1:, :]"
   ]
  },
  {
   "cell_type": "code",
   "execution_count": null,
   "metadata": {},
   "outputs": [],
   "source": [
    "loss = F.cross_entropy(\n",
    "    input=predicted_actions.flatten(0, 1),\n",
    "    target=target_actions_onehot.flatten(0, 1),\n",
    "    label_smoothing=0.0,\n",
    ")"
   ]
  },
  {
   "cell_type": "code",
   "execution_count": null,
   "metadata": {},
   "outputs": [],
   "source": [
    "loss"
   ]
  }
 ],
 "metadata": {
  "kernelspec": {
   "display_name": "DPT",
   "language": "python",
   "name": "python3"
  },
  "language_info": {
   "codemirror_mode": {
    "name": "ipython",
    "version": 3
   },
   "file_extension": ".py",
   "mimetype": "text/x-python",
   "name": "python",
   "nbconvert_exporter": "python",
   "pygments_lexer": "ipython3",
   "version": "3.9.20"
  }
 },
 "nbformat": 4,
 "nbformat_minor": 2
}
