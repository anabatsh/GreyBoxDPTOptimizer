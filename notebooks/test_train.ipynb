{
 "cells": [
  {
   "cell_type": "code",
   "execution_count": 34,
   "metadata": {},
   "outputs": [],
   "source": [
    "import sys\n",
    "root_path = '../'\n",
    "sys.path.insert(0, root_path)\n",
    "\n",
    "from functools import partial\n",
    "from torch.utils.data import DataLoader\n",
    "\n",
    "import problems as p\n",
    "# from src_2d.data import OfflineDataset, OnlineDataset, custom_collate_fn\n",
    "# from src_2d.train import DPTSolver\n",
    "from src_1d.data import OfflineDataset, OnlineDataset, custom_collate_fn\n",
    "from src_1d.train import DPTSolver\n",
    "from run import load_config\n",
    "from utils import *"
   ]
  },
  {
   "cell_type": "code",
   "execution_count": null,
   "metadata": {},
   "outputs": [],
   "source": [
    "%load_ext autoreload\n",
    "%autoreload 2"
   ]
  },
  {
   "cell_type": "code",
   "execution_count": null,
   "metadata": {},
   "outputs": [],
   "source": [
    "config = load_config('../config.yaml')\n",
    "print(f'problem: {config[\"problem\"]}({config[\"problem_params\"]})')\n",
    "print(f'seq_len: {config[\"model_params\"][\"seq_len\"]}')\n",
    "\n",
    "problem_class = getattr(p, config[\"problem\"])\n",
    "problems = [problem_class(**config[\"problem_params\"], seed=seed) for seed in range(10)]"
   ]
  },
  {
   "cell_type": "code",
   "execution_count": 37,
   "metadata": {},
   "outputs": [],
   "source": [
    "model = DPTSolver(config)"
   ]
  },
  {
   "cell_type": "markdown",
   "metadata": {},
   "source": [
    "### Offline Dataset"
   ]
  },
  {
   "cell_type": "code",
   "execution_count": null,
   "metadata": {},
   "outputs": [],
   "source": [
    "batch_size = 2\n",
    "\n",
    "dataset = OfflineDataset(problems, seq_len=config[\"model_params\"][\"seq_len\"])\n",
    "collate_fn = partial(custom_collate_fn, problem_class=problem_class)\n",
    "dataloader = DataLoader(dataset, batch_size=batch_size, collate_fn=collate_fn)\n",
    "batch = next(iter(dataloader))\n",
    "batch"
   ]
  },
  {
   "cell_type": "code",
   "execution_count": null,
   "metadata": {},
   "outputs": [],
   "source": [
    "print('query_state', batch[\"query_state\"].shape, batch[\"query_state\"].dtype)\n",
    "print('states', batch[\"states\"].shape, batch[\"states\"].dtype)\n",
    "print('actions', batch[\"actions\"].shape, batch[\"actions\"].dtype)\n",
    "print('next_states', batch[\"next_states\"].shape, batch[\"next_states\"].dtype)\n",
    "print('rewards', batch[\"rewards\"].shape, batch[\"rewards\"].dtype)\n",
    "print('target_action', batch[\"target_action\"].shape, batch[\"target_action\"].dtype)\n",
    "print('problem', batch[\"problem\"], type(batch[\"problem\"]))"
   ]
  },
  {
   "cell_type": "code",
   "execution_count": null,
   "metadata": {},
   "outputs": [],
   "source": [
    "outputs = model._offline_step(batch)\n",
    "outputs"
   ]
  },
  {
   "cell_type": "code",
   "execution_count": null,
   "metadata": {},
   "outputs": [],
   "source": [
    "print('outputs', outputs[\"outputs\"].shape, outputs[\"outputs\"].dtype)\n",
    "print('predictions', outputs[\"predictions\"].shape, outputs[\"predictions\"].dtype)\n",
    "print('targets', outputs[\"targets\"].shape, outputs[\"targets\"].dtype)"
   ]
  },
  {
   "cell_type": "code",
   "execution_count": 42,
   "metadata": {},
   "outputs": [],
   "source": [
    "# outputs[\"predictions\"], outputs[\"targets\"]"
   ]
  },
  {
   "cell_type": "code",
   "execution_count": null,
   "metadata": {},
   "outputs": [],
   "source": [
    "model.training_step(batch, 0)"
   ]
  },
  {
   "cell_type": "code",
   "execution_count": null,
   "metadata": {},
   "outputs": [],
   "source": [
    "model.eval()\n",
    "model.validation_step(batch, 0)"
   ]
  },
  {
   "cell_type": "code",
   "execution_count": null,
   "metadata": {},
   "outputs": [],
   "source": [
    "print_sample(dataset[0])"
   ]
  },
  {
   "cell_type": "code",
   "execution_count": null,
   "metadata": {},
   "outputs": [],
   "source": [
    "sample, outputs, predictions, metrics = run(model, dataset[0])\n",
    "print_sample(sample, predictions)\n",
    "print_metrics(metrics)"
   ]
  },
  {
   "cell_type": "markdown",
   "metadata": {},
   "source": [
    "### Online Dataset"
   ]
  },
  {
   "cell_type": "code",
   "execution_count": null,
   "metadata": {},
   "outputs": [],
   "source": [
    "dataset = OnlineDataset(problems)\n",
    "collate_fn = partial(custom_collate_fn, problem_class=problem_class)\n",
    "dataloader = DataLoader(dataset, batch_size=2, collate_fn=collate_fn)\n",
    "batch = next(iter(dataloader))\n",
    "batch"
   ]
  },
  {
   "cell_type": "code",
   "execution_count": null,
   "metadata": {},
   "outputs": [],
   "source": [
    "print('query_state', batch[\"query_state\"].shape, batch[\"query_state\"].dtype)\n",
    "print('target_state', batch[\"target_state\"].shape, batch[\"target_state\"].dtype)\n",
    "print('problem', batch[\"problem\"], type(batch[\"problem\"]))"
   ]
  },
  {
   "cell_type": "code",
   "execution_count": null,
   "metadata": {},
   "outputs": [],
   "source": [
    "outputs = model._online_step(batch)\n",
    "outputs"
   ]
  },
  {
   "cell_type": "code",
   "execution_count": null,
   "metadata": {},
   "outputs": [],
   "source": [
    "print('outputs', outputs[\"outputs\"].shape, outputs[\"outputs\"].dtype)\n",
    "print('predictions', outputs[\"predictions\"].shape, outputs[\"predictions\"].dtype)\n",
    "print('targets', outputs[\"targets\"].shape, outputs[\"targets\"].dtype)"
   ]
  },
  {
   "cell_type": "code",
   "execution_count": null,
   "metadata": {},
   "outputs": [],
   "source": [
    "model.eval()\n",
    "model.test_step(batch, 0)"
   ]
  },
  {
   "cell_type": "code",
   "execution_count": null,
   "metadata": {},
   "outputs": [],
   "source": [
    "sample, outputs, predictions, metrics = run(model, dataset[0])\n",
    "print_sample(sample, print_ta=False, print_fm=True)\n",
    "print_metrics(metrics)"
   ]
  }
 ],
 "metadata": {
  "kernelspec": {
   "display_name": "DPT",
   "language": "python",
   "name": "python3"
  },
  "language_info": {
   "codemirror_mode": {
    "name": "ipython",
    "version": 3
   },
   "file_extension": ".py",
   "mimetype": "text/x-python",
   "name": "python",
   "nbconvert_exporter": "python",
   "pygments_lexer": "ipython3",
   "version": "3.12.8"
  }
 },
 "nbformat": 4,
 "nbformat_minor": 2
}
