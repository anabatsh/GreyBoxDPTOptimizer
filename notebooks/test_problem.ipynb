{
 "cells": [
  {
   "cell_type": "code",
   "execution_count": null,
   "metadata": {},
   "outputs": [],
   "source": [
    "%load_ext autoreload\n",
    "%autoreload 2"
   ]
  },
  {
   "cell_type": "code",
   "execution_count": null,
   "metadata": {},
   "outputs": [],
   "source": [
    "from solvers import GUROBI\n",
    "from problems import QUBO"
   ]
  },
  {
   "cell_type": "code",
   "execution_count": null,
   "metadata": {},
   "outputs": [],
   "source": [
    "problem = QUBO(d=5, n=2)\n",
    "solver = GUROBI(problem, 5)\n",
    "#solver.optimize()"
   ]
  },
  {
   "cell_type": "code",
   "execution_count": null,
   "metadata": {},
   "outputs": [],
   "source": [
    "solver.name"
   ]
  },
  {
   "cell_type": "code",
   "execution_count": null,
   "metadata": {},
   "outputs": [],
   "source": [
    "import pandas as pd\n",
    "import matplotlib.pyplot as plt"
   ]
  },
  {
   "cell_type": "code",
   "execution_count": null,
   "metadata": {},
   "outputs": [],
   "source": [
    "import sys\n",
    "root_path = '../'\n",
    "sys.path.insert(0, root_path)\n",
    "\n",
    "from notebooks.create_problems import *\n",
    "from notebooks.run_solvers import *\n",
    "from notebooks.run import *"
   ]
  },
  {
   "cell_type": "code",
   "execution_count": null,
   "metadata": {},
   "outputs": [],
   "source": [
    "a, b, c = load_problem_sets(\"../data\")"
   ]
  },
  {
   "cell_type": "code",
   "execution_count": null,
   "metadata": {},
   "outputs": [],
   "source": [
    "a['Knapsack'][0].info"
   ]
  },
  {
   "cell_type": "code",
   "execution_count": null,
   "metadata": {},
   "outputs": [],
   "source": [
    "problems_test = load_problem_set(\"../data/Knapsack/train_solved\")"
   ]
  },
  {
   "cell_type": "code",
   "execution_count": null,
   "metadata": {},
   "outputs": [],
   "source": [
    "problems_test[0].info"
   ]
  },
  {
   "cell_type": "code",
   "execution_count": null,
   "metadata": {},
   "outputs": [],
   "source": [
    "results = load_results(\"../results/Knapsack/test\")"
   ]
  },
  {
   "cell_type": "code",
   "execution_count": null,
   "metadata": {},
   "outputs": [],
   "source": [
    "suffix = \"test\"\n",
    "read_dir = \"../results\"\n",
    "problem_names = (\"QUBO\", \"Knapsack\", \"MaxCut\", \"WMaxCut\", \"MVC\", \"WMVC\", \"NumberPartitioning\")\n",
    "averaged_results = {}\n",
    "for problem_name in problem_names:\n",
    "    read_path = os.path.join(read_dir, problem_name, suffix)\n",
    "    results = load_results(read_path)\n",
    "    averaged_results[problem_name] = get_averaged_results(results)"
   ]
  },
  {
   "cell_type": "code",
   "execution_count": null,
   "metadata": {},
   "outputs": [],
   "source": [
    "res = {}\n",
    "for problem_class, problem_list in averaged_results.items():\n",
    "    res[problem_class] = {}\n",
    "    for solver_name, logs in problem_list.items():\n",
    "        res[problem_class][solver_name] = logs['y_best']\n",
    "df = pd.DataFrame.from_dict(res).T\n",
    "df\n",
    "# df.mean()"
   ]
  },
  {
   "cell_type": "code",
   "execution_count": null,
   "metadata": {},
   "outputs": [],
   "source": [
    "res = {}\n",
    "for problem_class, problem_list in averaged_results.items():\n",
    "    for solver_name, logs in problem_list.items():\n",
    "        if solver_name not in res:\n",
    "            res[solver_name] = {'m_list': [], 'y_list': []}\n",
    "        res[solver_name]['m_list'].append(logs['m_list'])\n",
    "        res[solver_name]['y_list'].append(logs['y_list'])\n",
    "\n",
    "for solver_name, logs in res.items():\n",
    "    res[solver_name]['m_list'] = logs['m_list'][0]\n",
    "    res[solver_name]['y_list'] = np.mean(logs['y_list'], 0)\n",
    "\n",
    "for solver_name, logs in res.items():\n",
    "    plt.plot(logs['m_list'], logs['y_list'], label=solver_name)\n",
    "plt.legend()"
   ]
  },
  {
   "cell_type": "code",
   "execution_count": null,
   "metadata": {},
   "outputs": [],
   "source": [
    "get_best_solvers(averaged_results['Knapsack'])"
   ]
  },
  {
   "cell_type": "markdown",
   "metadata": {},
   "source": [
    "И теперь надо запустить трейн и валидацию с этими солверами. "
   ]
  },
  {
   "cell_type": "code",
   "execution_count": null,
   "metadata": {},
   "outputs": [],
   "source": [
    "problems_train = load_problem_set(\"../data/QUBO/train_solved\")\n",
    "problems_train[0].info"
   ]
  }
 ],
 "metadata": {
  "kernelspec": {
   "display_name": "pupa",
   "language": "python",
   "name": "python3"
  },
  "language_info": {
   "codemirror_mode": {
    "name": "ipython",
    "version": 3
   },
   "file_extension": ".py",
   "mimetype": "text/x-python",
   "name": "python",
   "nbconvert_exporter": "python",
   "pygments_lexer": "ipython3",
   "version": "3.11.9"
  }
 },
 "nbformat": 4,
 "nbformat_minor": 2
}
