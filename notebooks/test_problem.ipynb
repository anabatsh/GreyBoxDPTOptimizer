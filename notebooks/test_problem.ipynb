{
 "cells": [
  {
   "cell_type": "code",
   "execution_count": 3,
   "metadata": {},
   "outputs": [],
   "source": [
    "%load_ext autoreload\n",
    "%autoreload 2"
   ]
  },
  {
   "cell_type": "code",
   "execution_count": 2,
   "metadata": {},
   "outputs": [],
   "source": [
    "import sys\n",
    "root_path = '../'\n",
    "sys.path.insert(0, root_path)\n",
    "\n",
    "from problems import *\n",
    "from utils import *"
   ]
  },
  {
   "cell_type": "markdown",
   "metadata": {},
   "source": [
    "### Quadratic"
   ]
  },
  {
   "cell_type": "code",
   "execution_count": null,
   "metadata": {},
   "outputs": [],
   "source": [
    "problem = ContinuousQuadratic(d=1, n=1, seed=np.random.randint(0, 100))\n",
    "print(f'x = {problem.info[\"x_min\"]}, f(x) = {problem.info[\"y_min\"]}')\n",
    "x = np.array([0.1])\n",
    "print(f'x = {x}, f(x) = {problem.target(x)}')\n",
    "x = np.array([[0.1], [0.7]])\n",
    "print(f'x = {x.tolist()}, f(x) = {problem.target(x)}')\n",
    "\n",
    "show_problem(problem)"
   ]
  },
  {
   "cell_type": "code",
   "execution_count": null,
   "metadata": {},
   "outputs": [],
   "source": [
    "y_stats = []\n",
    "for seed in range(100):\n",
    "    problem = ContinuousQuadratic(d=1, n=1, seed=seed)\n",
    "    i = get_xaxis(problem.d, problem.n)\n",
    "    y = problem.target(i)\n",
    "    y_stats.append(y.max() - y.min())\n",
    "\n",
    "print(f'f(x) range: {np.mean(y_stats):.6f}')"
   ]
  },
  {
   "cell_type": "code",
   "execution_count": null,
   "metadata": {},
   "outputs": [],
   "source": [
    "problem = ContinuousQuadratic(d=5, n=1, seed=np.random.randint(0, 100))\n",
    "print(problem.info)\n",
    "\n",
    "x = np.array([0.1]*5)\n",
    "print(f'x = {x}, f(x) = {problem.target(x)}')\n",
    "x = np.array([[0.1]*5, [0.7]*5])\n",
    "print(f'x = {x.tolist()}, f(x) = {problem.target(x)}')\n",
    "\n",
    "show_problem(problem)"
   ]
  },
  {
   "cell_type": "code",
   "execution_count": null,
   "metadata": {},
   "outputs": [],
   "source": [
    "y_stats = []\n",
    "for seed in range(100):\n",
    "    problem = ContinuousQuadratic(d=5, n=1, seed=seed)\n",
    "    i = get_xaxis(problem.d, problem.n)\n",
    "    y = problem.target(i)\n",
    "    y_stats.append(y.max() - y.min())\n",
    "\n",
    "print(f'f(x) range: {np.mean(y_stats):.6f}')"
   ]
  },
  {
   "cell_type": "code",
   "execution_count": null,
   "metadata": {},
   "outputs": [],
   "source": [
    "problem = DiscreteQuadratic(d=1, n=1024, seed=0)\n",
    "print(problem.info)\n",
    "\n",
    "x = np.array([123])\n",
    "print(f'x = {x}, f(x) = {problem.target(x)}')\n",
    "x = np.array([[123], [555]])\n",
    "print(f'x = {x.tolist()}, f(x) = {problem.target(x)}')\n",
    "\n",
    "show_problem(problem)"
   ]
  },
  {
   "cell_type": "code",
   "execution_count": null,
   "metadata": {},
   "outputs": [],
   "source": [
    "y_stats = []\n",
    "for seed in range(100):\n",
    "    problem = DiscreteQuadratic(d=1, n=1024, seed=seed)\n",
    "    i = get_xaxis(problem.d, problem.n)\n",
    "    y = problem.target(i)\n",
    "    y_stats.append(y.max() - y.min())\n",
    "\n",
    "print(f'f(x) range: {np.mean(y_stats):.6f}')"
   ]
  },
  {
   "cell_type": "code",
   "execution_count": null,
   "metadata": {},
   "outputs": [],
   "source": [
    "problem = DiscreteQuadratic(d=10, n=2, seed=np.random.randint(0, 100))\n",
    "print(problem.info)\n",
    "\n",
    "x = np.array([0]*10)\n",
    "print(f'x = {x}, f(x) = {problem.target(x)}')\n",
    "x = np.array([[0]*10, [1]*10])\n",
    "print(f'x = {x.tolist()}, f(x) = {problem.target(x)}')\n",
    "\n",
    "show_problem(problem)"
   ]
  },
  {
   "cell_type": "code",
   "execution_count": null,
   "metadata": {},
   "outputs": [],
   "source": [
    "y_stats = []\n",
    "x_min = []\n",
    "\n",
    "for seed in range(1000):\n",
    "    problem = DiscreteQuadratic(d=10, n=2, seed=seed)\n",
    "    i = get_xaxis(problem.d, problem.n)\n",
    "    y = problem.target(i)\n",
    "    y_stats.append(y.max() - y.min())\n",
    "    x_min.append(problem.info[\"x_min\"])\n",
    "\n",
    "print(f'f(x) range: {np.mean(y_stats):.6f}')"
   ]
  },
  {
   "cell_type": "markdown",
   "metadata": {},
   "source": [
    "### Polynomial"
   ]
  },
  {
   "cell_type": "code",
   "execution_count": null,
   "metadata": {},
   "outputs": [],
   "source": [
    "problem = DiscretePolynomial(d=10, n=2, m=3, seed=np.random.randint(0, 100))\n",
    "print(problem.info)\n",
    "\n",
    "x = np.array([0]*10)\n",
    "print(f'x = {x}, f(x) = {problem.target(x)}')\n",
    "x = np.array([[0]*10, [1]*10])\n",
    "print(f'x = {x.tolist()}, f(x) = {problem.target(x)}')\n",
    "\n",
    "show_problem(problem)"
   ]
  },
  {
   "cell_type": "code",
   "execution_count": null,
   "metadata": {},
   "outputs": [],
   "source": [
    "y_stats = []\n",
    "x_min = []\n",
    "for seed in range(1000):\n",
    "    problem = DiscretePolynomial(d=10, n=2, m=2, seed=seed)\n",
    "    x_min.append(problem.info[\"x_min\"])\n",
    "    i = get_xaxis(problem.d, problem.n)\n",
    "    y = problem.target(i)\n",
    "    y_stats.append(y.max() - y.min())\n",
    "\n",
    "print(f'f(x) range: {np.mean(y_stats):.6f}')"
   ]
  },
  {
   "cell_type": "markdown",
   "metadata": {},
   "source": [
    "### QUBO"
   ]
  },
  {
   "cell_type": "code",
   "execution_count": null,
   "metadata": {},
   "outputs": [],
   "source": [
    "problem = QUBO(d=10, n=2, seed=np.random.randint(0, 100))\n",
    "print(problem.info)\n",
    "\n",
    "x = np.array([0]*10)        self.logs['m_list'].append(int(m))\n",
    "        self.logs['y_list'].append(float(y_best))"
   ]
  },
  {
   "cell_type": "code",
   "execution_count": null,
   "metadata": {},
   "outputs": [],
   "source": [
    "y_stats = []\n",
    "x_min = []\n",
    "for seed in range(1000):\n",
    "    problem = QUBO(d=10, n=2, seed=seed)\n",
    "    x_min.append(problem.info[\"x_min\"])\n",
    "    i = get_xaxis(problem.d, problem.n)\n",
    "    y = problem.target(i)\n",
    "    y_stats.append(y.max() - y.min())\n",
    "\n",
    "print(f'f(x) range: {np.mean(y_stats):.6f}')"
   ]
  }
 ],
 "metadata": {
  "kernelspec": {
   "display_name": "DPT",
   "language": "python",
   "name": "python3"
  },
  "language_info": {
   "codemirror_mode": {
    "name": "ipython",
    "version": 3
   },
   "file_extension": ".py",
   "mimetype": "text/x-python",
   "name": "python",
   "nbconvert_exporter": "python",
   "pygments_lexer": "ipython3",
   "version": "3.12.8"
  }
 },
 "nbformat": 4,
 "nbformat_minor": 2
}
