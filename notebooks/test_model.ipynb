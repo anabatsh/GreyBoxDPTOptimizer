{
 "cells": [
  {
   "cell_type": "code",
   "execution_count": 1,
   "metadata": {},
   "outputs": [],
   "source": [
    "import sys\n",
    "root_path = '../'\n",
    "sys.path.insert(0, root_path)\n",
    "\n",
    "from functools import partial\n",
    "from torch.utils.data import DataLoader\n",
    "\n",
    "from problems import *\n",
    "# from src_2d.data import OfflineDataset, OnlineDataset, custom_collate_fn\n",
    "# from src_2d.model import DPT\n",
    "from src_1d.data import OfflineDataset, OnlineDataset, custom_collate_fn\n",
    "from src_1d.model import DPT"
   ]
  },
  {
   "cell_type": "code",
   "execution_count": 2,
   "metadata": {},
   "outputs": [],
   "source": [
    "%load_ext autoreload\n",
    "%autoreload 2"
   ]
  },
  {
   "cell_type": "code",
   "execution_count": 3,
   "metadata": {},
   "outputs": [],
   "source": [
    "n = 2\n",
    "d = 5\n",
    "\n",
    "# continuous problems are not supported yet\n",
    "if n == 1:\n",
    "    problem_class = ContinuousQuadratic\n",
    "    problems = [problem_class(d=d, n=n, seed=seed) for seed in range(10)]\n",
    "else:\n",
    "    # problem_class = DiscreteQuadratic\n",
    "    # problems = [problem_class(d=d, n=n, seed=seed) for seed in range(10)]\n",
    "\n",
    "    problem_class = DiscretePolynomial\n",
    "    problems = [problem_class(d=d, n=n, m=3, seed=seed) for seed in range(10)]"
   ]
  },
  {
   "cell_type": "code",
   "execution_count": null,
   "metadata": {},
   "outputs": [],
   "source": [
    "seq_len = 3\n",
    "batch_size = 2\n",
    "\n",
    "dataset = OfflineDataset(problems, seq_len=seq_len)\n",
    "collate_fn = partial(custom_collate_fn, problem_class=problem_class)\n",
    "dataloader = DataLoader(dataset, batch_size=batch_size, collate_fn=collate_fn)\n",
    "batch = next(iter(dataloader))\n",
    "batch"
   ]
  },
  {
   "cell_type": "code",
   "execution_count": null,
   "metadata": {},
   "outputs": [],
   "source": [
    "print('query_state', batch[\"query_state\"].shape, batch[\"query_state\"].dtype)\n",
    "print('states', batch[\"states\"].shape, batch[\"states\"].dtype)\n",
    "print('actions', batch[\"actions\"].shape, batch[\"actions\"].dtype)\n",
    "print('next_states', batch[\"next_states\"].shape, batch[\"next_states\"].dtype)\n",
    "print('rewards', batch[\"rewards\"].shape, batch[\"rewards\"].dtype)\n",
    "print('target_action', batch[\"target_action\"].shape, batch[\"target_action\"].dtype)\n",
    "print('problem', batch[\"problem\"], type(batch[\"problem\"]))"
   ]
  },
  {
   "cell_type": "code",
   "execution_count": null,
   "metadata": {},
   "outputs": [],
   "source": [
    "model = DPT(\n",
    "    state_dim=d+1, action_dim=d+1, \n",
    "    seq_len=seq_len, hidden_dim=16,\n",
    "    embedding_dropout=0.0, attention_dropout=0.0, residual_dropout=0.0\n",
    ")\n",
    "outputs = model(\n",
    "    query_state=batch[\"query_state\"],\n",
    "    states=batch[\"states\"],\n",
    "    actions=batch[\"actions\"],\n",
    "    next_states=batch[\"next_states\"],\n",
    "    rewards=batch[\"rewards\"]\n",
    ")\n",
    "outputs"
   ]
  },
  {
   "cell_type": "code",
   "execution_count": null,
   "metadata": {},
   "outputs": [],
   "source": [
    "print('outputs', outputs.shape, outputs.dtype, outputs.device)"
   ]
  },
  {
   "cell_type": "code",
   "execution_count": null,
   "metadata": {},
   "outputs": [],
   "source": [
    "outputs.sum(-1)"
   ]
  }
 ],
 "metadata": {
  "kernelspec": {
   "display_name": "DPT",
   "language": "python",
   "name": "python3"
  },
  "language_info": {
   "codemirror_mode": {
    "name": "ipython",
    "version": 3
   },
   "file_extension": ".py",
   "mimetype": "text/x-python",
   "name": "python",
   "nbconvert_exporter": "python",
   "pygments_lexer": "ipython3",
   "version": "3.12.8"
  }
 },
 "nbformat": 4,
 "nbformat_minor": 2
}
