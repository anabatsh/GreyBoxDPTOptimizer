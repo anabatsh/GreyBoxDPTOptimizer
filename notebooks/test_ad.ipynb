{
 "cells": [
  {
   "cell_type": "code",
   "execution_count": null,
   "metadata": {},
   "outputs": [],
   "source": [
    "%load_ext autoreload\n",
    "%autoreload 2"
   ]
  },
  {
   "cell_type": "code",
   "execution_count": null,
   "metadata": {},
   "outputs": [],
   "source": [
    "import sys\n",
    "root_path = '../'\n",
    "sys.path.insert(0, root_path)"
   ]
  },
  {
   "cell_type": "code",
   "execution_count": null,
   "metadata": {},
   "outputs": [],
   "source": [
    "import os\n",
    "import numpy as np\n",
    "import lightning as L\n",
    "from functools import partial\n",
    "from natsort import natsorted\n",
    "from torch.utils.data import DataLoader\n",
    "\n",
    "os.environ['CUDA_VISIBLE_DEVICES'] = \"0\"\n",
    "\n",
    "from problems import Problem\n",
    "from scripts.create_problem import load_problem_set\n",
    "from train_dpt import DPTSolver, custom_collate_fn, OnlineDataset\n",
    "from utils import *"
   ]
  },
  {
   "cell_type": "code",
   "execution_count": null,
   "metadata": {},
   "outputs": [],
   "source": [
    "def get_checkpoint(run_name):\n",
    "    root_dir = os.path.join(\"../results\", \"DPT_3\", run_name, \"checkpoints\")\n",
    "    checkpoint = natsorted(os.listdir(root_dir))[-1]\n",
    "    checkpoint_file = os.path.join(root_dir, checkpoint)\n",
    "    return checkpoint_file"
   ]
  },
  {
   "cell_type": "code",
   "execution_count": null,
   "metadata": {},
   "outputs": [],
   "source": [
    "def run_model(model, read_dir, problem, name, suffix='test', budget=100):\n",
    "    problem_path = os.path.join(read_dir, problem, suffix)\n",
    "    problems = load_problem_set(problem_path)\n",
    "    dataset = OnlineDataset(problems)\n",
    "    collate_fn = partial(custom_collate_fn, problem_class=Problem)\n",
    "    dataloader = DataLoader(\n",
    "        dataset=dataset,\n",
    "        batch_size=1000,\n",
    "        num_workers=1,\n",
    "        pin_memory=True,\n",
    "        shuffle=False,\n",
    "        collate_fn=collate_fn\n",
    "    )\n",
    "    tester = L.Trainer(logger=False, precision=model.config[\"precision\"])\n",
    "    logs = {}\n",
    "    for warmup, do_sample in ((0, False), (0, True), (50, False), (50, True)):\n",
    "        model.config[\"online_steps\"] = int(budget - warmup)\n",
    "        model.config[\"do_sample\"] = do_sample\n",
    "        model.config[\"warmup\"] = warmup\n",
    "        \n",
    "        with torch.inference_mode():\n",
    "            tester.test(model=model, dataloaders=dataloader)\n",
    "\n",
    "        warmup_mode = \"warmup\" if warmup > 0 else \"no warmup\"\n",
    "        sample_mode = \"sample\" if do_sample else \"argmax\"\n",
    "        logs[f\"{name} ({warmup_mode}) ({sample_mode})\"] = {\n",
    "            \"m_list\": np.arange(budget) + 1,\n",
    "            \"y_list (mean)\": model.trajectory.cpu().numpy()\n",
    "        }\n",
    "    return logs"
   ]
  },
  {
   "cell_type": "code",
   "execution_count": null,
   "metadata": {},
   "outputs": [],
   "source": [
    "device = \"cuda:0\"\n",
    "run = \"4q309u12\"\n",
    "checkpoint_file = get_checkpoint(run)\n",
    "model = DPTSolver.load_from_checkpoint(checkpoint_file)\n",
    "model = model.to(device)"
   ]
  },
  {
   "cell_type": "code",
   "execution_count": null,
   "metadata": {},
   "outputs": [],
   "source": [
    "read_dir = \"data/test\"\n",
    "problem = \"Normal(25, 1)\"\n",
    "budget = 2 * model.config[\"model_params\"][\"seq_len\"]\n",
    "logs = run_model(model, read_dir, problem, \"AD\", budget=budget)"
   ]
  },
  {
   "cell_type": "code",
   "execution_count": null,
   "metadata": {},
   "outputs": [],
   "source": [
    "read_dir = \"results/test\"\n",
    "problem_list = (problem,) # natsorted(os.listdir(read_dir))\n",
    "\n",
    "meta_results = defaultdict(dict)\n",
    "# for problem in problem_list:\n",
    "for solver in ('RandomSearch', 'PSO', 'PROTES'):\n",
    "    meta_results[problem][solver] = get_meta_results(problem, solver, read_dir, suffix='test', budget=400)"
   ]
  },
  {
   "cell_type": "code",
   "execution_count": null,
   "metadata": {},
   "outputs": [],
   "source": [
    "meta_results[problem] |= logs\n",
    "show_meta_results(meta_results)"
   ]
  },
  {
   "cell_type": "code",
   "execution_count": null,
   "metadata": {},
   "outputs": [],
   "source": [
    "# warmup = 0\n",
    "# model.config[\"temperature\"] = lambda x: math.sqrt(x)\n",
    "# model.config[\"temperature\"] = lambda x: 5 - 4 * x\n",
    "# model.config[\"temperature\"] = lambda x: 1 / math.sqrt(1 + x)"
   ]
  }
 ],
 "metadata": {
  "kernelspec": {
   "display_name": "DPT",
   "language": "python",
   "name": "python3"
  },
  "language_info": {
   "codemirror_mode": {
    "name": "ipython",
    "version": 3
   },
   "file_extension": ".py",
   "mimetype": "text/x-python",
   "name": "python",
   "nbconvert_exporter": "python",
   "pygments_lexer": "ipython3",
   "version": "3.12.8"
  }
 },
 "nbformat": 4,
 "nbformat_minor": 4
}
