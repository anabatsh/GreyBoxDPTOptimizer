{
 "cells": [
  {
   "cell_type": "code",
   "execution_count": 1,
   "metadata": {},
   "outputs": [],
   "source": [
    "import sys\n",
    "root_path = '../'\n",
    "sys.path.insert(0, root_path)\n",
    "\n",
    "import lightning as L\n",
    "from natsort import natsorted\n",
    "\n",
    "from run import *\n",
    "from utils import *"
   ]
  },
  {
   "cell_type": "code",
   "execution_count": 2,
   "metadata": {},
   "outputs": [],
   "source": [
    "%load_ext autoreload\n",
    "%autoreload 2"
   ]
  },
  {
   "cell_type": "markdown",
   "metadata": {},
   "source": [
    "Load checkpoints"
   ]
  },
  {
   "cell_type": "code",
   "execution_count": 3,
   "metadata": {},
   "outputs": [],
   "source": [
    "run_name = \"3ylpjbd0\"\n",
    "root_dir = os.path.join(\"../results\", \"DPT_3\", run_name, \"checkpoints\")\n",
    "\n",
    "# run_name = \"results/DPT_3/3ylpjbd0/checkpoints\"\n",
    "checkpoint = natsorted(os.listdir(root_dir))[-1]\n",
    "checkpoint_file = os.path.join(root_dir, checkpoint)\n",
    "\n",
    "model = DPTSolver.load_from_checkpoint(checkpoint_file).cpu()"
   ]
  },
  {
   "cell_type": "code",
   "execution_count": null,
   "metadata": {},
   "outputs": [
    {
     "data": {
      "text/plain": [
       "'../results/DPT_3/3ylpjbd0/checkpoints/epoch=999.ckpt'"
      ]
     },
     "execution_count": 4,
     "metadata": {},
     "output_type": "execute_result"
    }
   ],
   "source": [
    "checkpoint_file"
   ]
  },
  {
   "cell_type": "markdown",
   "metadata": {},
   "source": [
    "Load the offline datasets used for train and validation as well as online dataset with the same problems that were in validation."
   ]
  },
  {
   "cell_type": "code",
   "execution_count": null,
   "metadata": {},
   "outputs": [
    {
     "name": "stdout",
     "output_type": "stream",
     "text": [
      "/workspace-SR004.nfs2/kurkin/GreyBoxDPTOptimizer\n"
     ]
    },
    {
     "name": "stderr",
     "output_type": "stream",
     "text": [
      "/home/jovyan/.mlspace/envs/kurkin_exps/lib/python3.12/site-packages/IPython/core/magics/osm.py:417: UserWarning: This is now an optional IPython functionality, setting dhist requires you to install the `pickleshare` library.\n",
      "  self.shell.db['dhist'] = compress_dhist(dhist)[-100:]\n"
     ]
    }
   ],
   "source": [
    "%cd .."
   ]
  },
  {
   "cell_type": "code",
   "execution_count": 6,
   "metadata": {},
   "outputs": [],
   "source": [
    "config = model.config\n",
    "config[\"batch_size\"] = 1024\n",
    "datamodule = ProblemDataModule(config)\n",
    "datamodule.setup()\n",
    "\n",
    "train_offline_dataset = datamodule.train_dataloader().dataset\n",
    "val_offline_dataset = datamodule.val_dataloader().dataset\n",
    "val_online_dataset = datamodule.test_dataloader().dataset"
   ]
  },
  {
   "cell_type": "code",
   "execution_count": 7,
   "metadata": {},
   "outputs": [
    {
     "data": {
      "text/plain": [
       "{'wandb_params': {'project': 'DPT_3',\n",
       "  'group': 'QUBO',\n",
       "  'name': None,\n",
       "  'entity': None,\n",
       "  'save_dir': 'results/'},\n",
       " 'model_params': {'state_dim': 11,\n",
       "  'action_dim': 11,\n",
       "  'seq_len': 100,\n",
       "  'hidden_dim': 128,\n",
       "  'num_layers': 4,\n",
       "  'num_heads': 4,\n",
       "  'attention_dropout': 0.3,\n",
       "  'residual_dropout': 0.1,\n",
       "  'embedding_dropout': 0.3},\n",
       " 'optimizer_params': {'lr': 0.003,\n",
       "  'weight_decay': 5e-05,\n",
       "  'eps': 1e-07,\n",
       "  'betas': [0.9, 0.999]},\n",
       " 'with_scheduler': True,\n",
       " 'scheduler_params': {'warmup_epochs': 25},\n",
       " 'label_smoothing': 0.05,\n",
       " 'precision': 'bf16-mixed',\n",
       " 'max_epochs': 1000,\n",
       " 'log_every_n_steps': 1,\n",
       " 'seed': 42,\n",
       " 'do_sample': False,\n",
       " 'temperature': 1,\n",
       " 'batch_size': 1024,\n",
       " 'num_workers': 24,\n",
       " 'online_steps': 100,\n",
       " 'problem_params': {'problem': 'QUBO', 'd': 10, 'n': 2, 'n_problems': 150000}}"
      ]
     },
     "execution_count": 7,
     "metadata": {},
     "output_type": "execute_result"
    }
   ],
   "source": [
    "datamodule.config"
   ]
  },
  {
   "cell_type": "code",
   "execution_count": 8,
   "metadata": {},
   "outputs": [
    {
     "name": "stdout",
     "output_type": "stream",
     "text": [
      "/workspace-SR004.nfs2/kurkin/GreyBoxDPTOptimizer/notebooks\n"
     ]
    },
    {
     "name": "stderr",
     "output_type": "stream",
     "text": [
      "/home/jovyan/.mlspace/envs/kurkin_exps/lib/python3.12/site-packages/IPython/core/magics/osm.py:417: UserWarning: This is now an optional IPython functionality, setting dhist requires you to install the `pickleshare` library.\n",
      "  self.shell.db['dhist'] = compress_dhist(dhist)[-100:]\n"
     ]
    }
   ],
   "source": [
    "%cd notebooks/"
   ]
  },
  {
   "cell_type": "code",
   "execution_count": 9,
   "metadata": {},
   "outputs": [],
   "source": [
    "def online_inference(model):\n",
    "    tester = L.Trainer(logger=False, precision=config[\"precision\"])\n",
    "    test_dataloader = datamodule.test_dataloader()\n",
    "\n",
    "    # check out two strategies of online inference:\n",
    "    # - where a predicted action is the argmax of a predicted distribution \n",
    "    # - where a predicted action is sampled with temperature = 1 from a predicted distribution \n",
    "    hparams = [\n",
    "        {\"do_sample\": False, \"temperature\": 0.0},\n",
    "        {\"do_sample\": True, \"temperature\": 1.0},\n",
    "    ]\n",
    "    results_list = []\n",
    "    for i, hparam in enumerate(hparams):\n",
    "        model.config[\"do_sample\"] = hparam[\"do_sample\"]\n",
    "        model.config[\"temperature\"] = hparam[\"temperature\"]\n",
    "        best_results = tester.test(model=model, dataloaders=test_dataloader)[0]\n",
    "        best_results = {\n",
    "            \"MAE(best x, x*)\": best_results[\"test x_mae\"],\n",
    "            \"MAE(best y, y*)\": best_results[\"test y_mae\"]\n",
    "        }\n",
    "        all_results = model.save_results\n",
    "        all_results = {\n",
    "            \"MAE(all x, x*)\": all_results[\"x_mae\"].cpu().tolist(),\n",
    "            \"MAE(all y, y*)\": all_results[\"y_mae\"].cpu().tolist()\n",
    "        }\n",
    "        results_list.append(hparam | best_results | all_results)\n",
    "    return results_list"
   ]
  },
  {
   "cell_type": "code",
   "execution_count": 10,
   "metadata": {},
   "outputs": [
    {
     "name": "stderr",
     "output_type": "stream",
     "text": [
      "Trainer will use only 1 of 4 GPUs because it is running inside an interactive / notebook environment. You may try to set `Trainer(devices=4)` but please note that multi-GPU inside interactive / notebook environments is considered experimental and unstable. Your mileage may vary.\n",
      "Using bfloat16 Automatic Mixed Precision (AMP)\n"
     ]
    },
    {
     "name": "stderr",
     "output_type": "stream",
     "text": [
      "GPU available: True (cuda), used: True\n",
      "TPU available: False, using: 0 TPU cores\n",
      "HPU available: False, using: 0 HPUs\n",
      "LOCAL_RANK: 0 - CUDA_VISIBLE_DEVICES: [0,1,2,3]\n"
     ]
    },
    {
     "data": {
      "application/vnd.jupyter.widget-view+json": {
       "model_id": "e511e8736422479580d83b3790536dd5",
       "version_major": 2,
       "version_minor": 0
      },
      "text/plain": [
       "Testing: |          | 0/? [00:00<?, ?it/s]"
      ]
     },
     "metadata": {},
     "output_type": "display_data"
    },
    {
     "name": "stderr",
     "output_type": "stream",
     "text": [
      "\n",
      "Detected KeyboardInterrupt, attempting graceful shutdown ...\n"
     ]
    },
    {
     "ename": "NameError",
     "evalue": "name 'exit' is not defined",
     "output_type": "error",
     "traceback": [
      "\u001b[0;31m---------------------------------------------------------------------------\u001b[0m",
      "\u001b[0;31mKeyboardInterrupt\u001b[0m                         Traceback (most recent call last)",
      "File \u001b[0;32m~/.mlspace/envs/kurkin_exps/lib/python3.12/site-packages/lightning/pytorch/trainer/call.py:47\u001b[0m, in \u001b[0;36m_call_and_handle_interrupt\u001b[0;34m(trainer, trainer_fn, *args, **kwargs)\u001b[0m\n\u001b[1;32m     46\u001b[0m         \u001b[38;5;28;01mreturn\u001b[39;00m trainer\u001b[38;5;241m.\u001b[39mstrategy\u001b[38;5;241m.\u001b[39mlauncher\u001b[38;5;241m.\u001b[39mlaunch(trainer_fn, \u001b[38;5;241m*\u001b[39margs, trainer\u001b[38;5;241m=\u001b[39mtrainer, \u001b[38;5;241m*\u001b[39m\u001b[38;5;241m*\u001b[39mkwargs)\n\u001b[0;32m---> 47\u001b[0m     \u001b[38;5;28;01mreturn\u001b[39;00m \u001b[43mtrainer_fn\u001b[49m\u001b[43m(\u001b[49m\u001b[38;5;241;43m*\u001b[39;49m\u001b[43margs\u001b[49m\u001b[43m,\u001b[49m\u001b[43m \u001b[49m\u001b[38;5;241;43m*\u001b[39;49m\u001b[38;5;241;43m*\u001b[39;49m\u001b[43mkwargs\u001b[49m\u001b[43m)\u001b[49m\n\u001b[1;32m     49\u001b[0m \u001b[38;5;28;01mexcept\u001b[39;00m _TunerExitException:\n",
      "File \u001b[0;32m~/.mlspace/envs/kurkin_exps/lib/python3.12/site-packages/lightning/pytorch/trainer/trainer.py:789\u001b[0m, in \u001b[0;36mTrainer._test_impl\u001b[0;34m(self, model, dataloaders, ckpt_path, verbose, datamodule)\u001b[0m\n\u001b[1;32m    786\u001b[0m ckpt_path \u001b[38;5;241m=\u001b[39m \u001b[38;5;28mself\u001b[39m\u001b[38;5;241m.\u001b[39m_checkpoint_connector\u001b[38;5;241m.\u001b[39m_select_ckpt_path(\n\u001b[1;32m    787\u001b[0m     \u001b[38;5;28mself\u001b[39m\u001b[38;5;241m.\u001b[39mstate\u001b[38;5;241m.\u001b[39mfn, ckpt_path, model_provided\u001b[38;5;241m=\u001b[39mmodel_provided, model_connected\u001b[38;5;241m=\u001b[39m\u001b[38;5;28mself\u001b[39m\u001b[38;5;241m.\u001b[39mlightning_module \u001b[38;5;129;01mis\u001b[39;00m \u001b[38;5;129;01mnot\u001b[39;00m \u001b[38;5;28;01mNone\u001b[39;00m\n\u001b[1;32m    788\u001b[0m )\n\u001b[0;32m--> 789\u001b[0m results \u001b[38;5;241m=\u001b[39m \u001b[38;5;28;43mself\u001b[39;49m\u001b[38;5;241;43m.\u001b[39;49m\u001b[43m_run\u001b[49m\u001b[43m(\u001b[49m\u001b[43mmodel\u001b[49m\u001b[43m,\u001b[49m\u001b[43m \u001b[49m\u001b[43mckpt_path\u001b[49m\u001b[38;5;241;43m=\u001b[39;49m\u001b[43mckpt_path\u001b[49m\u001b[43m)\u001b[49m\n\u001b[1;32m    790\u001b[0m \u001b[38;5;66;03m# remove the tensors from the test results\u001b[39;00m\n",
      "File \u001b[0;32m~/.mlspace/envs/kurkin_exps/lib/python3.12/site-packages/lightning/pytorch/trainer/trainer.py:982\u001b[0m, in \u001b[0;36mTrainer._run\u001b[0;34m(self, model, ckpt_path)\u001b[0m\n\u001b[1;32m    979\u001b[0m \u001b[38;5;66;03m# ----------------------------\u001b[39;00m\n\u001b[1;32m    980\u001b[0m \u001b[38;5;66;03m# RUN THE TRAINER\u001b[39;00m\n\u001b[1;32m    981\u001b[0m \u001b[38;5;66;03m# ----------------------------\u001b[39;00m\n\u001b[0;32m--> 982\u001b[0m results \u001b[38;5;241m=\u001b[39m \u001b[38;5;28;43mself\u001b[39;49m\u001b[38;5;241;43m.\u001b[39;49m\u001b[43m_run_stage\u001b[49m\u001b[43m(\u001b[49m\u001b[43m)\u001b[49m\n\u001b[1;32m    984\u001b[0m \u001b[38;5;66;03m# ----------------------------\u001b[39;00m\n\u001b[1;32m    985\u001b[0m \u001b[38;5;66;03m# POST-Training CLEAN UP\u001b[39;00m\n\u001b[1;32m    986\u001b[0m \u001b[38;5;66;03m# ----------------------------\u001b[39;00m\n",
      "File \u001b[0;32m~/.mlspace/envs/kurkin_exps/lib/python3.12/site-packages/lightning/pytorch/trainer/trainer.py:1019\u001b[0m, in \u001b[0;36mTrainer._run_stage\u001b[0;34m(self)\u001b[0m\n\u001b[1;32m   1018\u001b[0m \u001b[38;5;28;01mif\u001b[39;00m \u001b[38;5;28mself\u001b[39m\u001b[38;5;241m.\u001b[39mevaluating:\n\u001b[0;32m-> 1019\u001b[0m     \u001b[38;5;28;01mreturn\u001b[39;00m \u001b[38;5;28;43mself\u001b[39;49m\u001b[38;5;241;43m.\u001b[39;49m\u001b[43m_evaluation_loop\u001b[49m\u001b[38;5;241;43m.\u001b[39;49m\u001b[43mrun\u001b[49m\u001b[43m(\u001b[49m\u001b[43m)\u001b[49m\n\u001b[1;32m   1020\u001b[0m \u001b[38;5;28;01mif\u001b[39;00m \u001b[38;5;28mself\u001b[39m\u001b[38;5;241m.\u001b[39mpredicting:\n",
      "File \u001b[0;32m~/.mlspace/envs/kurkin_exps/lib/python3.12/site-packages/lightning/pytorch/loops/utilities.py:179\u001b[0m, in \u001b[0;36m_no_grad_context.<locals>._decorator\u001b[0;34m(self, *args, **kwargs)\u001b[0m\n\u001b[1;32m    178\u001b[0m \u001b[38;5;28;01mwith\u001b[39;00m context_manager():\n\u001b[0;32m--> 179\u001b[0m     \u001b[38;5;28;01mreturn\u001b[39;00m \u001b[43mloop_run\u001b[49m\u001b[43m(\u001b[49m\u001b[38;5;28;43mself\u001b[39;49m\u001b[43m,\u001b[49m\u001b[43m \u001b[49m\u001b[38;5;241;43m*\u001b[39;49m\u001b[43margs\u001b[49m\u001b[43m,\u001b[49m\u001b[43m \u001b[49m\u001b[38;5;241;43m*\u001b[39;49m\u001b[38;5;241;43m*\u001b[39;49m\u001b[43mkwargs\u001b[49m\u001b[43m)\u001b[49m\n",
      "File \u001b[0;32m~/.mlspace/envs/kurkin_exps/lib/python3.12/site-packages/lightning/pytorch/loops/evaluation_loop.py:144\u001b[0m, in \u001b[0;36m_EvaluationLoop.run\u001b[0;34m(self)\u001b[0m\n\u001b[1;32m    143\u001b[0m     \u001b[38;5;66;03m# run step hooks\u001b[39;00m\n\u001b[0;32m--> 144\u001b[0m     \u001b[38;5;28;43mself\u001b[39;49m\u001b[38;5;241;43m.\u001b[39;49m\u001b[43m_evaluation_step\u001b[49m\u001b[43m(\u001b[49m\u001b[43mbatch\u001b[49m\u001b[43m,\u001b[49m\u001b[43m \u001b[49m\u001b[43mbatch_idx\u001b[49m\u001b[43m,\u001b[49m\u001b[43m \u001b[49m\u001b[43mdataloader_idx\u001b[49m\u001b[43m,\u001b[49m\u001b[43m \u001b[49m\u001b[43mdataloader_iter\u001b[49m\u001b[43m)\u001b[49m\n\u001b[1;32m    145\u001b[0m \u001b[38;5;28;01mexcept\u001b[39;00m \u001b[38;5;167;01mStopIteration\u001b[39;00m:\n\u001b[1;32m    146\u001b[0m     \u001b[38;5;66;03m# this needs to wrap the `*_step` call too (not just `next`) for `dataloader_iter` support\u001b[39;00m\n",
      "File \u001b[0;32m~/.mlspace/envs/kurkin_exps/lib/python3.12/site-packages/lightning/pytorch/loops/evaluation_loop.py:433\u001b[0m, in \u001b[0;36m_EvaluationLoop._evaluation_step\u001b[0;34m(self, batch, batch_idx, dataloader_idx, dataloader_iter)\u001b[0m\n\u001b[1;32m    428\u001b[0m step_args \u001b[38;5;241m=\u001b[39m (\n\u001b[1;32m    429\u001b[0m     \u001b[38;5;28mself\u001b[39m\u001b[38;5;241m.\u001b[39m_build_step_args_from_hook_kwargs(hook_kwargs, hook_name)\n\u001b[1;32m    430\u001b[0m     \u001b[38;5;28;01mif\u001b[39;00m \u001b[38;5;129;01mnot\u001b[39;00m using_dataloader_iter\n\u001b[1;32m    431\u001b[0m     \u001b[38;5;28;01melse\u001b[39;00m (dataloader_iter,)\n\u001b[1;32m    432\u001b[0m )\n\u001b[0;32m--> 433\u001b[0m output \u001b[38;5;241m=\u001b[39m \u001b[43mcall\u001b[49m\u001b[38;5;241;43m.\u001b[39;49m\u001b[43m_call_strategy_hook\u001b[49m\u001b[43m(\u001b[49m\u001b[43mtrainer\u001b[49m\u001b[43m,\u001b[49m\u001b[43m \u001b[49m\u001b[43mhook_name\u001b[49m\u001b[43m,\u001b[49m\u001b[43m \u001b[49m\u001b[38;5;241;43m*\u001b[39;49m\u001b[43mstep_args\u001b[49m\u001b[43m)\u001b[49m\n\u001b[1;32m    435\u001b[0m \u001b[38;5;28mself\u001b[39m\u001b[38;5;241m.\u001b[39mbatch_progress\u001b[38;5;241m.\u001b[39mincrement_processed()\n",
      "File \u001b[0;32m~/.mlspace/envs/kurkin_exps/lib/python3.12/site-packages/lightning/pytorch/trainer/call.py:323\u001b[0m, in \u001b[0;36m_call_strategy_hook\u001b[0;34m(trainer, hook_name, *args, **kwargs)\u001b[0m\n\u001b[1;32m    322\u001b[0m \u001b[38;5;28;01mwith\u001b[39;00m trainer\u001b[38;5;241m.\u001b[39mprofiler\u001b[38;5;241m.\u001b[39mprofile(\u001b[38;5;124mf\u001b[39m\u001b[38;5;124m\"\u001b[39m\u001b[38;5;124m[Strategy]\u001b[39m\u001b[38;5;132;01m{\u001b[39;00mtrainer\u001b[38;5;241m.\u001b[39mstrategy\u001b[38;5;241m.\u001b[39m\u001b[38;5;18m__class__\u001b[39m\u001b[38;5;241m.\u001b[39m\u001b[38;5;18m__name__\u001b[39m\u001b[38;5;132;01m}\u001b[39;00m\u001b[38;5;124m.\u001b[39m\u001b[38;5;132;01m{\u001b[39;00mhook_name\u001b[38;5;132;01m}\u001b[39;00m\u001b[38;5;124m\"\u001b[39m):\n\u001b[0;32m--> 323\u001b[0m     output \u001b[38;5;241m=\u001b[39m \u001b[43mfn\u001b[49m\u001b[43m(\u001b[49m\u001b[38;5;241;43m*\u001b[39;49m\u001b[43margs\u001b[49m\u001b[43m,\u001b[49m\u001b[43m \u001b[49m\u001b[38;5;241;43m*\u001b[39;49m\u001b[38;5;241;43m*\u001b[39;49m\u001b[43mkwargs\u001b[49m\u001b[43m)\u001b[49m\n\u001b[1;32m    325\u001b[0m \u001b[38;5;66;03m# restore current_fx when nested context\u001b[39;00m\n",
      "File \u001b[0;32m~/.mlspace/envs/kurkin_exps/lib/python3.12/site-packages/lightning/pytorch/strategies/strategy.py:425\u001b[0m, in \u001b[0;36mStrategy.test_step\u001b[0;34m(self, *args, **kwargs)\u001b[0m\n\u001b[1;32m    424\u001b[0m     \u001b[38;5;28;01mreturn\u001b[39;00m \u001b[38;5;28mself\u001b[39m\u001b[38;5;241m.\u001b[39m_forward_redirection(\u001b[38;5;28mself\u001b[39m\u001b[38;5;241m.\u001b[39mmodel, \u001b[38;5;28mself\u001b[39m\u001b[38;5;241m.\u001b[39mlightning_module, \u001b[38;5;124m\"\u001b[39m\u001b[38;5;124mtest_step\u001b[39m\u001b[38;5;124m\"\u001b[39m, \u001b[38;5;241m*\u001b[39margs, \u001b[38;5;241m*\u001b[39m\u001b[38;5;241m*\u001b[39mkwargs)\n\u001b[0;32m--> 425\u001b[0m \u001b[38;5;28;01mreturn\u001b[39;00m \u001b[38;5;28;43mself\u001b[39;49m\u001b[38;5;241;43m.\u001b[39;49m\u001b[43mlightning_module\u001b[49m\u001b[38;5;241;43m.\u001b[39;49m\u001b[43mtest_step\u001b[49m\u001b[43m(\u001b[49m\u001b[38;5;241;43m*\u001b[39;49m\u001b[43margs\u001b[49m\u001b[43m,\u001b[49m\u001b[43m \u001b[49m\u001b[38;5;241;43m*\u001b[39;49m\u001b[38;5;241;43m*\u001b[39;49m\u001b[43mkwargs\u001b[49m\u001b[43m)\u001b[49m\n",
      "File \u001b[0;32m/workspace-SR004.nfs2/kurkin/GreyBoxDPTOptimizer/notebooks/../src/train.py:76\u001b[0m, in \u001b[0;36mDPTSolver.test_step\u001b[0;34m(self, batch, batch_idx)\u001b[0m\n\u001b[1;32m     73\u001b[0m \u001b[38;5;250m\u001b[39m\u001b[38;5;124;03m\"\"\"\u001b[39;00m\n\u001b[1;32m     74\u001b[0m \u001b[38;5;124;03monline test step\u001b[39;00m\n\u001b[1;32m     75\u001b[0m \u001b[38;5;124;03m\"\"\"\u001b[39;00m\n\u001b[0;32m---> 76\u001b[0m outputs \u001b[38;5;241m=\u001b[39m \u001b[38;5;28;43mself\u001b[39;49m\u001b[38;5;241;43m.\u001b[39;49m\u001b[43m_online_step\u001b[49m\u001b[43m(\u001b[49m\u001b[43mbatch\u001b[49m\u001b[43m)\u001b[49m\n\u001b[1;32m     77\u001b[0m results \u001b[38;5;241m=\u001b[39m \u001b[38;5;28mself\u001b[39m\u001b[38;5;241m.\u001b[39mget_metrics(\n\u001b[1;32m     78\u001b[0m     outputs\u001b[38;5;241m=\u001b[39moutputs[\u001b[38;5;124m\"\u001b[39m\u001b[38;5;124moutputs\u001b[39m\u001b[38;5;124m\"\u001b[39m], \n\u001b[1;32m     79\u001b[0m     targets\u001b[38;5;241m=\u001b[39moutputs[\u001b[38;5;124m\"\u001b[39m\u001b[38;5;124mtargets\u001b[39m\u001b[38;5;124m\"\u001b[39m], \n\u001b[1;32m     80\u001b[0m     predictions\u001b[38;5;241m=\u001b[39moutputs[\u001b[38;5;124m\"\u001b[39m\u001b[38;5;124mbest_prediction\u001b[39m\u001b[38;5;124m\"\u001b[39m]\n\u001b[1;32m     81\u001b[0m )\n",
      "File \u001b[0;32m/workspace-SR004.nfs2/kurkin/GreyBoxDPTOptimizer/notebooks/../src/train.py:168\u001b[0m, in \u001b[0;36mDPTSolver._online_step\u001b[0;34m(self, batch)\u001b[0m\n\u001b[1;32m    167\u001b[0m \u001b[38;5;28;01mfor\u001b[39;00m query_state, problem \u001b[38;5;129;01min\u001b[39;00m \u001b[38;5;28mzip\u001b[39m(batch[\u001b[38;5;124m\"\u001b[39m\u001b[38;5;124mquery_state\u001b[39m\u001b[38;5;124m\"\u001b[39m], batch[\u001b[38;5;124m\"\u001b[39m\u001b[38;5;124mproblem\u001b[39m\u001b[38;5;124m\"\u001b[39m]):\n\u001b[0;32m--> 168\u001b[0m     results \u001b[38;5;241m=\u001b[39m \u001b[38;5;28;43mself\u001b[39;49m\u001b[38;5;241;43m.\u001b[39;49m\u001b[43mrun\u001b[49m\u001b[43m(\u001b[49m\n\u001b[1;32m    169\u001b[0m \u001b[43m        \u001b[49m\u001b[43mquery_state\u001b[49m\u001b[38;5;241;43m=\u001b[39;49m\u001b[43mquery_state\u001b[49m\u001b[43m,\u001b[49m\n\u001b[1;32m    170\u001b[0m \u001b[43m        \u001b[49m\u001b[43mproblem\u001b[49m\u001b[38;5;241;43m=\u001b[39;49m\u001b[43mproblem\u001b[49m\u001b[43m,\u001b[49m\n\u001b[1;32m    171\u001b[0m \u001b[43m        \u001b[49m\u001b[43mn_steps\u001b[49m\u001b[38;5;241;43m=\u001b[39;49m\u001b[38;5;28;43mself\u001b[39;49m\u001b[38;5;241;43m.\u001b[39;49m\u001b[43mconfig\u001b[49m\u001b[43m[\u001b[49m\u001b[38;5;124;43m\"\u001b[39;49m\u001b[38;5;124;43monline_steps\u001b[39;49m\u001b[38;5;124;43m\"\u001b[39;49m\u001b[43m]\u001b[49m\u001b[43m,\u001b[49m\n\u001b[1;32m    172\u001b[0m \u001b[43m        \u001b[49m\u001b[43mdo_sample\u001b[49m\u001b[38;5;241;43m=\u001b[39;49m\u001b[38;5;28;43mself\u001b[39;49m\u001b[38;5;241;43m.\u001b[39;49m\u001b[43mconfig\u001b[49m\u001b[43m[\u001b[49m\u001b[38;5;124;43m\"\u001b[39;49m\u001b[38;5;124;43mdo_sample\u001b[39;49m\u001b[38;5;124;43m\"\u001b[39;49m\u001b[43m]\u001b[49m\u001b[43m,\u001b[49m\n\u001b[1;32m    173\u001b[0m \u001b[43m        \u001b[49m\u001b[43mtemperature_function\u001b[49m\u001b[38;5;241;43m=\u001b[39;49m\u001b[38;5;28;43;01mlambda\u001b[39;49;00m\u001b[43m \u001b[49m\u001b[43mx\u001b[49m\u001b[43m:\u001b[49m\u001b[43m \u001b[49m\u001b[38;5;28;43mself\u001b[39;49m\u001b[38;5;241;43m.\u001b[39;49m\u001b[43mconfig\u001b[49m\u001b[43m[\u001b[49m\u001b[38;5;124;43m\"\u001b[39;49m\u001b[38;5;124;43mtemperature\u001b[39;49m\u001b[38;5;124;43m\"\u001b[39;49m\u001b[43m]\u001b[49m\n\u001b[1;32m    174\u001b[0m \u001b[43m    \u001b[49m\u001b[43m)\u001b[49m\n\u001b[1;32m    175\u001b[0m     outputs\u001b[38;5;241m.\u001b[39mappend(results[\u001b[38;5;124m\"\u001b[39m\u001b[38;5;124moutputs\u001b[39m\u001b[38;5;124m\"\u001b[39m])\n",
      "File \u001b[0;32m/workspace-SR004.nfs2/kurkin/GreyBoxDPTOptimizer/notebooks/../src/train.py:207\u001b[0m, in \u001b[0;36mDPTSolver.run\u001b[0;34m(self, query_state, problem, n_steps, do_sample, temperature_function)\u001b[0m\n\u001b[1;32m    205\u001b[0m \u001b[38;5;28;01mfor\u001b[39;00m n_step \u001b[38;5;129;01min\u001b[39;00m \u001b[38;5;28mrange\u001b[39m(n_steps):\n\u001b[1;32m    206\u001b[0m     \u001b[38;5;66;03m# [1, state_dim]\u001b[39;00m\n\u001b[0;32m--> 207\u001b[0m     output \u001b[38;5;241m=\u001b[39m \u001b[38;5;28;43mself\u001b[39;49m\u001b[38;5;241;43m.\u001b[39;49m\u001b[43mmodel\u001b[49m\u001b[43m(\u001b[49m\n\u001b[1;32m    208\u001b[0m \u001b[43m        \u001b[49m\u001b[43mquery_state\u001b[49m\u001b[38;5;241;43m=\u001b[39;49m\u001b[43mquery_state\u001b[49m\u001b[43m,\u001b[49m\n\u001b[1;32m    209\u001b[0m \u001b[43m        \u001b[49m\u001b[43mstates\u001b[49m\u001b[38;5;241;43m=\u001b[39;49m\u001b[43mstates\u001b[49m\u001b[43m,\u001b[49m\n\u001b[1;32m    210\u001b[0m \u001b[43m        \u001b[49m\u001b[43mactions\u001b[49m\u001b[38;5;241;43m=\u001b[39;49m\u001b[43mactions\u001b[49m\u001b[43m,\u001b[49m\n\u001b[1;32m    211\u001b[0m \u001b[43m        \u001b[49m\u001b[43mnext_states\u001b[49m\u001b[38;5;241;43m=\u001b[39;49m\u001b[43mnext_states\u001b[49m\u001b[43m,\u001b[49m\n\u001b[1;32m    212\u001b[0m \u001b[43m        \u001b[49m\u001b[43mrewards\u001b[49m\u001b[38;5;241;43m=\u001b[39;49m\u001b[43mrewards\u001b[49m\n\u001b[1;32m    213\u001b[0m \u001b[43m    \u001b[49m\u001b[43m)\u001b[49m[:, \u001b[38;5;241m-\u001b[39m\u001b[38;5;241m1\u001b[39m, :]\n\u001b[1;32m    214\u001b[0m     \u001b[38;5;66;03m# [1]\u001b[39;00m\n",
      "File \u001b[0;32m~/.mlspace/envs/kurkin_exps/lib/python3.12/site-packages/torch/nn/modules/module.py:1736\u001b[0m, in \u001b[0;36mModule._wrapped_call_impl\u001b[0;34m(self, *args, **kwargs)\u001b[0m\n\u001b[1;32m   1735\u001b[0m \u001b[38;5;28;01melse\u001b[39;00m:\n\u001b[0;32m-> 1736\u001b[0m     \u001b[38;5;28;01mreturn\u001b[39;00m \u001b[38;5;28;43mself\u001b[39;49m\u001b[38;5;241;43m.\u001b[39;49m\u001b[43m_call_impl\u001b[49m\u001b[43m(\u001b[49m\u001b[38;5;241;43m*\u001b[39;49m\u001b[43margs\u001b[49m\u001b[43m,\u001b[49m\u001b[43m \u001b[49m\u001b[38;5;241;43m*\u001b[39;49m\u001b[38;5;241;43m*\u001b[39;49m\u001b[43mkwargs\u001b[49m\u001b[43m)\u001b[49m\n",
      "File \u001b[0;32m~/.mlspace/envs/kurkin_exps/lib/python3.12/site-packages/torch/nn/modules/module.py:1747\u001b[0m, in \u001b[0;36mModule._call_impl\u001b[0;34m(self, *args, **kwargs)\u001b[0m\n\u001b[1;32m   1744\u001b[0m \u001b[38;5;28;01mif\u001b[39;00m \u001b[38;5;129;01mnot\u001b[39;00m (\u001b[38;5;28mself\u001b[39m\u001b[38;5;241m.\u001b[39m_backward_hooks \u001b[38;5;129;01mor\u001b[39;00m \u001b[38;5;28mself\u001b[39m\u001b[38;5;241m.\u001b[39m_backward_pre_hooks \u001b[38;5;129;01mor\u001b[39;00m \u001b[38;5;28mself\u001b[39m\u001b[38;5;241m.\u001b[39m_forward_hooks \u001b[38;5;129;01mor\u001b[39;00m \u001b[38;5;28mself\u001b[39m\u001b[38;5;241m.\u001b[39m_forward_pre_hooks\n\u001b[1;32m   1745\u001b[0m         \u001b[38;5;129;01mor\u001b[39;00m _global_backward_pre_hooks \u001b[38;5;129;01mor\u001b[39;00m _global_backward_hooks\n\u001b[1;32m   1746\u001b[0m         \u001b[38;5;129;01mor\u001b[39;00m _global_forward_hooks \u001b[38;5;129;01mor\u001b[39;00m _global_forward_pre_hooks):\n\u001b[0;32m-> 1747\u001b[0m     \u001b[38;5;28;01mreturn\u001b[39;00m \u001b[43mforward_call\u001b[49m\u001b[43m(\u001b[49m\u001b[38;5;241;43m*\u001b[39;49m\u001b[43margs\u001b[49m\u001b[43m,\u001b[49m\u001b[43m \u001b[49m\u001b[38;5;241;43m*\u001b[39;49m\u001b[38;5;241;43m*\u001b[39;49m\u001b[43mkwargs\u001b[49m\u001b[43m)\u001b[49m\n\u001b[1;32m   1749\u001b[0m result \u001b[38;5;241m=\u001b[39m \u001b[38;5;28;01mNone\u001b[39;00m\n",
      "File \u001b[0;32m/workspace-SR004.nfs2/kurkin/GreyBoxDPTOptimizer/notebooks/../src/model.py:145\u001b[0m, in \u001b[0;36mDPT.forward\u001b[0;34m(self, query_state, states, actions, next_states, rewards)\u001b[0m\n\u001b[1;32m    144\u001b[0m \u001b[38;5;28;01mfor\u001b[39;00m block \u001b[38;5;129;01min\u001b[39;00m \u001b[38;5;28mself\u001b[39m\u001b[38;5;241m.\u001b[39mtransformer:\n\u001b[0;32m--> 145\u001b[0m     out \u001b[38;5;241m=\u001b[39m \u001b[43mblock\u001b[49m\u001b[43m(\u001b[49m\u001b[43mout\u001b[49m\u001b[43m)\u001b[49m\n\u001b[1;32m    147\u001b[0m \u001b[38;5;66;03m# [batch_size, seq_len + 1, action_dim]\u001b[39;00m\n",
      "File \u001b[0;32m~/.mlspace/envs/kurkin_exps/lib/python3.12/site-packages/torch/nn/modules/module.py:1736\u001b[0m, in \u001b[0;36mModule._wrapped_call_impl\u001b[0;34m(self, *args, **kwargs)\u001b[0m\n\u001b[1;32m   1735\u001b[0m \u001b[38;5;28;01melse\u001b[39;00m:\n\u001b[0;32m-> 1736\u001b[0m     \u001b[38;5;28;01mreturn\u001b[39;00m \u001b[38;5;28;43mself\u001b[39;49m\u001b[38;5;241;43m.\u001b[39;49m\u001b[43m_call_impl\u001b[49m\u001b[43m(\u001b[49m\u001b[38;5;241;43m*\u001b[39;49m\u001b[43margs\u001b[49m\u001b[43m,\u001b[49m\u001b[43m \u001b[49m\u001b[38;5;241;43m*\u001b[39;49m\u001b[38;5;241;43m*\u001b[39;49m\u001b[43mkwargs\u001b[49m\u001b[43m)\u001b[49m\n",
      "File \u001b[0;32m~/.mlspace/envs/kurkin_exps/lib/python3.12/site-packages/torch/nn/modules/module.py:1747\u001b[0m, in \u001b[0;36mModule._call_impl\u001b[0;34m(self, *args, **kwargs)\u001b[0m\n\u001b[1;32m   1744\u001b[0m \u001b[38;5;28;01mif\u001b[39;00m \u001b[38;5;129;01mnot\u001b[39;00m (\u001b[38;5;28mself\u001b[39m\u001b[38;5;241m.\u001b[39m_backward_hooks \u001b[38;5;129;01mor\u001b[39;00m \u001b[38;5;28mself\u001b[39m\u001b[38;5;241m.\u001b[39m_backward_pre_hooks \u001b[38;5;129;01mor\u001b[39;00m \u001b[38;5;28mself\u001b[39m\u001b[38;5;241m.\u001b[39m_forward_hooks \u001b[38;5;129;01mor\u001b[39;00m \u001b[38;5;28mself\u001b[39m\u001b[38;5;241m.\u001b[39m_forward_pre_hooks\n\u001b[1;32m   1745\u001b[0m         \u001b[38;5;129;01mor\u001b[39;00m _global_backward_pre_hooks \u001b[38;5;129;01mor\u001b[39;00m _global_backward_hooks\n\u001b[1;32m   1746\u001b[0m         \u001b[38;5;129;01mor\u001b[39;00m _global_forward_hooks \u001b[38;5;129;01mor\u001b[39;00m _global_forward_pre_hooks):\n\u001b[0;32m-> 1747\u001b[0m     \u001b[38;5;28;01mreturn\u001b[39;00m \u001b[43mforward_call\u001b[49m\u001b[43m(\u001b[49m\u001b[38;5;241;43m*\u001b[39;49m\u001b[43margs\u001b[49m\u001b[43m,\u001b[49m\u001b[43m \u001b[49m\u001b[38;5;241;43m*\u001b[39;49m\u001b[38;5;241;43m*\u001b[39;49m\u001b[43mkwargs\u001b[49m\u001b[43m)\u001b[49m\n\u001b[1;32m   1749\u001b[0m result \u001b[38;5;241m=\u001b[39m \u001b[38;5;28;01mNone\u001b[39;00m\n",
      "File \u001b[0;32m/workspace-SR004.nfs2/kurkin/GreyBoxDPTOptimizer/notebooks/../src/nn.py:62\u001b[0m, in \u001b[0;36mTransformerBlock.forward\u001b[0;34m(self, x)\u001b[0m\n\u001b[1;32m     61\u001b[0m     x \u001b[38;5;241m=\u001b[39m x \u001b[38;5;241m+\u001b[39m \u001b[38;5;28mself\u001b[39m\u001b[38;5;241m.\u001b[39mdrop1(\u001b[38;5;28mself\u001b[39m\u001b[38;5;241m.\u001b[39mattention(\u001b[38;5;28mself\u001b[39m\u001b[38;5;241m.\u001b[39mnorm1(x)))\n\u001b[0;32m---> 62\u001b[0m     x \u001b[38;5;241m=\u001b[39m x \u001b[38;5;241m+\u001b[39m \u001b[38;5;28mself\u001b[39m\u001b[38;5;241m.\u001b[39mdrop2(\u001b[38;5;28;43mself\u001b[39;49m\u001b[38;5;241;43m.\u001b[39;49m\u001b[43mmlp\u001b[49m\u001b[43m(\u001b[49m\u001b[38;5;28;43mself\u001b[39;49m\u001b[38;5;241;43m.\u001b[39;49m\u001b[43mnorm2\u001b[49m\u001b[43m(\u001b[49m\u001b[43mx\u001b[49m\u001b[43m)\u001b[49m\u001b[43m)\u001b[49m)\n\u001b[1;32m     63\u001b[0m \u001b[38;5;28;01melse\u001b[39;00m:\n",
      "File \u001b[0;32m~/.mlspace/envs/kurkin_exps/lib/python3.12/site-packages/torch/nn/modules/module.py:1736\u001b[0m, in \u001b[0;36mModule._wrapped_call_impl\u001b[0;34m(self, *args, **kwargs)\u001b[0m\n\u001b[1;32m   1735\u001b[0m \u001b[38;5;28;01melse\u001b[39;00m:\n\u001b[0;32m-> 1736\u001b[0m     \u001b[38;5;28;01mreturn\u001b[39;00m \u001b[38;5;28;43mself\u001b[39;49m\u001b[38;5;241;43m.\u001b[39;49m\u001b[43m_call_impl\u001b[49m\u001b[43m(\u001b[49m\u001b[38;5;241;43m*\u001b[39;49m\u001b[43margs\u001b[49m\u001b[43m,\u001b[49m\u001b[43m \u001b[49m\u001b[38;5;241;43m*\u001b[39;49m\u001b[38;5;241;43m*\u001b[39;49m\u001b[43mkwargs\u001b[49m\u001b[43m)\u001b[49m\n",
      "File \u001b[0;32m~/.mlspace/envs/kurkin_exps/lib/python3.12/site-packages/torch/nn/modules/module.py:1747\u001b[0m, in \u001b[0;36mModule._call_impl\u001b[0;34m(self, *args, **kwargs)\u001b[0m\n\u001b[1;32m   1744\u001b[0m \u001b[38;5;28;01mif\u001b[39;00m \u001b[38;5;129;01mnot\u001b[39;00m (\u001b[38;5;28mself\u001b[39m\u001b[38;5;241m.\u001b[39m_backward_hooks \u001b[38;5;129;01mor\u001b[39;00m \u001b[38;5;28mself\u001b[39m\u001b[38;5;241m.\u001b[39m_backward_pre_hooks \u001b[38;5;129;01mor\u001b[39;00m \u001b[38;5;28mself\u001b[39m\u001b[38;5;241m.\u001b[39m_forward_hooks \u001b[38;5;129;01mor\u001b[39;00m \u001b[38;5;28mself\u001b[39m\u001b[38;5;241m.\u001b[39m_forward_pre_hooks\n\u001b[1;32m   1745\u001b[0m         \u001b[38;5;129;01mor\u001b[39;00m _global_backward_pre_hooks \u001b[38;5;129;01mor\u001b[39;00m _global_backward_hooks\n\u001b[1;32m   1746\u001b[0m         \u001b[38;5;129;01mor\u001b[39;00m _global_forward_hooks \u001b[38;5;129;01mor\u001b[39;00m _global_forward_pre_hooks):\n\u001b[0;32m-> 1747\u001b[0m     \u001b[38;5;28;01mreturn\u001b[39;00m \u001b[43mforward_call\u001b[49m\u001b[43m(\u001b[49m\u001b[38;5;241;43m*\u001b[39;49m\u001b[43margs\u001b[49m\u001b[43m,\u001b[49m\u001b[43m \u001b[49m\u001b[38;5;241;43m*\u001b[39;49m\u001b[38;5;241;43m*\u001b[39;49m\u001b[43mkwargs\u001b[49m\u001b[43m)\u001b[49m\n\u001b[1;32m   1749\u001b[0m result \u001b[38;5;241m=\u001b[39m \u001b[38;5;28;01mNone\u001b[39;00m\n",
      "File \u001b[0;32m/workspace-SR004.nfs2/kurkin/GreyBoxDPTOptimizer/notebooks/../src/nn.py:17\u001b[0m, in \u001b[0;36mSwiGLUMLP.forward\u001b[0;34m(self, hidden_state)\u001b[0m\n\u001b[1;32m     16\u001b[0m \u001b[38;5;28;01mdef\u001b[39;00m\u001b[38;5;250m \u001b[39m\u001b[38;5;21mforward\u001b[39m(\u001b[38;5;28mself\u001b[39m, hidden_state):\n\u001b[0;32m---> 17\u001b[0m     \u001b[38;5;28;01mreturn\u001b[39;00m \u001b[38;5;28;43mself\u001b[39;49m\u001b[38;5;241;43m.\u001b[39;49m\u001b[43mdown_proj\u001b[49m\u001b[43m(\u001b[49m\u001b[38;5;28;43mself\u001b[39;49m\u001b[38;5;241;43m.\u001b[39;49m\u001b[43mact_fn\u001b[49m\u001b[43m(\u001b[49m\u001b[38;5;28;43mself\u001b[39;49m\u001b[38;5;241;43m.\u001b[39;49m\u001b[43mgate_proj\u001b[49m\u001b[43m(\u001b[49m\u001b[43mhidden_state\u001b[49m\u001b[43m)\u001b[49m\u001b[43m)\u001b[49m\u001b[43m \u001b[49m\u001b[38;5;241;43m*\u001b[39;49m\u001b[43m \u001b[49m\u001b[38;5;28;43mself\u001b[39;49m\u001b[38;5;241;43m.\u001b[39;49m\u001b[43mup_proj\u001b[49m\u001b[43m(\u001b[49m\u001b[43mhidden_state\u001b[49m\u001b[43m)\u001b[49m\u001b[43m)\u001b[49m\n",
      "File \u001b[0;32m~/.mlspace/envs/kurkin_exps/lib/python3.12/site-packages/torch/nn/modules/module.py:1736\u001b[0m, in \u001b[0;36mModule._wrapped_call_impl\u001b[0;34m(self, *args, **kwargs)\u001b[0m\n\u001b[1;32m   1735\u001b[0m \u001b[38;5;28;01melse\u001b[39;00m:\n\u001b[0;32m-> 1736\u001b[0m     \u001b[38;5;28;01mreturn\u001b[39;00m \u001b[38;5;28;43mself\u001b[39;49m\u001b[38;5;241;43m.\u001b[39;49m\u001b[43m_call_impl\u001b[49m\u001b[43m(\u001b[49m\u001b[38;5;241;43m*\u001b[39;49m\u001b[43margs\u001b[49m\u001b[43m,\u001b[49m\u001b[43m \u001b[49m\u001b[38;5;241;43m*\u001b[39;49m\u001b[38;5;241;43m*\u001b[39;49m\u001b[43mkwargs\u001b[49m\u001b[43m)\u001b[49m\n",
      "File \u001b[0;32m~/.mlspace/envs/kurkin_exps/lib/python3.12/site-packages/torch/nn/modules/module.py:1747\u001b[0m, in \u001b[0;36mModule._call_impl\u001b[0;34m(self, *args, **kwargs)\u001b[0m\n\u001b[1;32m   1744\u001b[0m \u001b[38;5;28;01mif\u001b[39;00m \u001b[38;5;129;01mnot\u001b[39;00m (\u001b[38;5;28mself\u001b[39m\u001b[38;5;241m.\u001b[39m_backward_hooks \u001b[38;5;129;01mor\u001b[39;00m \u001b[38;5;28mself\u001b[39m\u001b[38;5;241m.\u001b[39m_backward_pre_hooks \u001b[38;5;129;01mor\u001b[39;00m \u001b[38;5;28mself\u001b[39m\u001b[38;5;241m.\u001b[39m_forward_hooks \u001b[38;5;129;01mor\u001b[39;00m \u001b[38;5;28mself\u001b[39m\u001b[38;5;241m.\u001b[39m_forward_pre_hooks\n\u001b[1;32m   1745\u001b[0m         \u001b[38;5;129;01mor\u001b[39;00m _global_backward_pre_hooks \u001b[38;5;129;01mor\u001b[39;00m _global_backward_hooks\n\u001b[1;32m   1746\u001b[0m         \u001b[38;5;129;01mor\u001b[39;00m _global_forward_hooks \u001b[38;5;129;01mor\u001b[39;00m _global_forward_pre_hooks):\n\u001b[0;32m-> 1747\u001b[0m     \u001b[38;5;28;01mreturn\u001b[39;00m \u001b[43mforward_call\u001b[49m\u001b[43m(\u001b[49m\u001b[38;5;241;43m*\u001b[39;49m\u001b[43margs\u001b[49m\u001b[43m,\u001b[49m\u001b[43m \u001b[49m\u001b[38;5;241;43m*\u001b[39;49m\u001b[38;5;241;43m*\u001b[39;49m\u001b[43mkwargs\u001b[49m\u001b[43m)\u001b[49m\n\u001b[1;32m   1749\u001b[0m result \u001b[38;5;241m=\u001b[39m \u001b[38;5;28;01mNone\u001b[39;00m\n",
      "File \u001b[0;32m~/.mlspace/envs/kurkin_exps/lib/python3.12/site-packages/torch/nn/modules/linear.py:125\u001b[0m, in \u001b[0;36mLinear.forward\u001b[0;34m(self, input)\u001b[0m\n\u001b[1;32m    124\u001b[0m \u001b[38;5;28;01mdef\u001b[39;00m\u001b[38;5;250m \u001b[39m\u001b[38;5;21mforward\u001b[39m(\u001b[38;5;28mself\u001b[39m, \u001b[38;5;28minput\u001b[39m: Tensor) \u001b[38;5;241m-\u001b[39m\u001b[38;5;241m>\u001b[39m Tensor:\n\u001b[0;32m--> 125\u001b[0m     \u001b[38;5;28;01mreturn\u001b[39;00m \u001b[43mF\u001b[49m\u001b[38;5;241;43m.\u001b[39;49m\u001b[43mlinear\u001b[49m\u001b[43m(\u001b[49m\u001b[38;5;28;43minput\u001b[39;49m\u001b[43m,\u001b[49m\u001b[43m \u001b[49m\u001b[38;5;28;43mself\u001b[39;49m\u001b[38;5;241;43m.\u001b[39;49m\u001b[43mweight\u001b[49m\u001b[43m,\u001b[49m\u001b[43m \u001b[49m\u001b[38;5;28;43mself\u001b[39;49m\u001b[38;5;241;43m.\u001b[39;49m\u001b[43mbias\u001b[49m\u001b[43m)\u001b[49m\n",
      "\u001b[0;31mKeyboardInterrupt\u001b[0m: ",
      "\nDuring handling of the above exception, another exception occurred:\n",
      "\u001b[0;31mNameError\u001b[0m                                 Traceback (most recent call last)",
      "Cell \u001b[0;32mIn[10], line 1\u001b[0m\n\u001b[0;32m----> 1\u001b[0m results_list \u001b[38;5;241m=\u001b[39m \u001b[43monline_inference\u001b[49m\u001b[43m(\u001b[49m\u001b[43mmodel\u001b[49m\u001b[43m)\u001b[49m\n",
      "Cell \u001b[0;32mIn[9], line 16\u001b[0m, in \u001b[0;36monline_inference\u001b[0;34m(model)\u001b[0m\n\u001b[1;32m     14\u001b[0m model\u001b[38;5;241m.\u001b[39mconfig[\u001b[38;5;124m\"\u001b[39m\u001b[38;5;124mdo_sample\u001b[39m\u001b[38;5;124m\"\u001b[39m] \u001b[38;5;241m=\u001b[39m hparam[\u001b[38;5;124m\"\u001b[39m\u001b[38;5;124mdo_sample\u001b[39m\u001b[38;5;124m\"\u001b[39m]\n\u001b[1;32m     15\u001b[0m model\u001b[38;5;241m.\u001b[39mconfig[\u001b[38;5;124m\"\u001b[39m\u001b[38;5;124mtemperature\u001b[39m\u001b[38;5;124m\"\u001b[39m] \u001b[38;5;241m=\u001b[39m hparam[\u001b[38;5;124m\"\u001b[39m\u001b[38;5;124mtemperature\u001b[39m\u001b[38;5;124m\"\u001b[39m]\n\u001b[0;32m---> 16\u001b[0m best_results \u001b[38;5;241m=\u001b[39m \u001b[43mtester\u001b[49m\u001b[38;5;241;43m.\u001b[39;49m\u001b[43mtest\u001b[49m\u001b[43m(\u001b[49m\u001b[43mmodel\u001b[49m\u001b[38;5;241;43m=\u001b[39;49m\u001b[43mmodel\u001b[49m\u001b[43m,\u001b[49m\u001b[43m \u001b[49m\u001b[43mdataloaders\u001b[49m\u001b[38;5;241;43m=\u001b[39;49m\u001b[43mtest_dataloader\u001b[49m\u001b[43m)\u001b[49m[\u001b[38;5;241m0\u001b[39m]\n\u001b[1;32m     17\u001b[0m best_results \u001b[38;5;241m=\u001b[39m {\n\u001b[1;32m     18\u001b[0m     \u001b[38;5;124m\"\u001b[39m\u001b[38;5;124mMAE(best x, x*)\u001b[39m\u001b[38;5;124m\"\u001b[39m: best_results[\u001b[38;5;124m\"\u001b[39m\u001b[38;5;124mtest x_mae\u001b[39m\u001b[38;5;124m\"\u001b[39m],\n\u001b[1;32m     19\u001b[0m     \u001b[38;5;124m\"\u001b[39m\u001b[38;5;124mMAE(best y, y*)\u001b[39m\u001b[38;5;124m\"\u001b[39m: best_results[\u001b[38;5;124m\"\u001b[39m\u001b[38;5;124mtest y_mae\u001b[39m\u001b[38;5;124m\"\u001b[39m]\n\u001b[1;32m     20\u001b[0m }\n\u001b[1;32m     21\u001b[0m all_results \u001b[38;5;241m=\u001b[39m model\u001b[38;5;241m.\u001b[39msave_results\n",
      "File \u001b[0;32m~/.mlspace/envs/kurkin_exps/lib/python3.12/site-packages/lightning/pytorch/trainer/trainer.py:749\u001b[0m, in \u001b[0;36mTrainer.test\u001b[0;34m(self, model, dataloaders, ckpt_path, verbose, datamodule)\u001b[0m\n\u001b[1;32m    747\u001b[0m \u001b[38;5;28mself\u001b[39m\u001b[38;5;241m.\u001b[39mstate\u001b[38;5;241m.\u001b[39mstatus \u001b[38;5;241m=\u001b[39m TrainerStatus\u001b[38;5;241m.\u001b[39mRUNNING\n\u001b[1;32m    748\u001b[0m \u001b[38;5;28mself\u001b[39m\u001b[38;5;241m.\u001b[39mtesting \u001b[38;5;241m=\u001b[39m \u001b[38;5;28;01mTrue\u001b[39;00m\n\u001b[0;32m--> 749\u001b[0m \u001b[38;5;28;01mreturn\u001b[39;00m \u001b[43mcall\u001b[49m\u001b[38;5;241;43m.\u001b[39;49m\u001b[43m_call_and_handle_interrupt\u001b[49m\u001b[43m(\u001b[49m\n\u001b[1;32m    750\u001b[0m \u001b[43m    \u001b[49m\u001b[38;5;28;43mself\u001b[39;49m\u001b[43m,\u001b[49m\u001b[43m \u001b[49m\u001b[38;5;28;43mself\u001b[39;49m\u001b[38;5;241;43m.\u001b[39;49m\u001b[43m_test_impl\u001b[49m\u001b[43m,\u001b[49m\u001b[43m \u001b[49m\u001b[43mmodel\u001b[49m\u001b[43m,\u001b[49m\u001b[43m \u001b[49m\u001b[43mdataloaders\u001b[49m\u001b[43m,\u001b[49m\u001b[43m \u001b[49m\u001b[43mckpt_path\u001b[49m\u001b[43m,\u001b[49m\u001b[43m \u001b[49m\u001b[43mverbose\u001b[49m\u001b[43m,\u001b[49m\u001b[43m \u001b[49m\u001b[43mdatamodule\u001b[49m\n\u001b[1;32m    751\u001b[0m \u001b[43m\u001b[49m\u001b[43m)\u001b[49m\n",
      "File \u001b[0;32m~/.mlspace/envs/kurkin_exps/lib/python3.12/site-packages/lightning/pytorch/trainer/call.py:64\u001b[0m, in \u001b[0;36m_call_and_handle_interrupt\u001b[0;34m(trainer, trainer_fn, *args, **kwargs)\u001b[0m\n\u001b[1;32m     62\u001b[0m     \u001b[38;5;28;01mif\u001b[39;00m \u001b[38;5;28misinstance\u001b[39m(launcher, _SubprocessScriptLauncher):\n\u001b[1;32m     63\u001b[0m         launcher\u001b[38;5;241m.\u001b[39mkill(_get_sigkill_signal())\n\u001b[0;32m---> 64\u001b[0m     \u001b[43mexit\u001b[49m(\u001b[38;5;241m1\u001b[39m)\n\u001b[1;32m     66\u001b[0m \u001b[38;5;28;01mexcept\u001b[39;00m \u001b[38;5;167;01mBaseException\u001b[39;00m \u001b[38;5;28;01mas\u001b[39;00m exception:\n\u001b[1;32m     67\u001b[0m     _interrupt(trainer, exception)\n",
      "\u001b[0;31mNameError\u001b[0m: name 'exit' is not defined"
     ]
    }
   ],
   "source": [
    "results_list = online_inference(model)"
   ]
  },
  {
   "cell_type": "code",
   "execution_count": 24,
   "metadata": {},
   "outputs": [
    {
     "ename": "NameError",
     "evalue": "name 'results_list' is not defined",
     "output_type": "error",
     "traceback": [
      "\u001b[0;31m---------------------------------------------------------------------------\u001b[0m",
      "\u001b[0;31mNameError\u001b[0m                                 Traceback (most recent call last)",
      "Cell \u001b[0;32mIn[24], line 9\u001b[0m\n\u001b[1;32m      6\u001b[0m axes[\u001b[38;5;241m1\u001b[39m]\u001b[38;5;241m.\u001b[39mset_title(\u001b[38;5;124m'\u001b[39m\u001b[38;5;124mMAE (y, y*)\u001b[39m\u001b[38;5;124m'\u001b[39m)\n\u001b[1;32m      8\u001b[0m cmap \u001b[38;5;241m=\u001b[39m cm\u001b[38;5;241m.\u001b[39mget_cmap(\u001b[38;5;124m'\u001b[39m\u001b[38;5;124mjet\u001b[39m\u001b[38;5;124m'\u001b[39m)\n\u001b[0;32m----> 9\u001b[0m color_list \u001b[38;5;241m=\u001b[39m [cmap(c) \u001b[38;5;28;01mfor\u001b[39;00m c \u001b[38;5;129;01min\u001b[39;00m np\u001b[38;5;241m.\u001b[39mlinspace(\u001b[38;5;241m0.1\u001b[39m, \u001b[38;5;241m0.9\u001b[39m, \u001b[38;5;28mlen\u001b[39m(\u001b[43mresults_list\u001b[49m))[::\u001b[38;5;241m-\u001b[39m\u001b[38;5;241m1\u001b[39m]]\n\u001b[1;32m     10\u001b[0m \u001b[38;5;28;01mfor\u001b[39;00m results, c \u001b[38;5;129;01min\u001b[39;00m \u001b[38;5;28mzip\u001b[39m(results_list, color_list):\n\u001b[1;32m     11\u001b[0m     label \u001b[38;5;241m=\u001b[39m \u001b[38;5;124mf\u001b[39m\u001b[38;5;124m'\u001b[39m\u001b[38;5;124mt = \u001b[39m\u001b[38;5;132;01m{\u001b[39;00mresults[\u001b[38;5;124m\"\u001b[39m\u001b[38;5;124mtemperature\u001b[39m\u001b[38;5;124m\"\u001b[39m]\u001b[38;5;132;01m}\u001b[39;00m\u001b[38;5;124m'\u001b[39m \u001b[38;5;28;01mif\u001b[39;00m results[\u001b[38;5;124m\"\u001b[39m\u001b[38;5;124mdo_sample\u001b[39m\u001b[38;5;124m\"\u001b[39m] \u001b[38;5;28;01melse\u001b[39;00m \u001b[38;5;124m'\u001b[39m\u001b[38;5;124margmax\u001b[39m\u001b[38;5;124m'\u001b[39m\n",
      "\u001b[0;31mNameError\u001b[0m: name 'results_list' is not defined"
     ]
    },
    {
     "data": {
      "image/png": "[encoded data removed]",
      "text/plain": [
       "<Figure size 1000x400 with 2 Axes>"
      ]
     },
     "metadata": {},
     "output_type": "display_data"
    }
   ],
   "source": [
    "from matplotlib import colormaps as cm\n",
    "\n",
    "fig, axes = plt.subplots(1, 2, figsize=(10, 4))\n",
    "\n",
    "axes[0].set_title('MAE (x, x*)')\n",
    "axes[1].set_title('MAE (y, y*)')\n",
    "\n",
    "cmap = cm.get_cmap('jet')\n",
    "color_list = [cmap(c) for c in np.linspace(0.1, 0.9, len(results_list))[::-1]]\n",
    "for results, c in zip(results_list, color_list):\n",
    "    label = f't = {results[\"temperature\"]}' if results[\"do_sample\"] else 'argmax'\n",
    "    axes[0].plot(results[\"MAE(all x, x*)\"], c=c)\n",
    "    axes[1].plot(results[\"MAE(all y, y*)\"], c=c, label=f'{label}')\n",
    "    # print(label)\n",
    "    # print(f'MAE(best x, x*) = {results[\"MAE(best x, x*)\"]}')\n",
    "    # print(f'MAE(best y, y*) = {results[\"MAE(best y, y*)\"]}')\n",
    "    # print()\n",
    "\n",
    "for ax in axes:\n",
    "    ax.set_xlim(0, None)\n",
    "    ax.set_xlabel('Step')\n",
    "axes[1].set_yscale('log')\n",
    "axes[1].legend(loc=1)\n",
    "\n",
    "plt.tight_layout()\n",
    "plt.show()"
   ]
  },
  {
   "cell_type": "markdown",
   "metadata": {},
   "source": [
    "An example of offline mode for a problem from the train dataset."
   ]
  },
  {
   "cell_type": "code",
   "execution_count": 9,
   "metadata": {},
   "outputs": [
    {
     "name": "stdout",
     "output_type": "stream",
     "text": [
      "query_state:\n",
      "     [0, 0, 0, 0, 1, 1, 1, 0, 1, 0, 1.155209]\n",
      "context:\n",
      "     {2}\n",
      "     [0, 0, 1, 1, 0, 1, 0, 0, 0, 1, 1.226108] -> 0 -> [1, 0, 1, 1, 0, 1, 0, 0, 0, 1, 6.293175] reward: 2.1487326622009277 {0}\n",
      "     [0, 1, 0, 0, 0, 1, 1, 1, 0, 0, 8.500586] -> 0 -> [1, 1, 0, 0, 0, 1, 1, 1, 0, 0, 10.727859] reward: 4.029688835144043 {2}\n",
      "     [0, 1, 1, 1, 0, 0, 1, 1, 1, 0, 8.155829] -> 2 -> [0, 1, 0, 1, 0, 0, 1, 1, 1, 0, 6.003711] reward: 2.1069021224975586 {2}\n",
      "     [1, 1, 1, 0, 0, 1, 0, 0, 1, 0, 4.449362] -> 2 -> [1, 1, 0, 0, 0, 1, 0, 0, 1, 0, 4.089136] reward: 1.535111904144287 {2}\n",
      "     [0, 1, 0, 1, 1, 1, 0, 0, 1, 0, 5.786327] -> 6 -> [0, 1, 0, 1, 1, 1, 1, 0, 1, 0, 6.488286] reward: 2.439664840698242 {2}\n",
      "     [1, 1, 1, 1, 0, 1, 1, 1, 1, 0, 14.791676] -> 0 -> [0, 1, 1, 1, 0, 1, 1, 1, 1, 0, 11.566188] reward: 4.3396077156066895 {5}\n",
      "     [1, 1, 0, 1, 1, 0, 0, 1, 0, 1, 10.514808] -> 5 -> [1, 1, 0, 1, 1, 1, 0, 1, 0, 1, 12.211260] reward: 4.665110111236572 {5}\n",
      "     [1, 0, 1, 0, 1, 1, 1, 1, 0, 0, 11.145418] -> 3 -> [1, 0, 1, 1, 1, 1, 1, 1, 0, 0, 13.708133] reward: 5.330073356628418 {5}\n",
      "     [0, 0, 0, 1, 1, 0, 0, 0, 0, 0, 2.679908] -> 5 -> [0, 0, 0, 1, 1, 1, 0, 0, 0, 0, 1.845024] reward: 0.5612388849258423 {5}\n",
      "     [1, 1, 1, 0, 0, 0, 0, 1, 1, 0, 4.744483] -> 4 -> [1, 1, 1, 0, 1, 0, 0, 1, 1, 0, 6.276369] reward: 2.3950281143188477 {5}\n",
      "     [1, 0, 0, 0, 0, 0, 0, 1, 1, 1, 4.887478] -> 7 -> [1, 0, 0, 0, 0, 0, 0, 0, 1, 1, 3.923370] reward: 1.4275834560394287 {5}\n",
      "     [1, 1, 0, 0, 0, 1, 0, 1, 1, 1, 10.005959] -> 2 -> [1, 1, 1, 0, 0, 1, 0, 1, 1, 1, 12.280823] reward: 4.742196083068848 {5}\n",
      "     [1, 0, 0, 0, 0, 0, 1, 1, 1, 1, 5.427755] -> 9 -> [1, 0, 0, 0, 0, 0, 1, 1, 1, 0, 3.827783] reward: 1.3692893981933594 {5}\n",
      "     [0, 0, 1, 1, 1, 1, 0, 1, 1, 1, 8.372469] -> 8 -> [0, 0, 1, 1, 1, 1, 0, 1, 0, 1, 5.452357] reward: 2.2114343643188477 {5}\n",
      "     [1, 0, 0, 0, 1, 0, 1, 1, 0, 1, 5.332946] -> 9 -> [1, 0, 0, 0, 1, 0, 1, 1, 0, 0, 5.456067] reward: 2.211186647415161 {5}\n",
      "     [0, 0, 0, 1, 0, 1, 0, 1, 0, 1, 0.314860] -> 2 -> [0, 0, 1, 1, 0, 1, 0, 1, 0, 1, 2.844578] reward: 4.446517467498779 {6}\n",
      "     [1, 1, 0, 0, 1, 1, 1, 0, 0, 0, 6.161561] -> 8 -> [1, 1, 0, 0, 1, 1, 1, 0, 1, 0, 3.108683] reward: 4.786561489105225 {5}\n",
      "     [1, 0, 0, 1, 1, 1, 1, 0, 0, 1, 7.371894] -> 6 -> [1, 0, 0, 1, 1, 1, 0, 0, 0, 1, 4.776223] reward: 7.569296360015869 {5}\n",
      "     [0, 1, 0, 1, 0, 0, 0, 1, 1, 1, 6.011296] -> 2 -> [0, 1, 1, 1, 0, 0, 0, 1, 1, 1, 8.788305] reward: 13.844179153442383 {5}\n",
      "     [1, 1, 1, 0, 0, 1, 0, 1, 0, 1, 11.240219] -> 3 -> [1, 1, 1, 1, 0, 1, 0, 1, 0, 1, 13.315300] reward: 20.846704483032227 {5}\n",
      "     [0, 0, 0, 0, 0, 0, 1, 1, 1, 0, 1.664186] -> 2 -> [0, 0, 1, 0, 0, 0, 1, 1, 1, 0, 3.568048] reward: 5.431858539581299 {8}\n",
      "     [0, 1, 1, 0, 1, 1, 1, 1, 1, 0, 8.087445] -> 3 -> [0, 1, 1, 1, 1, 1, 1, 1, 1, 0, 12.778095] reward: 19.988727569580078 {5}\n",
      "     [0, 0, 0, 1, 1, 0, 1, 1, 1, 0, 4.353868] -> 1 -> [0, 1, 0, 1, 1, 0, 1, 1, 1, 0, 5.987648] reward: 9.496878623962402 {8}\n",
      "     [1, 1, 0, 1, 0, 1, 1, 1, 0, 1, 15.796933] -> 10 -> [1, 1, 0, 1, 0, 1, 1, 1, 0, 1, 15.796933] reward: 25.085647583007812 {5}\n",
      "     [0, 1, 0, 1, 0, 1, 1, 1, 1, 1, 11.738548] -> 8 -> [0, 1, 0, 1, 0, 1, 1, 1, 0, 1, 11.956926] reward: 18.898069381713867 {6}\n",
      "     [0, 0, 0, 1, 1, 0, 1, 0, 0, 0, 3.636409] -> 1 -> [0, 1, 0, 1, 1, 0, 1, 0, 0, 0, 6.704983] reward: 10.471518516540527 {5}\n",
      "     [1, 0, 1, 0, 0, 0, 1, 1, 1, 0, 6.326793] -> 10 -> [1, 0, 1, 0, 0, 0, 1, 1, 1, 0, 6.326793] reward: 10.04699420928955 {8}\n",
      "     [1, 0, 1, 1, 1, 0, 1, 0, 0, 1, 8.349313] -> 6 -> [1, 0, 1, 1, 1, 0, 0, 0, 0, 1, 7.389028] reward: 11.725409507751465 {8}\n",
      "     [0, 1, 1, 0, 0, 0, 0, 1, 1, 0, 2.701423] -> 10 -> [0, 1, 1, 0, 0, 0, 0, 1, 1, 0, 2.701423] reward: 4.289880275726318 {6}\n",
      "     [0, 0, 0, 1, 1, 0, 1, 1, 1, 0, 4.353868] -> 6 -> [0, 0, 0, 1, 1, 0, 0, 1, 1, 0, 4.001647] reward: 6.224407196044922 {6}\n",
      "     [1, 0, 0, 1, 1, 1, 1, 0, 0, 0, 6.361099] -> 3 -> [1, 0, 0, 0, 1, 1, 1, 0, 0, 0, 4.134967] reward: 6.476564884185791 {6}\n",
      "     [0, 0, 0, 0, 0, 1, 1, 0, 1, 1, 3.714779] -> 4 -> [0, 0, 0, 0, 1, 1, 1, 0, 1, 1, 1.672534] reward: 2.6518568992614746 {6}\n",
      "     [1, 1, 0, 1, 1, 0, 1, 0, 1, 1, 6.605099] -> 1 -> [1, 0, 0, 1, 1, 0, 1, 0, 1, 1, 4.786821] reward: 7.581198215484619 {6}\n",
      "     [0, 1, 1, 1, 1, 0, 1, 1, 0, 0, 12.857258] -> 4 -> [0, 1, 1, 1, 0, 0, 1, 1, 0, 0, 10.603127] reward: 16.79726791381836 {6}\n",
      "     [0, 1, 1, 0, 0, 1, 0, 1, 0, 0, 5.529629] -> 2 -> [0, 1, 0, 0, 0, 1, 0, 1, 0, 0, 4.986114] reward: 7.873095512390137 {6}\n",
      "     [0, 1, 0, 0, 1, 1, 0, 0, 1, 0, 2.823652] -> 10 -> [0, 1, 0, 0, 1, 1, 0, 0, 1, 0, 2.823652] reward: 4.483980178833008 {6}\n",
      "     [1, 0, 0, 1, 1, 0, 0, 0, 1, 1, 5.396020] -> 6 -> [1, 0, 0, 1, 1, 0, 1, 0, 1, 1, 4.786821] reward: 7.581198215484619 {6}\n",
      "     [0, 0, 1, 0, 0, 0, 1, 1, 1, 1, 4.286301] -> 10 -> [0, 0, 1, 0, 0, 0, 1, 1, 1, 1, 4.286301] reward: 6.806678295135498 {5}\n",
      "     [1, 0, 0, 1, 1, 1, 0, 1, 1, 1, 8.903600] -> 3 -> [1, 0, 0, 0, 1, 1, 0, 1, 1, 1, 7.312498] reward: 11.584268569946289 {6}\n",
      "     [1, 1, 1, 1, 1, 0, 1, 1, 0, 0, 13.855473] -> 4 -> [1, 1, 1, 1, 0, 0, 1, 1, 0, 0, 12.311146] reward: 19.37358283996582 {6}\n",
      "     [1, 0, 0, 1, 1, 1, 0, 1, 0, 1, 6.384951] -> 2 -> [1, 0, 1, 1, 1, 1, 0, 1, 0, 1, 10.556023] reward: 16.74325180053711 {5}\n",
      "     [1, 0, 0, 0, 1, 0, 1, 0, 0, 1, 2.305917] -> 8 -> [1, 0, 0, 0, 1, 0, 1, 0, 1, 1, 0.471079] reward: 0.6805211305618286 {6}\n",
      "     [1, 0, 0, 1, 1, 0, 1, 0, 0, 1, 5.409350] -> 0 -> [0, 0, 0, 1, 1, 0, 1, 0, 0, 1, 3.292625] reward: 5.100797176361084 {5}\n",
      "     [0, 1, 1, 0, 1, 1, 1, 0, 0, 1, 7.464708] -> 2 -> [0, 1, 0, 0, 1, 1, 1, 0, 0, 1, 6.820488] reward: 10.742377281188965 {5}\n",
      "     [0, 0, 1, 0, 0, 0, 0, 1, 1, 0, 3.218654] -> 4 -> [0, 0, 1, 0, 1, 0, 0, 1, 1, 0, 4.894588] reward: 7.7691121101379395 {5}\n",
      "     [0, 1, 0, 0, 1, 1, 1, 0, 1, 1, 4.542832] -> 9 -> [0, 1, 0, 0, 1, 1, 1, 0, 1, 0, 2.134220] reward: 3.3158881664276123 {5}\n",
      "     [1, 0, 1, 1, 1, 1, 0, 0, 1, 0, 8.972420] -> 2 -> [1, 0, 0, 1, 1, 1, 0, 0, 1, 0, 6.111126] reward: 9.680506706237793 {5}\n",
      "     [0, 1, 0, 1, 1, 1, 0, 1, 0, 0, 8.822739] -> 4 -> [0, 1, 0, 1, 0, 1, 0, 1, 0, 0, 5.950937] reward: 9.421670913696289 {5}\n",
      "     [0, 0, 1, 0, 1, 1, 1, 0, 0, 0, 3.033080] -> 2 -> [0, 0, 0, 0, 1, 1, 1, 0, 0, 0, 2.316900] reward: 3.673823118209839 {5}\n",
      "     [0, 1, 1, 0, 1, 1, 1, 1, 0, 1, 11.943845] -> 4 -> [0, 1, 1, 0, 0, 1, 1, 1, 0, 1, 10.522993] reward: 16.706533432006836 {8}\n",
      "     [1, 1, 1, 0, 0, 1, 1, 0, 1, 0, 4.817179] -> 4 -> [1, 1, 1, 0, 1, 1, 1, 0, 1, 0, 4.421566] reward: 7.007957935333252 {5}\n",
      "     [1, 1, 1, 0, 0, 0, 0, 0, 1, 0, 0.603922] -> 7 -> [1, 1, 1, 0, 0, 0, 0, 1, 1, 0, 4.744483] reward: 7.534275054931641 {5}\n",
      "     [1, 0, 1, 0, 1, 1, 1, 0, 0, 0, 5.446295] -> 2 -> [1, 0, 0, 0, 1, 1, 1, 0, 0, 0, 4.134967] reward: 6.500638008117676 {5}\n",
      "     [0, 0, 1, 0, 0, 0, 1, 0, 1, 1, 1.626547] -> 7 -> [0, 0, 1, 0, 0, 0, 1, 1, 1, 1, 4.286301] reward: 6.806678295135498 {5}\n",
      "     [1, 1, 0, 1, 0, 0, 0, 1, 0, 0, 7.136029] -> 5 -> [1, 1, 0, 1, 0, 1, 0, 1, 0, 0, 8.709198] reward: 13.779290199279785 {5}\n",
      "     [0, 0, 0, 1, 0, 0, 0, 1, 1, 0, 3.101352] -> 1 -> [0, 1, 0, 1, 0, 0, 0, 1, 1, 0, 4.302720] reward: 6.824674129486084 {5}\n",
      "     [1, 0, 0, 1, 0, 1, 1, 1, 0, 0, 10.047823] -> 7 -> [1, 0, 0, 1, 0, 1, 1, 0, 0, 0, 6.874119] reward: 10.812376976013184 {5}\n",
      "     [1, 0, 1, 1, 1, 0, 0, 1, 0, 0, 10.187023] -> 10 -> [1, 0, 1, 1, 1, 0, 0, 1, 0, 0, 10.187023] reward: 16.17707061767578 {5}\n",
      "     [0, 1, 1, 0, 0, 0, 0, 1, 1, 1, 4.882314] -> 2 -> [0, 1, 0, 0, 0, 0, 0, 1, 1, 1, 2.956863] reward: 4.6601104736328125 {5}\n",
      "     [1, 0, 1, 1, 0, 0, 1, 1, 0, 1, 12.010567] -> 5 -> [1, 0, 1, 1, 0, 1, 1, 1, 0, 1, 13.701040] reward: 21.690467834472656 {5}\n",
      "     [0, 0, 1, 1, 1, 0, 0, 0, 0, 0, 4.586931] -> 2 -> [0, 0, 0, 1, 1, 0, 0, 0, 0, 0, 2.679908] reward: 4.255714416503906 {5}\n",
      "     [1, 0, 1, 1, 1, 1, 0, 0, 1, 1, 11.064526] -> 7 -> [1, 0, 1, 1, 1, 1, 0, 1, 1, 1, 13.679531] reward: 21.64838981628418 {5}\n",
      "     [1, 0, 0, 0, 1, 0, 1, 0, 1, 0, -1.517789] -> 0 -> [0, 0, 0, 0, 1, 0, 1, 0, 1, 0, -2.225178] reward: 0.5258774757385254 {5}\n",
      "     [0, 0, 1, 1, 0, 1, 1, 1, 1, 1, 10.699949] -> 10 -> [0, 0, 1, 1, 0, 1, 1, 1, 1, 1, 10.699949] reward: 4.52484655380249 {5}\n",
      "     [0, 0, 0, 1, 1, 1, 1, 0, 1, 0, 4.393979] -> 8 -> [0, 0, 0, 1, 1, 1, 1, 0, 0, 0, 4.343361] reward: 2.425619125366211 {5}\n",
      "     [0, 1, 1, 0, 1, 1, 1, 0, 1, 1, 5.791911] -> 4 -> [0, 1, 1, 0, 0, 1, 1, 0, 1, 1, 6.222195] reward: 3.021171808242798 {5}\n",
      "     [0, 0, 1, 0, 1, 1, 1, 1, 0, 1, 6.922477] -> 2 -> [0, 0, 0, 0, 1, 1, 1, 1, 0, 1, 4.291660] reward: 2.411121368408203 {5}\n",
      "     [1, 0, 0, 0, 1, 0, 0, 1, 1, 0, 3.636079] -> 0 -> [0, 0, 0, 0, 1, 0, 0, 1, 1, 0, 1.850970] reward: 1.5310651063919067 {5}\n",
      "     [0, 0, 0, 1, 1, 0, 0, 1, 0, 0, 4.520174] -> 1 -> [0, 1, 0, 1, 1, 0, 0, 1, 0, 0, 8.381880] reward: 3.756551742553711 {5}\n",
      "     [0, 0, 0, 0, 0, 0, 0, 0, 1, 1, 0.761800] -> 5 -> [0, 0, 0, 0, 0, 1, 0, 0, 1, 1, 2.360104] reward: 1.7517800331115723 {5}\n",
      "     [0, 1, 1, 0, 0, 1, 0, 1, 0, 0, 5.529629] -> 6 -> [0, 1, 1, 0, 0, 1, 1, 1, 0, 0, 8.950551] reward: 3.9378480911254883 {5}\n",
      "     [0, 1, 1, 0, 0, 0, 0, 1, 0, 0, 4.697996] -> 4 -> [0, 1, 1, 0, 1, 0, 0, 1, 0, 0, 8.163672] reward: 3.685438871383667 {5}\n",
      "     [0, 1, 0, 0, 1, 1, 0, 0, 1, 0, 2.823652] -> 8 -> [0, 1, 0, 0, 1, 1, 0, 0, 0, 0, 4.416891] reward: 2.4438414573669434 {5}\n",
      "     [0, 0, 1, 0, 1, 0, 1, 0, 1, 1, 0.448744] -> 0 -> [1, 0, 1, 0, 1, 0, 1, 0, 1, 1, 3.164342] reward: 2.0166609287261963 {5}\n",
      "     [0, 0, 1, 0, 0, 0, 1, 0, 0, 0, 0.962931] -> 8 -> [0, 0, 1, 0, 0, 0, 1, 0, 1, 0, -0.225076] reward: 0.7505427002906799 {5}\n",
      "     [1, 0, 1, 0, 1, 0, 1, 0, 1, 0, 0.644132] -> 5 -> [1, 0, 1, 0, 1, 1, 1, 0, 1, 0, 5.092858] reward: 2.592529296875 {5}\n",
      "     [1, 0, 0, 1, 1, 1, 1, 0, 1, 1, 8.604527] -> 10 -> [1, 0, 0, 1, 1, 1, 1, 0, 1, 1, 8.604527] reward: 3.8345589637756348 {5}\n",
      "     [1, 0, 0, 0, 0, 0, 0, 1, 1, 1, 4.887478] -> 4 -> [1, 0, 0, 0, 1, 0, 0, 1, 1, 1, 4.062927] reward: 2.2471413612365723 {5}\n",
      "     [1, 0, 0, 0, 1, 0, 1, 1, 0, 0, 5.456067] -> 5 -> [1, 0, 0, 0, 1, 1, 1, 1, 0, 0, 8.450794] reward: 3.7602007389068604 {5}\n",
      "     [0, 0, 1, 0, 0, 1, 0, 1, 1, 1, 5.016253] -> 8 -> [0, 0, 1, 0, 0, 1, 0, 1, 0, 1, 2.084465] reward: 1.5960264205932617 {5}\n",
      "     [1, 1, 1, 0, 1, 0, 1, 0, 0, 0, 3.155704] -> 4 -> [1, 1, 1, 0, 0, 0, 1, 0, 0, 0, 2.509095] reward: 1.7536159753799438 {5}\n",
      "     [0, 1, 0, 0, 1, 1, 1, 1, 1, 0, 5.986413] -> 6 -> [0, 1, 0, 0, 1, 1, 0, 1, 1, 0, 5.617091] reward: 2.8102047443389893 {5}\n",
      "     [0, 0, 1, 1, 0, 0, 1, 0, 1, 0, 4.412959] -> 9 -> [0, 0, 1, 1, 0, 0, 1, 0, 1, 1, 6.323609] reward: 3.081577777862549 {5}\n",
      "     [1, 0, 0, 1, 1, 1, 1, 1, 0, 1, 10.039377] -> 4 -> [1, 0, 0, 1, 0, 1, 1, 1, 0, 1, 10.669724] reward: 4.50022029876709 {5}\n",
      "     [0, 1, 1, 1, 0, 0, 0, 1, 0, 0, 7.332652] -> 4 -> [0, 1, 1, 1, 1, 0, 0, 1, 0, 0, 11.068895] reward: 4.644212245941162 {5}\n",
      "     [0, 1, 1, 0, 0, 1, 1, 1, 1, 1, 9.697165] -> 4 -> [0, 1, 1, 0, 1, 1, 1, 1, 1, 1, 9.894030] reward: 4.209024429321289 {5}\n",
      "     [1, 0, 1, 0, 0, 0, 1, 0, 0, 1, 5.057942] -> 2 -> [1, 0, 0, 0, 0, 0, 1, 0, 0, 1, 4.015744] reward: 2.2164206504821777 {5}\n",
      "     [1, 1, 1, 1, 1, 0, 0, 1, 0, 1, 14.328312] -> 9 -> [1, 1, 1, 1, 1, 0, 0, 1, 0, 0, 12.398426] reward: 4.944637298583984 {5}\n",
      "     [0, 0, 0, 1, 1, 1, 1, 1, 1, 1, 6.514393] -> 7 -> [0, 0, 0, 1, 1, 1, 1, 0, 1, 1, 4.970332] reward: 2.615406036376953 {5}\n",
      "     [0, 0, 1, 0, 1, 1, 1, 1, 0, 1, 6.922477] -> 8 -> [0, 0, 1, 0, 1, 1, 1, 1, 1, 1, 6.967245] reward: 3.273770332336426 {5}\n",
      "     [0, 0, 0, 1, 1, 0, 0, 1, 0, 0, 4.520174] -> 4 -> [0, 0, 0, 1, 0, 0, 0, 1, 0, 0, 2.395892] reward: 1.74799644947052 {5}\n",
      "     [1, 0, 1, 0, 1, 0, 1, 0, 0, 1, 4.394321] -> 9 -> [1, 0, 1, 0, 1, 0, 1, 0, 0, 0, 2.852729] reward: 1.925636649131775 {5}\n",
      "     [0, 1, 0, 0, 0, 0, 0, 0, 0, 1, 3.325167] -> 7 -> [0, 1, 0, 0, 0, 0, 0, 1, 0, 1, 4.579676] reward: 2.505065441131592 {5}\n",
      "     [0, 0, 0, 1, 0, 0, 1, 0, 0, 1, 4.022080] -> 0 -> [1, 0, 0, 1, 0, 0, 1, 0, 0, 1, 6.848609] reward: 3.22171950340271 {5}\n",
      "     [0, 0, 1, 1, 0, 0, 1, 1, 0, 1, 7.842486] -> 5 -> [0, 0, 1, 1, 0, 1, 1, 1, 0, 1, 8.218885] reward: 3.677860736846924 {5}\n",
      "     [0, 1, 0, 1, 1, 0, 1, 1, 1, 1, 7.380400] -> 2 -> [0, 1, 1, 1, 1, 0, 1, 1, 1, 1, 11.110067] reward: 4.642879009246826 {5}\n",
      "     [1, 0, 0, 1, 0, 1, 1, 1, 1, 0, 11.148806] -> 6 -> [1, 0, 0, 1, 0, 1, 0, 1, 1, 0, 8.103951] reward: 3.6615374088287354 {5}\n",
      "     [1, 1, 1, 0, 0, 0, 1, 0, 1, 1, 4.585874] -> 10 -> [1, 1, 1, 0, 0, 0, 1, 0, 1, 1, 4.585874] reward: 2.5107085704803467 {5}\n",
      "     [0, 0, 0, 1, 1, 1, 0, 0, 1, 0, 3.558676] -> 5 -> [0, 0, 0, 1, 1, 0, 0, 0, 1, 0, 2.538399] reward: 1.7742327451705933 {5}\n",
      "     [1, 0, 1, 1, 0, 1, 0, 0, 0, 1, 6.293175] -> 0 -> [0, 0, 1, 1, 0, 1, 0, 0, 0, 1, 1.226108] reward: 1.4039125442504883 {5}\n",
      "target_action:\n",
      "     5\n",
      "ground truth:\n",
      "     [1, 1, 0, 0, 1, 0, 1, 0, 1, 0, -2.706094]\n",
      "metrics:\n",
      "    loss = 1.070955\n",
      "    accuracy = 0.752475\n",
      "    mae = 0.485149\n"
     ]
    }
   ],
   "source": [
    "sample, outputs, predictions, metrics = run(model, val_offline_dataset[0])\n",
    "print_sample(sample, predictions)\n",
    "print_metrics(metrics)"
   ]
  },
  {
   "cell_type": "markdown",
   "metadata": {},
   "source": [
    "An example of online mode for a problem from the validation dataset."
   ]
  },
  {
   "cell_type": "code",
   "execution_count": 11,
   "metadata": {},
   "outputs": [
    {
     "name": "stdout",
     "output_type": "stream",
     "text": [
      "query_state:\n",
      "     [0, 0, 1, 0, 1, 0, 1, 0, 0, 1, -2.002459]\n",
      "context:\n",
      "     [0, 0, 1, 0, 1, 0, 1, 0, 0, 1, -2.002459] -> 1 -> [0, 1, 1, 0, 1, 0, 1, 0, 0, 1, 0.894225] reward: 0.5\n",
      "     [0, 1, 1, 0, 1, 0, 1, 0, 0, 1, 0.894225] -> 1 -> [0, 0, 1, 0, 1, 0, 1, 0, 0, 1, -2.002459] reward: 1.74797523021698\n",
      "     [0, 0, 1, 0, 1, 0, 1, 0, 0, 1, -2.002459] -> 7 -> [0, 0, 1, 0, 1, 0, 1, 1, 0, 1, -6.601516] reward: 1.237653136253357\n",
      "     [0, 0, 1, 0, 1, 0, 1, 1, 0, 1, -6.601516] -> 0 -> [1, 0, 1, 0, 1, 0, 1, 1, 0, 1, -9.386106] reward: 0.3430200517177582\n",
      "     [1, 0, 1, 0, 1, 0, 1, 1, 0, 1, -9.386106] -> 3 -> [1, 0, 1, 1, 1, 0, 1, 1, 0, 1, -8.854720] reward: 0.35480862855911255\n",
      "     [1, 0, 1, 1, 1, 0, 1, 1, 0, 1, -8.854720] -> 8 -> [1, 0, 1, 1, 1, 0, 1, 1, 1, 1, -8.372840] reward: 0.39138615131378174\n",
      "     [1, 0, 1, 1, 1, 0, 1, 1, 1, 1, -8.372840] -> 8 -> [1, 0, 1, 1, 1, 0, 1, 1, 0, 1, -8.854720] reward: 0.5283070802688599\n",
      "     [1, 0, 1, 1, 1, 0, 1, 1, 0, 1, -8.854720] -> 5 -> [1, 0, 1, 1, 1, 1, 1, 1, 0, 1, -8.062692] reward: 0.45213478803634644\n",
      "     [1, 0, 1, 1, 1, 1, 1, 1, 0, 1, -8.062692] -> 5 -> [1, 0, 1, 1, 1, 0, 1, 1, 0, 1, -8.854720] reward: 0.5283070802688599\n",
      "     [1, 0, 1, 1, 1, 0, 1, 1, 0, 1, -8.854720] -> 8 -> [1, 0, 1, 1, 1, 0, 1, 1, 1, 1, -8.372840] reward: 0.5539769530296326\n",
      "     [1, 0, 1, 1, 1, 0, 1, 1, 1, 1, -8.372840] -> 8 -> [1, 0, 1, 1, 1, 0, 1, 1, 0, 1, -8.854720] reward: 0.5283070802688599\n",
      "     [1, 0, 1, 1, 1, 0, 1, 1, 0, 1, -8.854720] -> 5 -> [1, 0, 1, 1, 1, 1, 1, 1, 0, 1, -8.062692] reward: 0.5704985857009888\n",
      "     [1, 0, 1, 1, 1, 1, 1, 1, 0, 1, -8.062692] -> 5 -> [1, 0, 1, 1, 1, 0, 1, 1, 0, 1, -8.854720] reward: 0.5283070802688599\n",
      "     [1, 0, 1, 1, 1, 0, 1, 1, 0, 1, -8.854720] -> 10 -> [1, 0, 1, 1, 1, 0, 1, 1, 0, 1, -8.854720] reward: 0.5283070802688599\n",
      "     [1, 0, 1, 1, 1, 0, 1, 1, 0, 1, -8.854720] -> 10 -> [1, 0, 1, 1, 1, 0, 1, 1, 0, 1, -8.854720] reward: 0.5283070802688599\n",
      "     [1, 0, 1, 1, 1, 0, 1, 1, 0, 1, -8.854720] -> 10 -> [1, 0, 1, 1, 1, 0, 1, 1, 0, 1, -8.854720] reward: 0.5283070802688599\n",
      "     [1, 0, 1, 1, 1, 0, 1, 1, 0, 1, -8.854720] -> 10 -> [1, 0, 1, 1, 1, 0, 1, 1, 0, 1, -8.854720] reward: 0.5283070802688599\n",
      "     [1, 0, 1, 1, 1, 0, 1, 1, 0, 1, -8.854720] -> 10 -> [1, 0, 1, 1, 1, 0, 1, 1, 0, 1, -8.854720] reward: 0.5283070802688599\n",
      "     [1, 0, 1, 1, 1, 0, 1, 1, 0, 1, -8.854720] -> 10 -> [1, 0, 1, 1, 1, 0, 1, 1, 0, 1, -8.854720] reward: 0.5283070802688599\n",
      "     [1, 0, 1, 1, 1, 0, 1, 1, 0, 1, -8.854720] -> 10 -> [1, 0, 1, 1, 1, 0, 1, 1, 0, 1, -8.854720] reward: 0.5283070802688599\n",
      "     [1, 0, 1, 1, 1, 0, 1, 1, 0, 1, -8.854720] -> 10 -> [1, 0, 1, 1, 1, 0, 1, 1, 0, 1, -8.854720] reward: 0.5283070802688599\n",
      "     [1, 0, 1, 1, 1, 0, 1, 1, 0, 1, -8.854720] -> 10 -> [1, 0, 1, 1, 1, 0, 1, 1, 0, 1, -8.854720] reward: 0.5283070802688599\n",
      "     [1, 0, 1, 1, 1, 0, 1, 1, 0, 1, -8.854720] -> 10 -> [1, 0, 1, 1, 1, 0, 1, 1, 0, 1, -8.854720] reward: 0.5283070802688599\n",
      "     [1, 0, 1, 1, 1, 0, 1, 1, 0, 1, -8.854720] -> 10 -> [1, 0, 1, 1, 1, 0, 1, 1, 0, 1, -8.854720] reward: 0.5283070802688599\n",
      "     [1, 0, 1, 1, 1, 0, 1, 1, 0, 1, -8.854720] -> 10 -> [1, 0, 1, 1, 1, 0, 1, 1, 0, 1, -8.854720] reward: 0.5283070802688599\n",
      "     [1, 0, 1, 1, 1, 0, 1, 1, 0, 1, -8.854720] -> 10 -> [1, 0, 1, 1, 1, 0, 1, 1, 0, 1, -8.854720] reward: 0.5283070802688599\n",
      "     [1, 0, 1, 1, 1, 0, 1, 1, 0, 1, -8.854720] -> 10 -> [1, 0, 1, 1, 1, 0, 1, 1, 0, 1, -8.854720] reward: 0.5283070802688599\n",
      "     [1, 0, 1, 1, 1, 0, 1, 1, 0, 1, -8.854720] -> 10 -> [1, 0, 1, 1, 1, 0, 1, 1, 0, 1, -8.854720] reward: 0.5283070802688599\n",
      "     [1, 0, 1, 1, 1, 0, 1, 1, 0, 1, -8.854720] -> 10 -> [1, 0, 1, 1, 1, 0, 1, 1, 0, 1, -8.854720] reward: 0.5283070802688599\n",
      "     [1, 0, 1, 1, 1, 0, 1, 1, 0, 1, -8.854720] -> 10 -> [1, 0, 1, 1, 1, 0, 1, 1, 0, 1, -8.854720] reward: 0.5283070802688599\n",
      "     [1, 0, 1, 1, 1, 0, 1, 1, 0, 1, -8.854720] -> 10 -> [1, 0, 1, 1, 1, 0, 1, 1, 0, 1, -8.854720] reward: 0.5283070802688599\n",
      "     [1, 0, 1, 1, 1, 0, 1, 1, 0, 1, -8.854720] -> 10 -> [1, 0, 1, 1, 1, 0, 1, 1, 0, 1, -8.854720] reward: 0.5283070802688599\n",
      "     [1, 0, 1, 1, 1, 0, 1, 1, 0, 1, -8.854720] -> 10 -> [1, 0, 1, 1, 1, 0, 1, 1, 0, 1, -8.854720] reward: 0.5283070802688599\n",
      "     [1, 0, 1, 1, 1, 0, 1, 1, 0, 1, -8.854720] -> 10 -> [1, 0, 1, 1, 1, 0, 1, 1, 0, 1, -8.854720] reward: 0.5283070802688599\n",
      "     [1, 0, 1, 1, 1, 0, 1, 1, 0, 1, -8.854720] -> 10 -> [1, 0, 1, 1, 1, 0, 1, 1, 0, 1, -8.854720] reward: 0.5283070802688599\n",
      "     [1, 0, 1, 1, 1, 0, 1, 1, 0, 1, -8.854720] -> 10 -> [1, 0, 1, 1, 1, 0, 1, 1, 0, 1, -8.854720] reward: 0.5283070802688599\n",
      "     [1, 0, 1, 1, 1, 0, 1, 1, 0, 1, -8.854720] -> 10 -> [1, 0, 1, 1, 1, 0, 1, 1, 0, 1, -8.854720] reward: 0.5283070802688599\n",
      "     [1, 0, 1, 1, 1, 0, 1, 1, 0, 1, -8.854720] -> 10 -> [1, 0, 1, 1, 1, 0, 1, 1, 0, 1, -8.854720] reward: 0.5283070802688599\n",
      "     [1, 0, 1, 1, 1, 0, 1, 1, 0, 1, -8.854720] -> 10 -> [1, 0, 1, 1, 1, 0, 1, 1, 0, 1, -8.854720] reward: 0.5283070802688599\n",
      "     [1, 0, 1, 1, 1, 0, 1, 1, 0, 1, -8.854720] -> 10 -> [1, 0, 1, 1, 1, 0, 1, 1, 0, 1, -8.854720] reward: 0.5283070802688599\n",
      "     [1, 0, 1, 1, 1, 0, 1, 1, 0, 1, -8.854720] -> 10 -> [1, 0, 1, 1, 1, 0, 1, 1, 0, 1, -8.854720] reward: 0.5283070802688599\n",
      "     [1, 0, 1, 1, 1, 0, 1, 1, 0, 1, -8.854720] -> 10 -> [1, 0, 1, 1, 1, 0, 1, 1, 0, 1, -8.854720] reward: 0.5283070802688599\n",
      "     [1, 0, 1, 1, 1, 0, 1, 1, 0, 1, -8.854720] -> 10 -> [1, 0, 1, 1, 1, 0, 1, 1, 0, 1, -8.854720] reward: 0.5283070802688599\n",
      "     [1, 0, 1, 1, 1, 0, 1, 1, 0, 1, -8.854720] -> 10 -> [1, 0, 1, 1, 1, 0, 1, 1, 0, 1, -8.854720] reward: 0.5283070802688599\n",
      "     [1, 0, 1, 1, 1, 0, 1, 1, 0, 1, -8.854720] -> 10 -> [1, 0, 1, 1, 1, 0, 1, 1, 0, 1, -8.854720] reward: 0.5283070802688599\n",
      "     [1, 0, 1, 1, 1, 0, 1, 1, 0, 1, -8.854720] -> 10 -> [1, 0, 1, 1, 1, 0, 1, 1, 0, 1, -8.854720] reward: 0.5283070802688599\n",
      "     [1, 0, 1, 1, 1, 0, 1, 1, 0, 1, -8.854720] -> 10 -> [1, 0, 1, 1, 1, 0, 1, 1, 0, 1, -8.854720] reward: 0.5283070802688599\n",
      "     [1, 0, 1, 1, 1, 0, 1, 1, 0, 1, -8.854720] -> 10 -> [1, 0, 1, 1, 1, 0, 1, 1, 0, 1, -8.854720] reward: 0.5283070802688599\n",
      "     [1, 0, 1, 1, 1, 0, 1, 1, 0, 1, -8.854720] -> 10 -> [1, 0, 1, 1, 1, 0, 1, 1, 0, 1, -8.854720] reward: 0.5283070802688599\n",
      "     [1, 0, 1, 1, 1, 0, 1, 1, 0, 1, -8.854720] -> 10 -> [1, 0, 1, 1, 1, 0, 1, 1, 0, 1, -8.854720] reward: 0.5283070802688599\n",
      "target_state:\n",
      "     [1, 0, 1, 0, 0, 1, 1, 1, 1, 1, -10.099379]\n",
      "ground truth:\n",
      "     [1, 0, 1, 0, 0, 1, 1, 1, 1, 1, -10.099379]\n",
      "found minimum:\n",
      "     [1, 0, 1, 0, 1, 0, 1, 1, 0, 1, -9.386106]\n",
      "metrics:\n",
      "    x_mae = 3.000000\n",
      "    y_mae = 0.713272\n"
     ]
    }
   ],
   "source": [
    "# one may choose a strategy\n",
    "# model.config[\"do_sample\"] = False\n",
    "# model.config[\"temperature\"] = 0.0\n",
    "model.config[\"do_sample\"] = False\n",
    "model.config[\"temperature\"] = 1.0\n",
    "\n",
    "sample, outputs, predictions, metrics = run(model, val_online_dataset[0], n_steps=50)\n",
    "print_sample(sample, print_ta=True, print_fm=True)\n",
    "print_metrics(metrics)"
   ]
  },
  {
   "cell_type": "code",
   "execution_count": 13,
   "metadata": {},
   "outputs": [
    {
     "data": {
      "text/plain": [
       "torch.Size([50, 11])"
      ]
     },
     "execution_count": 13,
     "metadata": {},
     "output_type": "execute_result"
    }
   ],
   "source": [
    "outputs.shape"
   ]
  },
  {
   "cell_type": "code",
   "execution_count": null,
   "metadata": {},
   "outputs": [
    {
     "name": "stderr",
     "output_type": "stream",
     "text": [
      "[autoreload of src.train failed: Traceback (most recent call last):\n",
      "  File \"/home/jovyan/.mlspace/envs/kurkin_exps/lib/python3.12/site-packages/IPython/extensions/autoreload.py\", line 276, in check\n",
      "    superreload(m, reload, self.old_objects)\n",
      "  File \"/home/jovyan/.mlspace/envs/kurkin_exps/lib/python3.12/site-packages/IPython/extensions/autoreload.py\", line 475, in superreload\n",
      "    module = reload(module)\n",
      "             ^^^^^^^^^^^^^^\n",
      "  File \"/home/jovyan/.mlspace/envs/kurkin_exps/lib/python3.12/importlib/__init__.py\", line 131, in reload\n",
      "    _bootstrap._exec(spec, module)\n",
      "  File \"<frozen importlib._bootstrap>\", line 866, in _exec\n",
      "  File \"<frozen importlib._bootstrap_external>\", line 995, in exec_module\n",
      "  File \"<frozen importlib._bootstrap_external>\", line 1133, in get_code\n",
      "  File \"<frozen importlib._bootstrap_external>\", line 1063, in source_to_code\n",
      "  File \"<frozen importlib._bootstrap>\", line 488, in _call_with_frames_removed\n",
      "  File \"/workspace-SR004.nfs2/kurkin/GreyBoxDPTOptimizer/notebooks/../src/train.py\", line 80\n",
      "    predictions=outputs[\"best_prediction\"]\n",
      "                \n",
      "SyntaxError: invalid syntax. Perhaps you forgot a comma?\n",
      "]\n"
     ]
    }
   ],
   "source": [
    "from tqdm.auto import tqdm\n",
    "\n",
    "def online_inference_dataset(model, dataset, idx):\n",
    "    hparams = [\n",
    "        {\"do_sample\": False, \"temperature\": 0.0},\n",
    "        {\"do_sample\": True, \"temperature\": 1.0},\n",
    "    ]\n",
    "    results_list = []\n",
    "    for i, hparam in enumerate(hparams):\n",
    "        model.config[\"do_sample\"] = hparam[\"do_sample\"]\n",
    "        model.config[\"temperature\"] = hparam[\"temperature\"]\n",
    "        all_results = {\"x_mae\": [], \"y_mae\": []}\n",
    "        for i in tqdm(idx):\n",
    "            with torch.inference_mode():\n",
    "                _, _, _, metrics = run(model, dataset[i], n_steps=50)\n",
    "            for k in metrics:\n",
    "                all_results[k].append(metrics[k].detach().cpu().numpy())\n",
    "        for k in metrics:\n",
    "                all_results[k] = np.vstack(all_results[k]).mean(0)\n",
    "        all_results = {\n",
    "            \"MAE(all x, x*)\": all_results[\"x_mae\"],\n",
    "            \"MAE(all y, y*)\": all_results[\"y_mae\"]\n",
    "        }\n",
    "        results_list.append(hparam | all_results)\n",
    "    return results_list"
   ]
  },
  {
   "cell_type": "code",
   "execution_count": 31,
   "metadata": {},
   "outputs": [
    {
     "data": {
      "text/plain": [
       "(10, 50)"
      ]
     },
     "execution_count": 31,
     "metadata": {},
     "output_type": "execute_result"
    }
   ],
   "source": [
    "np.vstack(res[0][ 'MAE(all y, y*)']).shape"
   ]
  },
  {
   "cell_type": "code",
   "execution_count": 21,
   "metadata": {},
   "outputs": [
    {
     "data": {
      "application/vnd.jupyter.widget-view+json": {
       "model_id": "019a76898618444786539a4f80f29730",
       "version_major": 2,
       "version_minor": 0
      },
      "text/plain": [
       "  0%|          | 0/10 [00:00<?, ?it/s]"
      ]
     },
     "metadata": {},
     "output_type": "display_data"
    },
    {
     "data": {
      "application/vnd.jupyter.widget-view+json": {
       "model_id": "6aed5704806d4d0f8d6831a249b1cf9b",
       "version_major": 2,
       "version_minor": 0
      },
      "text/plain": [
       "  0%|          | 0/10 [00:00<?, ?it/s]"
      ]
     },
     "metadata": {},
     "output_type": "display_data"
    }
   ],
   "source": [
    "res = online_inference_dataset(model, val_online_dataset, list(range(10)))"
   ]
  },
  {
   "cell_type": "code",
   "execution_count": 32,
   "metadata": {},
   "outputs": [
    {
     "data": {
      "image/png": "[encoded data removed]",
      "text/plain": [
       "<Figure size 1000x400 with 2 Axes>"
      ]
     },
     "metadata": {},
     "output_type": "display_data"
    }
   ],
   "source": [
    "from matplotlib import colormaps as cm\n",
    "\n",
    "fig, axes = plt.subplots(1, 2, figsize=(10, 4))\n",
    "\n",
    "axes[0].set_title('MAE (x, x*)')\n",
    "axes[1].set_title('MAE (y, y*)')\n",
    "\n",
    "cmap = cm.get_cmap('jet')\n",
    "color_list = [cmap(c) for c in np.linspace(0.1, 0.9, len(res))[::-1]]\n",
    "for results, c in zip(res, color_list):\n",
    "    label = f't = {results[\"temperature\"]}' if results[\"do_sample\"] else 'argmax'\n",
    "    axes[0].plot(results[\"MAE(all x, x*)\"], c=c)\n",
    "    axes[1].plot(results[\"MAE(all y, y*)\"], c=c, label=f'{label}')\n",
    "    # print(label)\n",
    "    # print(f'MAE(best x, x*) = {results[\"MAE(best x, x*)\"]}')\n",
    "    # print(f'MAE(best y, y*) = {results[\"MAE(best y, y*)\"]}')\n",
    "    # print()\n",
    "\n",
    "for ax in axes:\n",
    "    ax.set_xlim(0, None)\n",
    "    ax.set_xlabel('Step')\n",
    "axes[1].set_yscale('log')\n",
    "axes[1].legend(loc=1)\n",
    "\n",
    "plt.tight_layout()\n",
    "plt.show()"
   ]
  },
  {
   "cell_type": "code",
   "execution_count": null,
   "metadata": {},
   "outputs": [],
   "source": []
  }
 ],
 "metadata": {
  "kernelspec": {
   "display_name": "kurkin_exps",
   "language": "python",
   "name": "python3"
  },
  "language_info": {
   "codemirror_mode": {
    "name": "ipython",
    "version": 3
   },
   "file_extension": ".py",
   "mimetype": "text/x-python",
   "name": "python",
   "nbconvert_exporter": "python",
   "pygments_lexer": "ipython3",
   "version": "3.12.8"
  }
 },
 "nbformat": 4,
 "nbformat_minor": 2
}
