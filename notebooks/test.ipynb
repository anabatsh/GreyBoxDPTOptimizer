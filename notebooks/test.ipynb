{
 "cells": [
  {
   "cell_type": "code",
   "execution_count": 1,
   "metadata": {},
   "outputs": [],
   "source": [
    "import sys\n",
    "root_path = '../'\n",
    "sys.path.insert(0, root_path)\n",
    "\n",
    "import lightning as L\n",
    "from natsort import natsorted\n",
    "\n",
    "from run import *\n",
    "from utils import *"
   ]
  },
  {
   "cell_type": "code",
   "execution_count": 2,
   "metadata": {},
   "outputs": [],
   "source": [
    "%load_ext autoreload\n",
    "%autoreload 2"
   ]
  },
  {
   "cell_type": "markdown",
   "metadata": {},
   "source": [
    "Load checkpoints"
   ]
  },
  {
   "cell_type": "code",
   "execution_count": 3,
   "metadata": {},
   "outputs": [],
   "source": [
    "run_name = \"5zfoags0\"\n",
    "root_dir = os.path.join(\"../../results\", \"DPT_3\", run_name, \"checkpoints\")\n",
    "checkpoint = natsorted(os.listdir(root_dir))[-1]\n",
    "checkpoint_file = os.path.join(root_dir, checkpoint)\n",
    "\n",
    "model = DPTSolver.load_from_checkpoint(checkpoint_file).cpu()"
   ]
  },
  {
   "cell_type": "markdown",
   "metadata": {},
   "source": [
    "Load the offline datasets used for train and validation as well as online dataset with the same problems that were in validation."
   ]
  },
  {
   "cell_type": "code",
   "execution_count": null,
   "metadata": {},
   "outputs": [],
   "source": [
    "config = model.config\n",
    "config['n_problems'] = 100 # for a fast check\n",
    "dl = get_dataloaders(config)\n",
    "\n",
    "train_offline_dataset = dl[\"train_dataloaders\"].dataset\n",
    "val_offline_dataset = dl[\"val_dataloaders\"][0].dataset\n",
    "val_online_dataset = dl[\"val_dataloaders\"][1].dataset"
   ]
  },
  {
   "cell_type": "code",
   "execution_count": 5,
   "metadata": {},
   "outputs": [],
   "source": [
    "def online_inference(model):\n",
    "    tester = L.Trainer(logger=False, precision=config[\"precision\"])\n",
    "    test_dataloader = dl[\"val_dataloaders\"][1]\n",
    "\n",
    "    # check out two strategies of online inference:\n",
    "    # - where a predicted action is the argmax of a predicted distribution \n",
    "    # - where a predicted action is sampled with temperature = 1 from a predicted distribution \n",
    "    hparams = [\n",
    "        {\"do_sample\": False, \"temperature\": 0.0},\n",
    "        {\"do_sample\": True, \"temperature\": 1.0},\n",
    "    ]\n",
    "    results_list = []\n",
    "    for i, hparam in enumerate(hparams):\n",
    "        model.config[\"do_sample\"] = hparam[\"do_sample\"]\n",
    "        model.config[\"temperature\"] = hparam[\"temperature\"]\n",
    "        best_results = tester.test(model=model, dataloaders=test_dataloader)[0]\n",
    "        best_results = {\n",
    "            \"MAE(best x, x*)\": best_results[\"test x_mae\"],\n",
    "            \"MAE(best y, y*)\": best_results[\"test y_mae\"]\n",
    "        }\n",
    "        all_results = model.save_results\n",
    "        all_results = {\n",
    "            \"MAE(all x, x*)\": all_results[\"x_mae\"].cpu().tolist(),\n",
    "            \"MAE(all y, y*)\": all_results[\"y_mae\"].cpu().tolist()\n",
    "        }\n",
    "        results_list.append(hparam | best_results | all_results)\n",
    "    return results_list"
   ]
  },
  {
   "cell_type": "code",
   "execution_count": null,
   "metadata": {},
   "outputs": [],
   "source": [
    "results_list = online_inference(model)"
   ]
  },
  {
   "cell_type": "code",
   "execution_count": null,
   "metadata": {},
   "outputs": [],
   "source": [
    "from matplotlib import colormaps as cm\n",
    "\n",
    "fig, axes = plt.subplots(1, 2, figsize=(10, 4))\n",
    "\n",
    "axes[0].set_title('MAE (x, x*)')\n",
    "axes[1].set_title('MAE (y, y*)')\n",
    "\n",
    "cmap = cm.get_cmap('jet')\n",
    "color_list = [cmap(c) for c in np.linspace(0.1, 0.9, len(results_list))[::-1]]\n",
    "for results, c in zip(results_list, color_list):\n",
    "    label = f't = {results[\"temperature\"]}' if results[\"do_sample\"] else 'argmax'\n",
    "    axes[0].plot(results[\"MAE(all x, x*)\"], c=c)\n",
    "    axes[1].plot(results[\"MAE(all y, y*)\"], c=c, label=f'{label}')\n",
    "    # print(label)\n",
    "    # print(f'MAE(best x, x*) = {results[\"MAE(best x, x*)\"]}')\n",
    "    # print(f'MAE(best y, y*) = {results[\"MAE(best y, y*)\"]}')\n",
    "    # print()\n",
    "\n",
    "for ax in axes:\n",
    "    ax.set_xlim(0, None)\n",
    "    ax.set_xlabel('Step')\n",
    "axes[1].set_yscale('log')\n",
    "axes[1].legend(loc=1)\n",
    "\n",
    "plt.tight_layout()\n",
    "plt.show()"
   ]
  },
  {
   "cell_type": "markdown",
   "metadata": {},
   "source": [
    "An example of offline mode for a problem from the train dataset."
   ]
  },
  {
   "cell_type": "code",
   "execution_count": null,
   "metadata": {},
   "outputs": [],
   "source": [
    "sample, outputs, predictions, metrics = run(model, train_offline_dataset[0])\n",
    "print_sample(sample, predictions)\n",
    "print_metrics(metrics)"
   ]
  },
  {
   "cell_type": "markdown",
   "metadata": {},
   "source": [
    "An example of online mode for a problem from the validation dataset."
   ]
  },
  {
   "cell_type": "code",
   "execution_count": null,
   "metadata": {},
   "outputs": [],
   "source": [
    "# one may choose a strategy\n",
    "# model.config[\"do_sample\"] = False\n",
    "# model.config[\"temperature\"] = 0.0\n",
    "model.config[\"do_sample\"] = True\n",
    "model.config[\"temperature\"] = 1.0\n",
    "\n",
    "sample, outputs, predictions, metrics = run(model, val_online_dataset[0])\n",
    "print_sample(sample, print_ta=False, print_fm=True)\n",
    "print_metrics(metrics)"
   ]
  }
 ],
 "metadata": {
  "kernelspec": {
   "display_name": "DPT",
   "language": "python",
   "name": "python3"
  },
  "language_info": {
   "codemirror_mode": {
    "name": "ipython",
    "version": 3
   },
   "file_extension": ".py",
   "mimetype": "text/x-python",
   "name": "python",
   "nbconvert_exporter": "python",
   "pygments_lexer": "ipython3",
   "version": "3.12.8"
  }
 },
 "nbformat": 4,
 "nbformat_minor": 2
}
