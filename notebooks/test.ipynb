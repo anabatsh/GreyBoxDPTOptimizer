{
 "cells": [
  {
   "cell_type": "code",
   "execution_count": 35,
   "metadata": {},
   "outputs": [],
   "source": [
    "import sys\n",
    "root_path = '../'\n",
    "sys.path.insert(0, root_path)\n",
    "\n",
    "import lightning as L\n",
    "from natsort import natsorted\n",
    "\n",
    "from run import *\n",
    "from utils import *"
   ]
  },
  {
   "cell_type": "code",
   "execution_count": null,
   "metadata": {},
   "outputs": [],
   "source": [
    "%load_ext autoreload\n",
    "%autoreload 2"
   ]
  },
  {
   "cell_type": "code",
   "execution_count": 37,
   "metadata": {},
   "outputs": [],
   "source": [
    "run_name = \"strategy21_exp3\"\n",
    "root_dir = os.path.join(\"../..\", \"results\", \"DPT_2\", run_name, \"checkpoints\")\n",
    "# checkpoint_file = get_best_checkpoint(root_dir, 'epoch')\n",
    "checkpoint_file = os.path.join(root_dir, \"epoch=999.ckpt\")\n",
    "\n",
    "model = DPTSolver.load_from_checkpoint(checkpoint_file)"
   ]
  },
  {
   "cell_type": "code",
   "execution_count": null,
   "metadata": {},
   "outputs": [],
   "source": [
    "config = model.config\n",
    "config['n_problems'] = 100\n",
    "dl = get_dataloaders(config)\n",
    "\n",
    "train_offline_dataset = dl[\"train_dataloaders\"].dataset\n",
    "val_offline_dataset = dl[\"val_dataloaders\"][0].dataset\n",
    "val_online_dataset = dl[\"val_dataloaders\"][1].dataset"
   ]
  },
  {
   "cell_type": "code",
   "execution_count": null,
   "metadata": {},
   "outputs": [],
   "source": [
    "tester = L.Trainer(\n",
    "    logger=False,\n",
    "    precision=config[\"precision\"]\n",
    ")\n",
    "test_dataloader = dl[\"val_dataloaders\"][1]\n",
    "\n",
    "hparams = [\n",
    "    {\"do_sample\": False, \"temperature\": 0.0},\n",
    "    # {\"do_sample\": True, \"temperature\": 1.0},\n",
    "]\n",
    "results_list = []\n",
    "for hparam in hparams:\n",
    "    model.config[\"do_sample\"] = hparam[\"do_sample\"]\n",
    "    model.config[\"temperature\"] = hparam[\"temperature\"]\n",
    "    tester.test(model=model, dataloaders=test_dataloader)#, verbose=False)\n",
    "    results = {key: val.cpu().tolist() for key, val in model.save_results.items()}\n",
    "    results_list.append({\"label\": f't={hparam[\"temperature\"]:.1f}'} | results)\n",
    "\n",
    "# save_path = \"../../results/online_inference_last_epoch_t=1\"\n",
    "# with open(f\"{save_path}.json\", \"w\") as f:\n",
    "#     json.dump(results, f)"
   ]
  },
  {
   "cell_type": "code",
   "execution_count": null,
   "metadata": {},
   "outputs": [],
   "source": [
    "from matplotlib import colormaps as cm\n",
    "\n",
    "fig, axes = plt.subplots(1, 2, figsize=(10, 4))\n",
    "\n",
    "axes[0].set_title('MAE (x, x*)')\n",
    "axes[1].set_title('MAE (y, y*)')\n",
    "\n",
    "cmap = cm.get_cmap('jet')\n",
    "color_list = [cmap(c) for c in np.linspace(0.1, 0.9, len(results_list))[::-1]]\n",
    "for results, c in zip(results_list, color_list):\n",
    "    label = results[\"label\"]\n",
    "    axes[0].plot(results[\"x_mae\"], c=c, label=label)\n",
    "    axes[1].plot(results[\"y_mae\"], c=c, label=label)\n",
    "\n",
    "for ax in axes:\n",
    "    ax.set_xlim(0, None)\n",
    "    ax.set_xlabel('Step')\n",
    "    ax.legend(loc=1)\n",
    "\n",
    "axes[1].set_yscale('log')\n",
    "\n",
    "plt.tight_layout()\n",
    "plt.show()"
   ]
  },
  {
   "cell_type": "code",
   "execution_count": null,
   "metadata": {},
   "outputs": [],
   "source": [
    "sample, outputs, predictions, metrics = run(model, train_offline_dataset[0])\n",
    "print_sample(sample, predictions)\n",
    "print_metrics(metrics)"
   ]
  },
  {
   "cell_type": "code",
   "execution_count": null,
   "metadata": {},
   "outputs": [],
   "source": [
    "model.config[\"do_sample\"] = False\n",
    "model.config[\"temperature\"] = 0.0\n",
    "sample, outputs, predictions, metrics = run(model, val_online_dataset[0])\n",
    "print_sample(sample, print_ta=False, print_fm=True)\n",
    "print_metrics(metrics)"
   ]
  },
  {
   "cell_type": "code",
   "execution_count": 62,
   "metadata": {},
   "outputs": [],
   "source": [
    "# # plt.plot(outputs[0].detach().numpy())\n",
    "# # plt.plot(outputs[1].detach().numpy())\n",
    "# # plt.plot(outputs[2].detach().numpy())\n",
    "# from torch.nn.functional import softmax\n",
    "\n",
    "# p = outputs[-1].detach()\n",
    "# for t in (1.0, 2.0, 3.0, 5.0, 10.0):\n",
    "#     plt.plot(softmax(p / t, -1).numpy(), label=t)\n",
    "# plt.legend()\n",
    "# plt.show()"
   ]
  },
  {
   "cell_type": "markdown",
   "metadata": {},
   "source": [
    "### Online Inference per Epoch"
   ]
  },
  {
   "cell_type": "code",
   "execution_count": null,
   "metadata": {},
   "outputs": [],
   "source": [
    "tester = L.Trainer(\n",
    "    logger=False,\n",
    "    precision=config[\"precision\"]\n",
    ")\n",
    "test_dataloader = dl[\"val_dataloaders\"][1]\n",
    "checkpoints = natsorted(os.listdir(root_dir))\n",
    "results_accumulated = defaultdict(list)\n",
    "\n",
    "for checkpoint in checkpoints:\n",
    "    checkpoint_file = os.path.join(root_dir, checkpoint)\n",
    "    model = DPTSolver.load_from_checkpoint(checkpoint_file)\n",
    "    results = tester.test(model=model, dataloaders=test_dataloader)#, verbose=False)\n",
    "    for key, val in results[0].items():\n",
    "        results_accumulated[key].append(val)\n",
    "results_accumulated = dict(results_accumulated)"
   ]
  },
  {
   "cell_type": "code",
   "execution_count": null,
   "metadata": {},
   "outputs": [],
   "source": [
    "save_path = \"../../results/online_inference_t=1\"\n",
    "\n",
    "with open(f\"{save_path}.json\", \"w\") as f: \n",
    "    json.dump(results_accumulated, f)\n",
    "\n",
    "fig, axes = plt.subplots(1, len(results_accumulated), figsize=(12, 4))\n",
    "\n",
    "for ax, (key, vals) in zip(axes, results_accumulated.items()):\n",
    "    ax.set_title(key)\n",
    "    ax.plot(np.arange(1, len(vals)+1) * 50, vals)\n",
    "    ax.set_xlim(0, None)\n",
    "    ax.set_xlabel('Epoch')\n",
    "\n",
    "# plt.show()\n",
    "plt.tight_layout()\n",
    "plt.savefig(f\"{save_path}.png\")"
   ]
  },
  {
   "cell_type": "code",
   "execution_count": null,
   "metadata": {},
   "outputs": [],
   "source": [
    "from matplotlib import colormaps as cm\n",
    "\n",
    "fig, axes = plt.subplots(1, 2, figsize=(10, 4))\n",
    "\n",
    "rpath_list = (\n",
    "    \"../../results/online_inference_argmax\",\n",
    "    \"../../results/online_inference_t=1\"\n",
    ")\n",
    "cmap = cm.get_cmap('jet')\n",
    "color_list = [cmap(c) for c in np.linspace(0.1, 0.9, len(rpath_list))[::-1]]\n",
    "\n",
    "axes[0].set_title('MAE (x, x*)')\n",
    "axes[1].set_title('MAE (y, y*)')\n",
    "\n",
    "for read_path, c in zip(rpath_list, color_list):\n",
    "    with open(f\"{read_path}.json\") as f:\n",
    "        results = json.load(f)\n",
    "\n",
    "    for ax, (key, vals) in zip(axes, results.items()):\n",
    "        # ax.set_title(key)\n",
    "        epoch_list = np.arange(1, len(vals)+1) * 50\n",
    "        ax.plot(epoch_list, vals, c=c, label=read_path.split('_')[-1])\n",
    "        ax.set_xlim(0, None)\n",
    "        ax.set_xlabel('Epoch')\n",
    "        ax.legend(loc=1)\n",
    "        \n",
    "axes[1].set_yscale('log')\n",
    "\n",
    "plt.tight_layout()\n",
    "plt.savefig(f\"{save_path}.png\")"
   ]
  }
 ],
 "metadata": {
  "kernelspec": {
   "display_name": "DPT",
   "language": "python",
   "name": "python3"
  },
  "language_info": {
   "codemirror_mode": {
    "name": "ipython",
    "version": 3
   },
   "file_extension": ".py",
   "mimetype": "text/x-python",
   "name": "python",
   "nbconvert_exporter": "python",
   "pygments_lexer": "ipython3",
   "version": "3.12.8"
  }
 },
 "nbformat": 4,
 "nbformat_minor": 2
}
