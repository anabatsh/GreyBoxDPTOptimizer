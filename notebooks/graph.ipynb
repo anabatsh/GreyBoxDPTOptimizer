{
 "cells": [
  {
   "cell_type": "code",
   "execution_count": null,
   "metadata": {},
   "outputs": [],
   "source": [
    "import sys\n",
    "root_path = '../'\n",
    "sys.path.insert(0, root_path)"
   ]
  },
  {
   "cell_type": "code",
   "execution_count": null,
   "metadata": {},
   "outputs": [],
   "source": [
    "import matplotlib.pyplot as plt\n",
    "%config InlineBackend.figure_format='retina'"
   ]
  },
  {
   "cell_type": "code",
   "execution_count": null,
   "metadata": {},
   "outputs": [],
   "source": [
    "import json\n",
    "import numpy as np\n",
    "\n",
    "def read_logs(read_path):\n",
    "    logs = {}\n",
    "    for solver_name in os.listdir(read_path):\n",
    "        solver_path = os.path.join(read_path, solver_name)\n",
    "        with open(solver_path, 'r') as f:\n",
    "            logs_solver = json.load(f)\n",
    "        if \"dpt\" in solver_name.lower() or \"ad\" in solver_name.lower():\n",
    "            for k in logs_solver.keys():\n",
    "                logs[solver_name.split(\".\")[0] + \"-\" + k] = logs_solver[k]\n",
    "        else:\n",
    "            logs[solver_name.split(\".json\")[0]] = logs_solver\n",
    "    return logs\n",
    "\n",
    "def plot_logs(logs, solvers=[], title=\"1000 problems\"):\n",
    "    solvers = solvers if len(solvers) else logs.keys()\n",
    "\n",
    "    cmap = plt.get_cmap('jet')\n",
    "    colors = cmap(np.linspace(0.05, 0.95, len(solvers)))\n",
    "    for solver, c in zip(solvers, colors):\n",
    "        logs_solver = logs[solver]\n",
    "        plt.plot(logs_solver['m_list'], logs_solver['y_list (mean)'], c=c, label=solver)\n",
    "\n",
    "    plt.title(title)\n",
    "    plt.ylabel(\"y\", rotation=0)\n",
    "    plt.xlabel(\"step\")\n",
    "    plt.legend(loc=1)\n",
    "    \n",
    "    plt.show()"
   ]
  },
  {
   "cell_type": "code",
   "execution_count": null,
   "metadata": {},
   "outputs": [],
   "source": [
    "def plot_logs_enhanced(logs, solvers=[], title=\"1000 problems\", figname=\"all\", value_to_subtract=0):\n",
    "    solvers = solvers if len(solvers) else logs.keys()\n",
    "\n",
    "    # Define a high-quality color palette and markers\n",
    "    cmap = plt.get_cmap('tab10')\n",
    "    colors = cmap(np.linspace(0, 1, len(solvers)))\n",
    "    markers = ['o', 's', 'D', '^', '>', 'p', '*', 'v',  '<']  # Different markers for distinction\n",
    "\n",
    "    plt.figure(figsize=(8, 6), dpi=300)  # Increase figure size and resolution\n",
    "\n",
    "    for i, (solver, c) in enumerate(zip(solvers, colors)):\n",
    "        logs_solver = logs[solver]\n",
    "        y_values = np.array(logs_solver['y_list (mean)'])\n",
    "        plt.plot(\n",
    "            logs_solver['m_list'], \n",
    "            y_values, \n",
    "            c=c, \n",
    "            label=solver, \n",
    "            linewidth=2, \n",
    "            marker=markers[i % len(markers)],  # Use distinct markers\n",
    "            markersize=5, \n",
    "            markevery=10  # Show markers at intervals\n",
    "        )\n",
    "\n",
    "    # plt.yscale(\"log\", base=2)  # Set y-axis to log scale\n",
    "    plt.title(title, fontsize=18,)\n",
    "    plt.ylabel(\"Objective value\", fontsize=18, labelpad=15)\n",
    "    plt.xlabel(\"Step\", fontsize=18)\n",
    "    \n",
    "    plt.grid(True, linestyle='--', alpha=0.6)  # Add grid for better readability\n",
    "    plt.legend(loc='best', fontsize=12, frameon=True, edgecolor='black')  # Improved legend\n",
    "    plt.tight_layout()  # Adjust layout to fit everything neatly\n",
    "    plt.savefig(f\"{figname}.pdf\")\n",
    "    plt.savefig(f\"{figname}.png\")\n",
    "    plt.show()\n"
   ]
  },
  {
   "cell_type": "code",
   "execution_count": null,
   "metadata": {},
   "outputs": [],
   "source": [
    "import os"
   ]
  },
  {
   "cell_type": "code",
   "execution_count": null,
   "metadata": {},
   "outputs": [],
   "source": [
    "logs = read_logs(\"results/QUBO_n_2_d_50_normal/\")"
   ]
  },
  {
   "cell_type": "code",
   "execution_count": null,
   "metadata": {},
   "outputs": [],
   "source": [
    "logs.keys()"
   ]
  },
  {
   "cell_type": "code",
   "execution_count": null,
   "metadata": {},
   "outputs": [],
   "source": [
    "keys = ['Portfolio', 'PROTES', 'd_50_fat_normal_ad-AD (sampling warmup)', 'd_50_randn_ad-AD (sampling warmup)', 'd_50_randn_ad-AD (5->1 sampling)', 'RandomSearch', 'PSO', 'OnePlusOne']\n",
    "# Generate the enhanced plot with markers and log scale, subtracting 0 as an example\n",
    "plot_logs_enhanced(logs, solvers=keys, value_to_subtract=0, figname=\"solvers_50\", title=\"Average performance on 1000 50-dimensional problems\")"
   ]
  },
  {
   "cell_type": "code",
   "execution_count": null,
   "metadata": {},
   "outputs": [],
   "source": [
    "keys = ['d_50_randn_ad-AD (argmax)', 'd_50_randn_ad-AD (sampling)', 'd_50_randn_ad-AD (argmax warmup)', 'd_50_randn_ad-AD (sampling warmup)', 'd_50_randn_ad-AD (5->1 sampling)']\n",
    "plot_logs_enhanced(logs, solvers=keys, value_to_subtract=0, figname=\"ad_50_new_reward\", title=\"Average performance on 1000 50-dimensional problems\")"
   ]
  },
  {
   "cell_type": "code",
   "execution_count": null,
   "metadata": {},
   "outputs": [],
   "source": [
    "keys = ['AD (argmax)', 'AD (sampling)', 'AD (argmax warmup)', 'AD (sampling warmup)', 'AD (sqrt sampling)', 'AD (rsqrt sampling)']\n",
    "# Generate the enhanced plot with markers and log scale, subtracting 0 as an example\n",
    "plot_logs_enhanced(logs, solvers=keys, value_to_subtract=0, figname=\"ad_50\", title=\"Average performance on 1000 50-dimensional problems\")"
   ]
  },
  {
   "cell_type": "code",
   "execution_count": null,
   "metadata": {},
   "outputs": [],
   "source": [
    "keys = ['DPT (argmax)', 'DPT (sampling)', 'DPT (argmax warmup)', 'DPT (sampling warmup)']\n",
    "# Generate the enhanced plot with markers and log scale, subtracting 0 as an example\n",
    "plot_logs_enhanced(logs, solvers=keys, value_to_subtract=0, figname=\"dpt_50\", title=\"Average performance on 1000 50-dimensional problems\")"
   ]
  },
  {
   "cell_type": "code",
   "execution_count": null,
   "metadata": {},
   "outputs": [],
   "source": []
  },
  {
   "cell_type": "code",
   "execution_count": null,
   "metadata": {},
   "outputs": [],
   "source": []
  }
 ],
 "metadata": {
  "kernelspec": {
   "display_name": "kurkin_exps",
   "language": "python",
   "name": "python3"
  },
  "language_info": {
   "codemirror_mode": {
    "name": "ipython",
    "version": 3
   },
   "file_extension": ".py",
   "mimetype": "text/x-python",
   "name": "python",
   "nbconvert_exporter": "python",
   "pygments_lexer": "ipython3",
   "version": "3.12.8"
  }
 },
 "nbformat": 4,
 "nbformat_minor": 2
}
