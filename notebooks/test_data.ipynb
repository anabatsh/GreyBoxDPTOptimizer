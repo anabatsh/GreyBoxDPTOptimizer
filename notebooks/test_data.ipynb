{
 "cells": [
  {
   "cell_type": "code",
   "execution_count": 2,
   "metadata": {},
   "outputs": [],
   "source": [
    "%load_ext autoreload\n",
    "%autoreload 2"
   ]
  },
  {
   "cell_type": "code",
   "execution_count": null,
   "metadata": {},
   "outputs": [],
   "source": [
    "import sys\n",
    "root_path = '../'\n",
    "sys.path.insert(0, root_path)\n",
    "\n",
    "from functools import partial\n",
    "from torch.utils.data import DataLoader\n",
    "\n",
    "from problems import *\n",
    "from src.data import OfflineDataset, OnlineDataset\n",
    "from run import custom_collate_fn\n",
    "from utils import *"
   ]
  },
  {
   "cell_type": "code",
   "execution_count": 4,
   "metadata": {},
   "outputs": [],
   "source": [
    "n = 2\n",
    "d = 5\n",
    "problem_class = QUBO\n",
    "problems = [problem_class(d=d, n=n, seed=seed) for seed in range(10)]"
   ]
  },
  {
   "cell_type": "markdown",
   "metadata": {},
   "source": [
    "### Offline Dataset"
   ]
  },
  {
   "cell_type": "code",
   "execution_count": null,
   "metadata": {},
   "outputs": [],
   "source": [
    "sample"
   ]
  },
  {
   "cell_type": "code",
   "execution_count": null,
   "metadata": {},
   "outputs": [],
   "source": [
    "dataset = OfflineDataset(problems, seq_len=10)\n",
    "sample = dataset[1]\n",
    "print_sample(sample)"
   ]
  },
  {
   "cell_type": "code",
   "execution_count": null,
   "metadata": {},
   "outputs": [],
   "source": [
    "print('query_state', sample[\"query_state\"].shape, sample[\"query_state\"].dtype)\n",
    "print('states', sample[\"states\"].shape, sample[\"states\"].dtype)\n",
    "print('actions', sample[\"actions\"].shape, sample[\"actions\"].dtype)\n",
    "print('next_states', sample[\"next_states\"].shape, sample[\"next_states\"].dtype)\n",
    "print('target_action', sample[\"target_action\"].shape, sample[\"target_action\"].dtype)\n",
    "print('problem', sample[\"problem\"], type(sample[\"problem\"]))"
   ]
  },
  {
   "cell_type": "code",
   "execution_count": null,
   "metadata": {},
   "outputs": [],
   "source": [
    "collate_fn = partial(custom_collate_fn, problem_class=problem_class)\n",
    "dataloader = DataLoader(dataset, batch_size=2, collate_fn=collate_fn)\n",
    "batch = next(iter(dataloader))\n",
    "batch"
   ]
  },
  {
   "cell_type": "code",
   "execution_count": null,
   "metadata": {},
   "outputs": [],
   "source": [
    "print('query_state', batch[\"query_state\"].shape, batch[\"query_state\"].dtype)\n",
    "print('states', batch[\"states\"].shape, batch[\"states\"].dtype)\n",
    "print('actions', batch[\"actions\"].shape, batch[\"actions\"].dtype)\n",
    "print('next_states', batch[\"next_states\"].shape, batch[\"next_states\"].dtype)\n",
    "print('target_action', batch[\"target_action\"].shape, batch[\"target_action\"].dtype)\n",
    "print('problem', batch[\"problem\"], type(batch[\"problem\"]))"
   ]
  },
  {
   "cell_type": "markdown",
   "metadata": {},
   "source": [
    "### Online Dataset"
   ]
  },
  {
   "cell_type": "code",
   "execution_count": null,
   "metadata": {},
   "outputs": [],
   "source": [
    "dataset = OnlineDataset(problems)\n",
    "sample = dataset[0]\n",
    "print_sample(sample)"
   ]
  },
  {
   "cell_type": "code",
   "execution_count": null,
   "metadata": {},
   "outputs": [],
   "source": [
    "print('query_state', sample[\"query_state\"].shape, sample[\"query_state\"].dtype)\n",
    "# print('target_state', sample[\"target_state\"].shape, sample[\"target_state\"].dtype)\n",
    "print('problem', sample[\"problem\"], type(sample[\"problem\"]))"
   ]
  },
  {
   "cell_type": "code",
   "execution_count": null,
   "metadata": {},
   "outputs": [],
   "source": [
    "collate_fn = partial(custom_collate_fn, problem_class=problem_class)\n",
    "dataloader = DataLoader(dataset, batch_size=2, collate_fn=collate_fn)\n",
    "batch = next(iter(dataloader))\n",
    "batch"
   ]
  },
  {
   "cell_type": "code",
   "execution_count": null,
   "metadata": {},
   "outputs": [],
   "source": [
    "print('query_state', batch[\"query_state\"].shape, batch[\"query_state\"].dtype)\n",
    "# print('target_state', batch[\"target_state\"].shape, batch[\"target_state\"].dtype)\n",
    "print('problem', batch[\"problem\"], type(batch[\"problem\"]))"
   ]
  }
 ],
 "metadata": {
  "kernelspec": {
   "display_name": "DPT",
   "language": "python",
   "name": "python3"
  },
  "language_info": {
   "codemirror_mode": {
    "name": "ipython",
    "version": 3
   },
   "file_extension": ".py",
   "mimetype": "text/x-python",
   "name": "python",
   "nbconvert_exporter": "python",
   "pygments_lexer": "ipython3",
   "version": "3.12.8"
  }
 },
 "nbformat": 4,
 "nbformat_minor": 2
}
