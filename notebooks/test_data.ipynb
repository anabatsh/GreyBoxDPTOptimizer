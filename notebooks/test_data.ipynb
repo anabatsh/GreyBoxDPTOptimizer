{
 "cells": [
  {
   "cell_type": "code",
   "execution_count": null,
   "metadata": {},
   "outputs": [],
   "source": [
    "%load_ext autoreload\n",
    "%autoreload 2"
   ]
  },
  {
   "cell_type": "code",
   "execution_count": null,
   "metadata": {},
   "outputs": [],
   "source": [
    "import sys\n",
    "root_path = '../'\n",
    "sys.path.insert(0, root_path)"
   ]
  },
  {
   "cell_type": "code",
   "execution_count": null,
   "metadata": {},
   "outputs": [],
   "source": [
    "import os\n",
    "from natsort import natsorted\n",
    "\n",
    "from scripts.create_problem import load_problem_set\n",
    "from scripts.run_solver import load_results\n",
    "from utils import *"
   ]
  },
  {
   "cell_type": "code",
   "execution_count": null,
   "metadata": {},
   "outputs": [],
   "source": [
    "read_dir = 'data/test'\n",
    "# read_dir = \"data/various\"\n",
    "# read_dir = \"data/normal\"\n",
    "# read_dir = \"data/distributions\"\n",
    "problem_list = natsorted(os.listdir(read_dir))\n",
    "\n",
    "# problem_list = [\n",
    "#     'SPP',\n",
    "#     'GraphColoring',\n",
    "#     'Knapsack',\n",
    "#     'MVC',\n",
    "#     'QUBO',\n",
    "#     'SetPack',\n",
    "#     'WMaxCut',\n",
    "#     'NumberPartitioning',\n",
    "#     'MaxCut',\n",
    "#     'WMVC',\n",
    "#     'Ising',\n",
    "#     'Max2Sat',\n",
    "#     'QAP'\n",
    "# ]\n",
    "\n",
    "X, y = get_Xy(read_dir, problem_list, suffix='train')\n",
    "X_tsne = get_tsne(X)\n",
    "show_tsne(problem_list, X_tsne, y)\n",
    "print_unique(read_dir, problem_list)"
   ]
  },
  {
   "cell_type": "code",
   "execution_count": null,
   "metadata": {},
   "outputs": [],
   "source": [
    "# from scripts.create_problem import load_problem_set\n",
    "# from scripts.run_solver import load_results\n",
    "\n",
    "# d_x = []\n",
    "# problem_name = 'QAP'\n",
    "# problems = load_problem_set(f'{read_dir}/{problem_name}/train')\n",
    "# for problem in problems:\n",
    "#     d_x.append(problem.info['x_best'])\n",
    "#     print(problem.Q)\n",
    "# x_unique = torch.unique(torch.stack(d_x), dim=0)\n",
    "# print(x_unique)"
   ]
  },
  {
   "cell_type": "code",
   "execution_count": null,
   "metadata": {},
   "outputs": [],
   "source": [
    "read_dir = 'results/test'\n",
    "# read_dir = 'results/various'\n",
    "# read_dir = 'results/normal'\n",
    "# read_dir = 'results/distributions'\n",
    "\n",
    "problem_list = natsorted(os.listdir(read_dir))\n",
    "meta_results = defaultdict(dict)\n",
    "for problem in problem_list:\n",
    "    for solver in ('RandomSearch', 'PSO', 'PROTES'):\n",
    "        meta_results[problem][solver] = get_meta_results(problem, solver, read_dir, suffix='train', budget=1000)"
   ]
  },
  {
   "cell_type": "code",
   "execution_count": null,
   "metadata": {},
   "outputs": [],
   "source": [
    "show_meta_results(meta_results)"
   ]
  },
  {
   "cell_type": "code",
   "execution_count": null,
   "metadata": {},
   "outputs": [],
   "source": [
    "problem_averaged_meta_results = get_problem_averaged_meta_results(meta_results)\n",
    "show_meta_results(problem_averaged_meta_results)"
   ]
  }
 ],
 "metadata": {
  "kernelspec": {
   "display_name": "DPT",
   "language": "python",
   "name": "python3"
  },
  "language_info": {
   "codemirror_mode": {
    "name": "ipython",
    "version": 3
   },
   "file_extension": ".py",
   "mimetype": "text/x-python",
   "name": "python",
   "nbconvert_exporter": "python",
   "pygments_lexer": "ipython3",
   "version": "3.12.8"
  }
 },
 "nbformat": 4,
 "nbformat_minor": 2
}
