{
 "cells": [
  {
   "cell_type": "code",
   "execution_count": null,
   "metadata": {},
   "outputs": [],
   "source": [
    "%load_ext autoreload\n",
    "%autoreload 2"
   ]
  },
  {
   "cell_type": "code",
   "execution_count": null,
   "metadata": {},
   "outputs": [],
   "source": [
    "import sys\n",
    "root_path = '../'\n",
    "sys.path.insert(0, root_path)"
   ]
  },
  {
   "cell_type": "code",
   "execution_count": null,
   "metadata": {},
   "outputs": [],
   "source": [
    "import os\n",
    "import json\n",
    "import torch\n",
    "import numpy as np"
   ]
  },
  {
   "cell_type": "code",
   "execution_count": null,
   "metadata": {},
   "outputs": [],
   "source": [
    "x = torch.rand(1, 2, 3)\n",
    "i = torch.argmax(x, dim=-1)\n",
    "y = torch.eye(3, 3)\n",
    "y[i], i"
   ]
  },
  {
   "cell_type": "code",
   "execution_count": null,
   "metadata": {},
   "outputs": [],
   "source": [
    "def bitsum(x_vector, y_vector):\n",
    "    extra = 0\n",
    "    z_vector = []\n",
    "    for x, y in zip(x_vector.flip(0), y_vector.flip(0)):\n",
    "        bit = x ^ y ^ extra\n",
    "        extra = x & y | y & extra | extra & x\n",
    "        z_vector.append(bit)\n",
    "    z_vector.append(extra)\n",
    "    z_vector = torch.tensor(z_vector).flip(0)\n",
    "    return z_vector\n",
    "\n",
    "# for _ in range(100):\n",
    "#     x = torch.randint(0, 2, (d,)) #zeros(10).long()\n",
    "#     y = torch.randint(0, 2, (d,)) #torch.zeros(10).long()\n",
    "#     z = bitsum(x, y)\n",
    "#     assert z @ base == x @ base[1:] + y @ base[1:]\n",
    "\n",
    "def grid(d, budget):\n",
    "    x = torch.zeros(d).long()\n",
    "    step = torch.zeros(d).long()\n",
    "    n = d - int(np.log2(budget - 1))\n",
    "    step[-n-1] = 1\n",
    "\n",
    "    X = [x]\n",
    "    stop = False\n",
    "    while not stop:\n",
    "        x = bitsum(x, step)\n",
    "        stop = x[0] == 1\n",
    "        x = x[1:]\n",
    "        X.append(x)\n",
    "\n",
    "    X[-1] = torch.ones(d).long()\n",
    "    X = torch.vstack(X)\n",
    "    return X\n",
    "\n",
    "d = 10\n",
    "budget = 17\n",
    "base = torch.pow(2, torch.arange(0, d + 1).flip(0))\n",
    "X = grid(d, budget)\n",
    "print(X @ base[1:], len(X))"
   ]
  },
  {
   "cell_type": "code",
   "execution_count": null,
   "metadata": {},
   "outputs": [],
   "source": [
    "from problems import QUBO\n",
    "from solvers import BRUTE"
   ]
  },
  {
   "cell_type": "code",
   "execution_count": null,
   "metadata": {},
   "outputs": [],
   "source": [
    "problem = QUBO(d=10, n=2, seed=0)\n",
    "solver = BRUTE(problem=problem, budget=256, seed=0)\n",
    "logs = solver.optimize()\n",
    "logs"
   ]
  },
  {
   "cell_type": "code",
   "execution_count": null,
   "metadata": {},
   "outputs": [],
   "source": [
    "from scripts.create_problem import load_problem_set"
   ]
  },
  {
   "cell_type": "code",
   "execution_count": null,
   "metadata": {},
   "outputs": [],
   "source": [
    "problems = load_problem_set('data/test/Normal(0, 1)/test')\n",
    "for problem in problems:\n",
    "    print(problem.info)"
   ]
  },
  {
   "cell_type": "code",
   "execution_count": null,
   "metadata": {},
   "outputs": [],
   "source": [
    "name = \"trajectory.pt\"\n",
    "size = os.path.getsize(name) / 1024\n",
    "print(size)"
   ]
  },
  {
   "cell_type": "code",
   "execution_count": null,
   "metadata": {},
   "outputs": [],
   "source": [
    "trajectory = {\n",
    "    \"x_list\": torch.randint(0, 2, size=(100, 50)),\n",
    "    \"y_list\": torch.randn(100),\n",
    "    \"m_list\": torch.arange(100),\n",
    "    \"time\": 0.11\n",
    "}\n",
    "name = \"trajectory.pt\"\n",
    "torch.save(trajectory, name)\n",
    "size = os.path.getsize(name) / 1024\n",
    "print(size)\n",
    "\n",
    "# loaded_trajectory = torch.load(name, weights_only=True)"
   ]
  },
  {
   "cell_type": "code",
   "execution_count": null,
   "metadata": {},
   "outputs": [],
   "source": [
    "# trajectory_new = {}\n",
    "# trajectory_new[\"x_list\"] = [x.tolist() for x in trajectory[\"x_list\"]]\n",
    "# trajectory_new[\"y_list\"] = [y.item() for y in trajectory[\"y_list\"]]\n",
    "# trajectory_new[\"m_list\"] = [m.item() for m in trajectory[\"m_list\"]]\n",
    "# trajectory_new\n",
    "name = \"trajectory.json\"\n",
    "with open(name, \"w\") as f:\n",
    "    json.dump(trajectory_new, f, indent=4)\n",
    "size = os.path.getsize(name) / 1024\n",
    "print(size)"
   ]
  },
  {
   "cell_type": "code",
   "execution_count": null,
   "metadata": {},
   "outputs": [],
   "source": [
    "from dpt.data import OnlineDataset\n",
    "from scripts.create_problem import load_problem_set\n",
    "\n",
    "from dpt.data import *\n",
    "from train_dpt import *\n",
    "\n",
    "\n",
    "problems = load_problem_set('data/normal/Normal(0, 1)/test')\n",
    "dataset = OfflineDataset(problems, action='bitflip')\n",
    "\n",
    "collate_fn = partial(custom_collate_fn, problem_class=getattr(pbs, 'Problem'))\n",
    "dataloader = DataLoader(dataset=dataset, batch_size=512, collate_fn=collate_fn, num_workers=32)\n",
    "\n",
    "for batch in dataloader:\n",
    "    len(batch)\n",
    "\n",
    "batch = next(iter(dataloader))\n",
    "# %timeit batch = next(iter(dataloader))\n",
    "\n",
    "for k, v in batch.items():\n",
    "    if isinstance(v, torch.Tensor):\n",
    "        print(k, v.dtype, v.shape)\n",
    "    else:\n",
    "        print(k, type(v))"
   ]
  },
  {
   "cell_type": "code",
   "execution_count": null,
   "metadata": {},
   "outputs": [],
   "source": [
    "batch = next(iter(dataloader))\n",
    "for k, v in batch.items():\n",
    "    if isinstance(v, torch.Tensor):\n",
    "        print(k, v.dtype, v.shape)\n",
    "    else:\n",
    "        print(k, type(v))"
   ]
  },
  {
   "cell_type": "code",
   "execution_count": null,
   "metadata": {},
   "outputs": [],
   "source": [
    "torch.rand(1, 2, 3)[:, 0:0, :]"
   ]
  },
  {
   "cell_type": "code",
   "execution_count": null,
   "metadata": {},
   "outputs": [],
   "source": []
  },
  {
   "cell_type": "code",
   "execution_count": null,
   "metadata": {},
   "outputs": [],
   "source": [
    "from dpt.train import DPTSolver\n",
    "\n",
    "\n",
    "DPTSolver(config=load_config('configs/config.yaml')).cuda().device"
   ]
  }
 ],
 "metadata": {
  "kernelspec": {
   "display_name": "DPT",
   "language": "python",
   "name": "python3"
  },
  "language_info": {
   "codemirror_mode": {
    "name": "ipython",
    "version": 3
   },
   "file_extension": ".py",
   "mimetype": "text/x-python",
   "name": "python",
   "nbconvert_exporter": "python",
   "pygments_lexer": "ipython3",
   "version": "3.12.8"
  }
 },
 "nbformat": 4,
 "nbformat_minor": 2
}
