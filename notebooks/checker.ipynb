{
 "cells": [
  {
   "cell_type": "code",
   "execution_count": null,
   "metadata": {},
   "outputs": [],
   "source": [
    "%load_ext autoreload\n",
    "%autoreload 2"
   ]
  },
  {
   "cell_type": "code",
   "execution_count": null,
   "metadata": {},
   "outputs": [],
   "source": [
    "import sys\n",
    "root_path = '../'\n",
    "sys.path.insert(0, root_path)"
   ]
  },
  {
   "cell_type": "code",
   "execution_count": null,
   "metadata": {},
   "outputs": [],
   "source": [
    "from problems import *"
   ]
  },
  {
   "cell_type": "code",
   "execution_count": null,
   "metadata": {},
   "outputs": [],
   "source": [
    "import os\n",
    "from functools import partial\n",
    "from natsort import natsorted\n",
    "from tqdm import tqdm\n",
    "from torch.utils.data import DataLoader"
   ]
  },
  {
   "cell_type": "code",
   "execution_count": null,
   "metadata": {},
   "outputs": [],
   "source": [
    "from scripts.create_problem import load_problem_set\n",
    "import problems as pbs\n",
    "import solvers as sv\n",
    "from dpt.data import *\n",
    "from dpt.reward import Reward\n",
    "from train_dpt import *\n",
    "from notebooks.utils import *"
   ]
  },
  {
   "cell_type": "code",
   "execution_count": null,
   "metadata": {},
   "outputs": [],
   "source": [
    "problem = 'Normal(0, 1)'\n",
    "data_dir = '../data/normal'\n",
    "results_dir = '../results/normal'\n",
    "suffix = 'test'\n",
    "\n",
    "problems = load_problem_set(os.path.join(data_dir, problem, suffix))\n",
    "dataset = OfflineDataset(problems, seq_len=100, results_dir=results_dir, suffix=suffix, ad_ratio=0.0, action='bitflip', target_action='gt_ad')\n",
    "# dataset = OnlineDataset(problems)\n",
    "sample = dataset[0]\n",
    "\n",
    "for k, v in sample.items():\n",
    "    if isinstance(v, torch.Tensor):\n",
    "        print(k, v.dtype, v.shape)\n",
    "    else:\n",
    "        print(k, type(v))"
   ]
  },
  {
   "cell_type": "code",
   "execution_count": null,
   "metadata": {},
   "outputs": [],
   "source": [
    "import matplotlib.pyplot as plt\n",
    "target_actions = [torch.argmax(sample['target_action']).item() for _ in range(100) for sample in dataset]\n",
    "bins = np.arange(0, 12)\n",
    "plt.hist(target_actions, bins-0.5)\n",
    "plt.xticks(bins[:-1])\n",
    "plt.show()"
   ]
  },
  {
   "cell_type": "code",
   "execution_count": null,
   "metadata": {},
   "outputs": [],
   "source": [
    "problem = pbs.QUBO(50, 2)\n",
    "budget = 100\n",
    "# solver = sv.PROTES(problem, budget=budget, k_samples=10, k_top=3)\n",
    "solver = sv.PSO(problem, budget=budget)\n",
    "# solver = sv.RandomSearch(problem, budget=budget)\n",
    "# solver = sv.GUROBI(problem, budget=budget)\n",
    "\n",
    "%timeit solver.optimize(compact_storage=False)\n",
    "# print(len(logs['x_list']), len(logs['y_list']))\n",
    "# print(problem.counter)\n",
    "# print(logs)"
   ]
  },
  {
   "cell_type": "code",
   "execution_count": null,
   "metadata": {},
   "outputs": [],
   "source": [
    "        # new = torch.ones(len(points), dtype=torch.bool)\n",
    "        # if self.compact_storage and len(self.logs['x_list']):\n",
    "        #     y_mask = torch.stack(self.logs['y_list'])[:, None] == targets[None, :]\n",
    "        #     x_mask, points_mask = torch.where(y_mask)\n",
    "        #     new = ~torch.all(torch.stack(self.logs['x_list'])[x_mask] == points[points_mask], -1)\n",
    "\n",
    "        # self.logs['x_list'].extend(points[new])\n",
    "        # self.logs['y_list'].extend(targets[new])"
   ]
  },
  {
   "cell_type": "code",
   "execution_count": null,
   "metadata": {},
   "outputs": [],
   "source": [
    "# !du -h ../results/normal_old"
   ]
  },
  {
   "cell_type": "code",
   "execution_count": null,
   "metadata": {},
   "outputs": [],
   "source": [
    "# !du -h ../results/normal"
   ]
  },
  {
   "cell_type": "code",
   "execution_count": null,
   "metadata": {},
   "outputs": [],
   "source": [
    "a = '../results/normal/Normal(0, 1)/train/Normal(0, 1)__seed_0/PSO/seed_0.pt'\n",
    "'/test/' in a"
   ]
  },
  {
   "cell_type": "code",
   "execution_count": null,
   "metadata": {},
   "outputs": [],
   "source": [
    "results = load_results('../results/normal_gurobi/Normal(0, 1)/train/Normal(0, 1)__seed_1000/GUROBI/seed_0.pt')\n",
    "results.keys()"
   ]
  },
  {
   "cell_type": "code",
   "execution_count": null,
   "metadata": {},
   "outputs": [],
   "source": [
    "read_dir = '../results/normal'\n",
    "problem_list = os.listdir(read_dir)\n",
    "solver_list = ('PSO', 'PROTES', 'GUROBI')\n",
    "suffix = 'train'\n",
    "\n",
    "for problem in problem_list:\n",
    "    data_dir = os.path.join(read_dir, problem, suffix)\n",
    "    assert os.path.exists(data_dir), f'{problem} does not have {suffix}'\n",
    "    data_subdirs = os.listdir(data_dir)\n",
    "    for data_subdir in tqdm(data_subdirs):\n",
    "        for solver in solver_list:\n",
    "            solver_dir = os.path.join(data_dir, data_subdir, solver)\n",
    "            assert os.path.exists(solver_dir), f'{data_subdir} has not been solved with {solver}'\n",
    "            seed_paths = os.listdir(solver_dir)\n",
    "            assert len(seed_paths) == 3, f'Less than 3 seeds in {solver_dir}'\n",
    "        # for seed_path in seed_paths:\n",
    "        #     seed_path = os.path.join(solver_dir, seed_path)\n",
    "        #     results = load_results(seed_path)\n",
    "        #     assert len(results['x_list']) == 5000, f'Wrong x_list len for {seed_path}'\n",
    "        #     assert len(results['y_list']) == 5000, f'Wrong y_list len for {seed_path}'\n",
    "    print(f'{problem} is ok.')"
   ]
  },
  {
   "cell_type": "code",
   "execution_count": null,
   "metadata": {},
   "outputs": [],
   "source": [
    "len(results['y_list'])"
   ]
  },
  {
   "cell_type": "code",
   "execution_count": null,
   "metadata": {},
   "outputs": [],
   "source": [
    "results = load_results('../results/normal/Normal(0, 1)/val/Normal(0, 1)__seed_100/PSO/seed_0.pt')\n",
    "results.keys()"
   ]
  },
  {
   "cell_type": "code",
   "execution_count": null,
   "metadata": {},
   "outputs": [],
   "source": [
    "len(results['y_list'])"
   ]
  },
  {
   "cell_type": "code",
   "execution_count": null,
   "metadata": {},
   "outputs": [],
   "source": [
    "results = load_results('../results/normal/Normal(0, 1)/test/Normal(0, 1)__seed_0/PSO/seed_0.pt')\n",
    "results.keys()"
   ]
  },
  {
   "cell_type": "code",
   "execution_count": null,
   "metadata": {},
   "outputs": [],
   "source": [
    "len(results['y_list'])"
   ]
  },
  {
   "cell_type": "code",
   "execution_count": null,
   "metadata": {},
   "outputs": [],
   "source": [
    "results = load_results('../results/normal_all_points/Normal(0, 1)/test/Normal(0, 1)__seed_0/PSO/seed_0.pt')\n",
    "results.keys()"
   ]
  },
  {
   "cell_type": "code",
   "execution_count": null,
   "metadata": {},
   "outputs": [],
   "source": [
    "problem = pbs.QUBO(50, 2)\n",
    "budget = 1000\n",
    "solver = sv.PROTES(problem, budget=budget, k_samples=10, k_top=3)\n",
    "# solver = sv.PSO(problem, budget=budget)\n",
    "# solver = sv.RandomSearch(problem, budget=budget)\n",
    "# solver = sv.GUROBI(problem, budget=budget, seed=2)\n",
    "\n",
    "logs = solver.optimize(save_path='here')\n",
    "print(len(logs['x_list']), len(logs['y_list']))\n",
    "print(logs.keys())\n",
    "print(problem.counter)\n",
    "# print(logs)"
   ]
  },
  {
   "cell_type": "code",
   "execution_count": null,
   "metadata": {},
   "outputs": [],
   "source": [
    "logs['x_list']"
   ]
  },
  {
   "cell_type": "code",
   "execution_count": null,
   "metadata": {},
   "outputs": [],
   "source": [
    "# !du -h ../results/normal_gurobi"
   ]
  },
  {
   "cell_type": "code",
   "execution_count": null,
   "metadata": {},
   "outputs": [],
   "source": [
    "solver = sv.GUROBI(problem, budget=budget, seed=1)\n",
    "results_1 = solver.optimize()\n",
    "\n",
    "# solver = sv.GUROBI(problem, budget=budget, seed=2)\n",
    "# results_2 = solver.optimize()\n",
    "\n",
    "plt.plot(results_1['y_list'])\n",
    "plt.plot(results_2['y_list'])\n",
    "# print(logs)"
   ]
  },
  {
   "cell_type": "code",
   "execution_count": null,
   "metadata": {},
   "outputs": [],
   "source": [
    "len(results_1['y_list'])"
   ]
  },
  {
   "cell_type": "code",
   "execution_count": null,
   "metadata": {},
   "outputs": [],
   "source": [
    "i = 10\n",
    "results_1 = load_results(f'../results/normal_gurobi/Normal(0, 1)/test/Normal(0, 1)__seed_{i}/GUROBI/seed_0.pt')\n",
    "results_2 = load_results(f'../results/normal_gurobi/Normal(0, 1)/test/Normal(0, 1)__seed_{i}/GUROBI/seed_1.pt')\n",
    "# results_3 = load_results('../results/normal_gurobi/Normal(0, 1)/test/Normal(0, 1)__seed_0/GUROBI/seed_2.pt')\n",
    "\n",
    "plt.plot(results_1['y_list'])\n",
    "plt.plot(results_2['y_list'])\n",
    "# plt.plot(results_3['y_list'])"
   ]
  },
  {
   "cell_type": "code",
   "execution_count": null,
   "metadata": {},
   "outputs": [],
   "source": [
    "results = load_results(f'../results/normal_gurobi/Normal(0, 1)/val/Normal(0, 1)__seed_199/GUROBI/seed_0.pt')\n",
    "print(len(results['y_list']))\n",
    "print(results.keys())"
   ]
  },
  {
   "cell_type": "code",
   "execution_count": null,
   "metadata": {},
   "outputs": [],
   "source": []
  },
  {
   "cell_type": "code",
   "execution_count": null,
   "metadata": {},
   "outputs": [],
   "source": [
    "            # new = True\n",
    "            # if self.compact_storage:\n",
    "            #     for x, y in zip(self.logs['x_list'], self.logs['y_list']):\n",
    "            #         if torch.equal(x, point) and y == target:\n",
    "            #             new = False\n",
    "            #             break\n",
    "            # if new:"
   ]
  },
  {
   "cell_type": "code",
   "execution_count": null,
   "metadata": {},
   "outputs": [],
   "source": [
    "meta_results = defaultdict(dict)\n",
    "meta_stats = defaultdict(dict)\n",
    "problem = 'Normal(0, 1)'\n",
    "\n",
    "read_dir = '../results/normal_gurobi'\n",
    "solver = 'GUROBI'\n",
    "meta_results[problem][solver] = get_meta_results(problem, solver, read_dir, suffix='test', budget=5000, n_steps=100)\n",
    "\n",
    "read_dir = '../results/normal'\n",
    "solver = 'PSO'\n",
    "meta_results[problem][solver] = get_meta_results(problem, solver, read_dir, suffix='test', budget=5000, n_steps=100)\n",
    "\n",
    "show_meta_results(meta_results)"
   ]
  },
  {
   "cell_type": "code",
   "execution_count": null,
   "metadata": {},
   "outputs": [],
   "source": []
  },
  {
   "cell_type": "code",
   "execution_count": null,
   "metadata": {},
   "outputs": [],
   "source": [
    "read_dir = \"../results/normal_all_points\"\n",
    "save_dir = \"../results/normal\"\n",
    "name = \"Normal(0, 1)/test/Normal(0, 1)__seed_0/PSO/seed_0.pt\"\n",
    "read_path = os.path.join(read_dir, name)\n",
    "save_path = os.path.join(save_dir, name)\n",
    "\n",
    "results_old = load_results(read_path)\n",
    "results_new = load_results(save_path)\n",
    "\n",
    "plt.plot(results_old['y_list'])\n",
    "plt.plot(results_new['y_list'])"
   ]
  },
  {
   "cell_type": "code",
   "execution_count": null,
   "metadata": {},
   "outputs": [],
   "source": [
    "reward_model = Reward()\n",
    "rewards = reward_model.offline(sample['states'], sample['actions'], sample['next_states'])"
   ]
  },
  {
   "cell_type": "code",
   "execution_count": null,
   "metadata": {},
   "outputs": [],
   "source": [
    "d = 10\n",
    "target_x = torch.randint(0, 2, (d,))\n",
    "query_x = torch.randint(0, 2, (d,))\n",
    "target_action = target_x ^ query_x\n",
    "possible_actions = torch.eye(d).long()[target_action.to(torch.bool)]\n",
    "# print(target_x)\n",
    "# print(query_x)\n",
    "# print(target_action)\n",
    "assert torch.all(possible_actions.sum(0) == target_action)\n",
    "possible_actions = torch.cat([possible_actions, torch.zeros(1, possible_actions.shape[-1], dtype=torch.int)], dim=0)\n",
    "possible_target_x = possible_actions ^ query_x\n",
    "# print(possible_actions)\n",
    "# print()\n",
    "print(query_x)\n",
    "print(target_action)\n",
    "mask = possible_target_x != query_x\n",
    "print(torch.all(mask.long() == possible_actions))"
   ]
  },
  {
   "cell_type": "code",
   "execution_count": null,
   "metadata": {},
   "outputs": [],
   "source": [
    "# torch.all(sample['states'][..., :-1].long() ^ sample['actions'][..., :-1] == sample['next_states'][..., :-1].long())"
   ]
  },
  {
   "cell_type": "code",
   "execution_count": null,
   "metadata": {},
   "outputs": [],
   "source": [
    "from dpt.loss import RKLLoss"
   ]
  },
  {
   "cell_type": "code",
   "execution_count": null,
   "metadata": {},
   "outputs": [],
   "source": [
    "d = 10\n",
    "B = 1\n",
    "S = 3\n",
    "logits = torch.randn((B, S, d + 1))\n",
    "targets = torch.randint(0, 2, (B, d + 1))\n",
    "\n",
    "loss_fn = RKLLoss(label_smoothing=0)\n",
    "loss_fn(logits, targets)"
   ]
  },
  {
   "cell_type": "code",
   "execution_count": null,
   "metadata": {},
   "outputs": [],
   "source": [
    "targets = torch.zeros((3, d + 1))\n",
    "targets[0, 5] = 1\n",
    "targets[[1]*3, [1, 5, 9]] = 1\n",
    "targets[2] = 1\n",
    "\n",
    "logits = torch.eye(d + 1).unsqueeze(0).repeat(3, 1, 1)\n",
    "print(logits)\n",
    "print(targets)\n",
    "loss_fn(logits, targets)"
   ]
  },
  {
   "cell_type": "code",
   "execution_count": null,
   "metadata": {},
   "outputs": [],
   "source": [
    "d = 5\n",
    "B = 1\n",
    "S = 3\n",
    "logits = torch.randn((B, S, d + 1))\n",
    "targets = torch.randint(0, 2, (B, d + 1))#.unsqueeze(1)#.repeat(1, S, 1)\n",
    "\n",
    "q = F.softmax(logits, dim=-1)\n",
    "p = targets / targets.sum(dim=-1, keepdim=True)\n",
    "\n",
    "loss_qq = (q * torch.log(q + 1e-6)).sum(-1)\n",
    "loss_qp = (q * torch.log(p + 1e-6)).sum(-1)\n",
    "\n",
    "print(loss_qq, loss_qp)\n",
    "loss = (loss_qq - loss_qp)#.mean()\n",
    "print(loss)\n",
    "\n",
    "loss_fn = nn.CrossEntropyLoss()\n",
    "loss_fn()"
   ]
  },
  {
   "cell_type": "code",
   "execution_count": null,
   "metadata": {},
   "outputs": [],
   "source": [
    "\"\"\"\n",
    "predictions - [batch_size, seq_len + 1, action_dim]\n",
    "targets     - [batch_size, action_dim]\n",
    "\"\"\"\n",
    "\n",
    "d = 10\n",
    "B = 1\n",
    "S = 3\n",
    "predictions = torch.randint(0, d + 1, (B, S))\n",
    "predictions = torch.eye(d + 1)[predictions]\n",
    "targets = torch.randint(0, 2, (B, d + 1)).unsqueeze(1)#.repeat(1, S, 1)\n",
    "\n",
    "accuracy = torch.any(predictions * targets, dim=-1).float().mean()\n",
    "predictions = torch.argmax(predictions, dim=-1)\n",
    "\n",
    "print('\\ntargets')\n",
    "print(targets[:, 0, :])\n",
    "print('\\ntarget indexes')\n",
    "indexes = torch.arange(1, d + 2) * targets - 1\n",
    "indexes[indexes < 0] = 3 * d # imax\n",
    "print(indexes[:, 0, :])\n",
    "print('\\npredictions')\n",
    "print(predictions)\n",
    "print('\\nresults')\n",
    "\n",
    "\n",
    "dists = (indexes - predictions[..., None]).abs()\n",
    "print(dists)\n",
    "mae = dists.min(dim=-1).values.float().mean()\n",
    "mae\n",
    "# targets.where(targets == 1)\n",
    "# mae = "
   ]
  },
  {
   "cell_type": "code",
   "execution_count": null,
   "metadata": {},
   "outputs": [],
   "source": [
    "sample = dataset[0]\n",
    "print_sample(sample, rewards, 'point')"
   ]
  },
  {
   "cell_type": "code",
   "execution_count": null,
   "metadata": {},
   "outputs": [],
   "source": [
    "collate_fn = partial(custom_collate_fn, problem_class=getattr(pbs, 'Problem'))\n",
    "dataloader = DataLoader(dataset=dataset, batch_size=10, collate_fn=collate_fn)\n",
    "batch = next(iter(dataloader))\n",
    "\n",
    "for k, v in batch.items():\n",
    "    if isinstance(v, torch.Tensor):\n",
    "        print(k, v.dtype, v.shape)\n",
    "    else:\n",
    "        print(k, type(v))"
   ]
  },
  {
   "cell_type": "code",
   "execution_count": null,
   "metadata": {},
   "outputs": [],
   "source": [
    "# from train_dpt import ProblemDataModule, DPTSolver, L\n",
    "from notebooks.utils import load_config"
   ]
  },
  {
   "cell_type": "code",
   "execution_count": null,
   "metadata": {},
   "outputs": [],
   "source": [
    "config = load_config('../configs/config.yaml')\n",
    "# config['batch_size'] = 3\n",
    "\n",
    "# config['action'] = \"point\"\n",
    "# # target_action: \"gt\"\n",
    "# # ad_ratio: 0.0\n",
    "# config['model_params']['action_dim'] = 50\n",
    "\n",
    "datamodule = ProblemDataModule(config)\n",
    "datamodule.setup()"
   ]
  },
  {
   "cell_type": "code",
   "execution_count": null,
   "metadata": {},
   "outputs": [],
   "source": [
    "batch = next(iter(datamodule.test_dataloader()))"
   ]
  },
  {
   "cell_type": "code",
   "execution_count": null,
   "metadata": {},
   "outputs": [],
   "source": [
    "model = DPTSolver(config)\n",
    "model.configure_model()"
   ]
  },
  {
   "cell_type": "code",
   "execution_count": null,
   "metadata": {},
   "outputs": [],
   "source": [
    "model.test_step(batch, 0)"
   ]
  },
  {
   "cell_type": "code",
   "execution_count": null,
   "metadata": {},
   "outputs": [],
   "source": [
    "# rewards = model.reward_model.offline(\n",
    "rewards = reward_model.offline(\n",
    "    states=batch[\"states\"],\n",
    "    actions=batch[\"actions\"],\n",
    "    next_states=batch[\"next_states\"]\n",
    ")\n",
    "rewards.shape"
   ]
  },
  {
   "cell_type": "code",
   "execution_count": null,
   "metadata": {},
   "outputs": [],
   "source": [
    "outputs = model.model(\n",
    "    query_state=batch[\"query_state\"],\n",
    "    states=batch[\"states\"],\n",
    "    actions=batch[\"actions\"],\n",
    "    next_states=batch[\"next_states\"],\n",
    "    rewards=rewards,\n",
    ")\n",
    "outputs.shape"
   ]
  },
  {
   "cell_type": "code",
   "execution_count": null,
   "metadata": {},
   "outputs": [],
   "source": [
    "trainer = L.Trainer(\n",
    "    logger=None,\n",
    "    precision=config[\"precision\"] if config[\"strategy\"] != \"fsdp\" else None,\n",
    "    max_epochs=config[\"max_epochs\"],\n",
    "    log_every_n_steps=config[\"log_every_n_steps\"],\n",
    "    default_root_dir=config[\"wandb_params\"][\"save_dir\"],\n",
    "    enable_model_summary=True,\n",
    "    use_distributed_sampler=False,\n",
    "    # strategy=config[\"strategy\"]\n",
    ")"
   ]
  },
  {
   "cell_type": "code",
   "execution_count": null,
   "metadata": {},
   "outputs": [],
   "source": []
  }
 ],
 "metadata": {
  "kernelspec": {
   "display_name": "DPT",
   "language": "python",
   "name": "python3"
  },
  "language_info": {
   "codemirror_mode": {
    "name": "ipython",
    "version": 3
   },
   "file_extension": ".py",
   "mimetype": "text/x-python",
   "name": "python",
   "nbconvert_exporter": "python",
   "pygments_lexer": "ipython3",
   "version": "3.12.8"
  }
 },
 "nbformat": 4,
 "nbformat_minor": 2
}
