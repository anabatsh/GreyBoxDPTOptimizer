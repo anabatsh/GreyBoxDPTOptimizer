{
 "cells": [
  {
   "cell_type": "code",
   "execution_count": null,
   "metadata": {},
   "outputs": [],
   "source": [
    "%load_ext autoreload\n",
    "%autoreload 2"
   ]
  },
  {
   "cell_type": "code",
   "execution_count": null,
   "metadata": {},
   "outputs": [],
   "source": [
    "import os\n",
    "import numpy as np\n",
    "from natsort import natsorted\n",
    "from collections import defaultdict\n",
    "from utils import *"
   ]
  },
  {
   "cell_type": "code",
   "execution_count": null,
   "metadata": {},
   "outputs": [],
   "source": [
    "read_dir = '../final_results/normal'\n",
    "name_list = natsorted(os.listdir(read_dir))\n",
    "\n",
    "results = defaultdict(dict)\n",
    "for file_name in name_list:\n",
    "    print(file_name)\n",
    "    read_path = os.path.join(read_dir, file_name)\n",
    "    model_results = np.load(read_path, allow_pickle=True).item()\n",
    "    print(model_results.keys())\n",
    "    for k, v in model_results.items():\n",
    "        results[k].update(v)"
   ]
  },
  {
   "cell_type": "code",
   "execution_count": null,
   "metadata": {},
   "outputs": [],
   "source": [
    "results"
   ]
  },
  {
   "cell_type": "code",
   "execution_count": null,
   "metadata": {},
   "outputs": [],
   "source": [
    "# name = f'DPT_bitflip_gt_rkl'\n",
    "# read_path = f'../final_results/normal/{name}.npy'\n",
    "# model_results = np.load(read_path, allow_pickle=True).item()\n",
    "# show_meta_results(model_results)\n",
    "\n",
    "# model_best = 'DPT (warmup) (sample)'\n",
    "# model_results_best = {\n",
    "#     k: {name: model_results[k][model_best]}\n",
    "#     for k in model_results.keys()\n",
    "# }\n",
    "\n",
    "# name = f'solvers'\n",
    "# read_path = f'../final_results/normal/{name}.npy'\n",
    "# solver_results = np.load(read_path, allow_pickle=True).item()\n",
    "# show_meta_results(solver_results)"
   ]
  },
  {
   "cell_type": "code",
   "execution_count": null,
   "metadata": {},
   "outputs": [],
   "source": [
    "read_dir = '../../final_results/normal'\n",
    "name_list = (\n",
    "    'solvers.npy', \n",
    "    'DPT_bitflip_gt_ce_1k.npy', \n",
    "    'DPT_bitflip_gt_ad_greedy_ce_1k.npy', \n",
    "    'AD_point_next_ce_1k.npy'\n",
    ")\n",
    "# name_list = natsorted(os.listdir(read_dir))\n",
    "model_best = '(warmup) (sample)'\n",
    "\n",
    "results_list = []\n",
    "for file_name in name_list:\n",
    "    read_path = os.path.join(read_dir, file_name)\n",
    "    model_results = np.load(read_path, allow_pickle=True).item()\n",
    "    # show_meta_results(model_results)\n",
    "    name = file_name[:-4]\n",
    "    if name != 'solvers':\n",
    "        model_best_name = 'DPT' if 'DPT' in name else 'AD'\n",
    "        model_best_name += ' (warmup) (sample)'\n",
    "        model_results_best = {\n",
    "            k: {name: model_results[k][model_best_name]}\n",
    "            for k in model_results.keys()\n",
    "        }\n",
    "        results_list.append(model_results_best)\n",
    "    else:\n",
    "        results_list.append(model_results)"
   ]
  },
  {
   "cell_type": "code",
   "execution_count": null,
   "metadata": {},
   "outputs": [],
   "source": [
    "id_name = 'In distribution problems'\n",
    "ood_name = 'Out of distribution problems'\n",
    "names = results_list[0].keys()\n",
    "\n",
    "results = defaultdict(dict)\n",
    "for model_results in results_list:\n",
    "    for k in names:\n",
    "        results[k].update(model_results[k])"
   ]
  },
  {
   "cell_type": "code",
   "execution_count": null,
   "metadata": {},
   "outputs": [],
   "source": [
    "results['Normal(0, 1)'].keys()"
   ]
  },
  {
   "cell_type": "code",
   "execution_count": null,
   "metadata": {},
   "outputs": [],
   "source": [
    "# for k in results.keys():\n",
    "#     # results[k]['DPT'] = results[k].pop('DPT_bitflip_gt_ce_1k')\n",
    "#     # _ = results[k].pop('DPT_bitflip_gt_ad_greedy_ce_1k')\n",
    "#     results[k]['AD'] = results[k].pop('AD_point_next_ce_1k')\n",
    "\n",
    "# for k in results.keys():\n",
    "#     # results[k]['DPT'] = results[k].pop('DPT_bitflip_gt_ce_1k')\n",
    "#     # _ = results[k].pop('DPT_bitflip_gt_ad_greedy_ce_1k')\n",
    "#     results[k].pop('PROTES')\n",
    "#     results[k].pop('GUROBI')\n",
    "\n",
    "\n",
    "show_meta_results(results)"
   ]
  },
  {
   "cell_type": "code",
   "execution_count": null,
   "metadata": {},
   "outputs": [],
   "source": [
    "scaled_results = results #scale_meta_dict(results)\n",
    "averaged_results = get_problem_averaged_meta_dict(scaled_results)\n",
    "show_meta_results({'Normal (nonscaled)': averaged_results})"
   ]
  },
  {
   "cell_type": "code",
   "execution_count": null,
   "metadata": {},
   "outputs": [],
   "source": [
    "show_meta_results({'OOD problem': results['Normal(25, 1)']})"
   ]
  },
  {
   "cell_type": "code",
   "execution_count": null,
   "metadata": {},
   "outputs": [],
   "source": []
  }
 ],
 "metadata": {
  "kernelspec": {
   "display_name": "DPT",
   "language": "python",
   "name": "python3"
  },
  "language_info": {
   "codemirror_mode": {
    "name": "ipython",
    "version": 3
   },
   "file_extension": ".py",
   "mimetype": "text/x-python",
   "name": "python",
   "nbconvert_exporter": "python",
   "pygments_lexer": "ipython3",
   "version": "3.12.8"
  }
 },
 "nbformat": 4,
 "nbformat_minor": 2
}
