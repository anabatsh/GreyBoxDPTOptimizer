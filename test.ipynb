{
 "cells": [
  {
   "cell_type": "code",
   "execution_count": 2,
   "metadata": {},
   "outputs": [],
   "source": [
    "%load_ext autoreload\n",
    "%autoreload 2"
   ]
  },
  {
   "cell_type": "code",
   "execution_count": 4,
   "metadata": {},
   "outputs": [],
   "source": [
    "import os\n",
    "from natsort import natsorted\n",
    "import matplotlib.pyplot as plt\n",
    "\n",
    "from problems import *\n",
    "from solvers import *"
   ]
  },
  {
   "cell_type": "code",
   "execution_count": null,
   "metadata": {},
   "outputs": [],
   "source": [
    "problem = QUBO(d=10, n=2, seed=np.random.randint(0, 100))\n",
    "print(problem.info)"
   ]
  },
  {
   "cell_type": "code",
   "execution_count": null,
   "metadata": {},
   "outputs": [],
   "source": [
    "solver = PROTES(problem=problem, budget=100, k_init=0, k_samples=50, k_top=5, seed=0)\n",
    "logs = solver.optimize()\n",
    "plt.plot(logs['m_list'], logs['y_list'], '-o')"
   ]
  },
  {
   "cell_type": "code",
   "execution_count": null,
   "metadata": {},
   "outputs": [],
   "source": [
    "solvers = [\n",
    "    (\"PROTES\", partial(PROTES, budget=100, k_init=0, k_samples=50, k_top=5, seed=0)),\n",
    "    (\"OnePlusOne\", partial(OnePlusOne, budget=100, k_init=0, k_samples=1, seed=0)),\n",
    "    (\"PSO\", partial(PSO, budget=100, k_init=0, k_samples=1, seed=0)),\n",
    "    (\"NoisyBandit\", partial(NoisyBandit, budget=100, k_init=0, k_samples=1, seed=0)),\n",
    "    (\"SPSA\", partial(SPSA, budget=100, k_init=0, k_samples=1, seed=0)),\n",
    "    (\"Portfolio\", partial(Portfolio, budget=100, k_init=0, k_samples=1, seed=0)),\n",
    "]\n",
    "for name, solver in solvers:\n",
    "    logs = solver(problem=problem).optimize()\n",
    "    plt.plot(logs['m_list'], logs['y_list'], label=name)\n",
    "plt.legend()\n",
    "plt.show()"
   ]
  },
  {
   "cell_type": "code",
   "execution_count": 15,
   "metadata": {},
   "outputs": [],
   "source": [
    "run_name = \"687dgk2p\"\n",
    "root_dir = os.path.join(\"results\", \"DPT_3\", run_name, \"checkpoints\")\n",
    "checkpoint = natsorted(os.listdir(root_dir))[-1]\n",
    "checkpoint = os.path.join(root_dir, checkpoint)\n",
    "\n",
    "solver = DPT(problem, budget=30, checkpoint=checkpoint)\n",
    "logs = solver.optimize()\n",
    "plt.plot(logs['m_list'], logs['y_list'], '-o')"
   ]
  }
 ],
 "metadata": {
  "kernelspec": {
   "display_name": "DPT",
   "language": "python",
   "name": "python3"
  },
  "language_info": {
   "codemirror_mode": {
    "name": "ipython",
    "version": 3
   },
   "file_extension": ".py",
   "mimetype": "text/x-python",
   "name": "python",
   "nbconvert_exporter": "python",
   "pygments_lexer": "ipython3",
   "version": "3.12.8"
  }
 },
 "nbformat": 4,
 "nbformat_minor": 2
}
