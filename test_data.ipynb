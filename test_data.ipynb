{
 "cells": [
  {
   "cell_type": "code",
   "execution_count": 1,
   "metadata": {},
   "outputs": [],
   "source": [
    "from functools import partial\n",
    "from torch.utils.data import DataLoader\n",
    "\n",
    "from problems import ContinuousQuadratic, DiscreteQuadratic\n",
    "from src.data import OfflineDataset, OnlineDataset, custom_collate_fn"
   ]
  },
  {
   "cell_type": "code",
   "execution_count": 2,
   "metadata": {},
   "outputs": [],
   "source": [
    "%load_ext autoreload\n",
    "%autoreload 2"
   ]
  },
  {
   "cell_type": "code",
   "execution_count": 4,
   "metadata": {},
   "outputs": [],
   "source": [
    "n = 1\n",
    "d = 1\n",
    "\n",
    "if n == 1:\n",
    "    problem_class = ContinuousQuadratic\n",
    "    problems = [problem_class(d=d, n=n, seed=seed) for seed in range(10)]\n",
    "else:\n",
    "    problem_class = DiscreteQuadratic\n",
    "    problems = [problem_class(d=d, n=n, seed=seed) for seed in range(10)]"
   ]
  },
  {
   "cell_type": "markdown",
   "metadata": {},
   "source": [
    "### Offline Dataset"
   ]
  },
  {
   "cell_type": "code",
   "execution_count": 6,
   "metadata": {},
   "outputs": [
    {
     "data": {
      "text/plain": [
       "{'x': tensor([[0.5488],\n",
       "         [0.7152],\n",
       "         [0.6028]]),\n",
       " 'y': tensor([0.4171, 0.4739, 0.4002]),\n",
       " 'x_min': tensor([0.6028]),\n",
       " 'problem': <problems.quadratic.ContinuousQuadratic at 0x7a78186b2660>}"
      ]
     },
     "execution_count": 6,
     "metadata": {},
     "output_type": "execute_result"
    }
   ],
   "source": [
    "dataset = OfflineDataset(problems, seq_len=3)\n",
    "sample = dataset[0]\n",
    "sample"
   ]
  },
  {
   "cell_type": "code",
   "execution_count": 7,
   "metadata": {},
   "outputs": [
    {
     "name": "stdout",
     "output_type": "stream",
     "text": [
      "x torch.Size([3, 1]) torch.float32\n",
      "y torch.Size([3]) torch.float32\n",
      "x_min torch.Size([1]) torch.float32\n",
      "problem <problems.quadratic.ContinuousQuadratic object at 0x7a78186b2660> <class 'problems.quadratic.ContinuousQuadratic'>\n"
     ]
    }
   ],
   "source": [
    "print('x', sample[\"x\"].shape, sample[\"x\"].dtype)\n",
    "print('y', sample[\"y\"].shape, sample[\"y\"].dtype)\n",
    "print('x_min', sample[\"x_min\"].shape, sample[\"x_min\"].dtype)\n",
    "print('problem', sample[\"problem\"], type(sample[\"problem\"]))"
   ]
  },
  {
   "cell_type": "code",
   "execution_count": 11,
   "metadata": {},
   "outputs": [
    {
     "data": {
      "text/plain": [
       "{'x': tensor([[[0.5488],\n",
       "          [0.7152],\n",
       "          [0.6028]],\n",
       " \n",
       "         [[0.5488],\n",
       "          [0.7152],\n",
       "          [0.6028]]]),\n",
       " 'y': tensor([[0.4171, 0.4739, 0.4002],\n",
       "         [0.9162, 1.9833, 1.2314]]),\n",
       " 'x_min': tensor([[6.0276e-01],\n",
       "         [1.1437e-04]]),\n",
       " 'problem': [<problems.quadratic.ContinuousQuadratic at 0x7a78186b2660>,\n",
       "  <problems.quadratic.ContinuousQuadratic at 0x7a77f4b17b30>]}"
      ]
     },
     "execution_count": 11,
     "metadata": {},
     "output_type": "execute_result"
    }
   ],
   "source": [
    "collate_fn = partial(custom_collate_fn, problem_class=problem_class)\n",
    "dataloader = DataLoader(dataset, batch_size=2, collate_fn=collate_fn)\n",
    "batch = next(iter(dataloader))\n",
    "batch"
   ]
  },
  {
   "cell_type": "code",
   "execution_count": 12,
   "metadata": {},
   "outputs": [
    {
     "name": "stdout",
     "output_type": "stream",
     "text": [
      "x torch.Size([2, 3, 1]) torch.float32\n",
      "y torch.Size([2, 3]) torch.float32\n",
      "x_min torch.Size([2, 1]) torch.float32\n",
      "problem [<problems.quadratic.ContinuousQuadratic object at 0x7a78186b2660>, <problems.quadratic.ContinuousQuadratic object at 0x7a77f4b17b30>] <class 'list'>\n"
     ]
    }
   ],
   "source": [
    "print('x', batch[\"x\"].shape, batch[\"x\"].dtype)\n",
    "print('y', batch[\"y\"].shape, batch[\"y\"].dtype)\n",
    "print('x_min', batch[\"x_min\"].shape, batch[\"x_min\"].dtype)\n",
    "print('problem', batch[\"problem\"], type(batch[\"problem\"]))"
   ]
  },
  {
   "cell_type": "markdown",
   "metadata": {},
   "source": [
    "### Online Dataset"
   ]
  },
  {
   "cell_type": "code",
   "execution_count": 14,
   "metadata": {},
   "outputs": [
    {
     "data": {
      "text/plain": [
       "{'x_min': tensor([0.6028]),\n",
       " 'problem': <problems.quadratic.ContinuousQuadratic at 0x7a78186b2660>}"
      ]
     },
     "execution_count": 14,
     "metadata": {},
     "output_type": "execute_result"
    }
   ],
   "source": [
    "dataset = OnlineDataset(problems)\n",
    "sample = dataset[0]\n",
    "sample"
   ]
  },
  {
   "cell_type": "code",
   "execution_count": 15,
   "metadata": {},
   "outputs": [
    {
     "name": "stdout",
     "output_type": "stream",
     "text": [
      "x_min torch.Size([1]) torch.float32\n",
      "problem <problems.quadratic.ContinuousQuadratic object at 0x7a78186b2660> <class 'problems.quadratic.ContinuousQuadratic'>\n"
     ]
    }
   ],
   "source": [
    "print('x_min', sample[\"x_min\"].shape, sample[\"x_min\"].dtype)\n",
    "print('problem', sample[\"problem\"], type(sample[\"problem\"]))"
   ]
  },
  {
   "cell_type": "code",
   "execution_count": 17,
   "metadata": {},
   "outputs": [
    {
     "data": {
      "text/plain": [
       "{'x_min': tensor([[6.0276e-01],\n",
       "         [1.1437e-04]]),\n",
       " 'problem': [<problems.quadratic.ContinuousQuadratic at 0x7a78186b2660>,\n",
       "  <problems.quadratic.ContinuousQuadratic at 0x7a77f4b17b30>]}"
      ]
     },
     "execution_count": 17,
     "metadata": {},
     "output_type": "execute_result"
    }
   ],
   "source": [
    "collate_fn = partial(custom_collate_fn, problem_class=problem_class)\n",
    "dataloader = DataLoader(dataset, batch_size=2, collate_fn=collate_fn)\n",
    "batch = next(iter(dataloader))\n",
    "batch"
   ]
  },
  {
   "cell_type": "code",
   "execution_count": 18,
   "metadata": {},
   "outputs": [
    {
     "name": "stdout",
     "output_type": "stream",
     "text": [
      "x_min torch.Size([2, 1]) torch.float32\n",
      "problem [<problems.quadratic.ContinuousQuadratic object at 0x7a78186b2660>, <problems.quadratic.ContinuousQuadratic object at 0x7a77f4b17b30>] <class 'list'>\n"
     ]
    }
   ],
   "source": [
    "print('x_min', batch[\"x_min\"].shape, batch[\"x_min\"].dtype)\n",
    "print('problem', batch[\"problem\"], type(batch[\"problem\"]))"
   ]
  }
 ],
 "metadata": {
  "kernelspec": {
   "display_name": "DPT",
   "language": "python",
   "name": "python3"
  },
  "language_info": {
   "codemirror_mode": {
    "name": "ipython",
    "version": 3
   },
   "file_extension": ".py",
   "mimetype": "text/x-python",
   "name": "python",
   "nbconvert_exporter": "python",
   "pygments_lexer": "ipython3",
   "version": "3.12.8"
  }
 },
 "nbformat": 4,
 "nbformat_minor": 2
}
