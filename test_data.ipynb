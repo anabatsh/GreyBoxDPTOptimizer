{
 "cells": [
  {
   "cell_type": "code",
   "execution_count": null,
   "metadata": {},
   "outputs": [],
   "source": [
    "%load_ext autoreload\n",
    "%autoreload 2"
   ]
  },
  {
   "cell_type": "code",
   "execution_count": null,
   "metadata": {},
   "outputs": [],
   "source": [
    "from scripts.create_problem import load_problem_set\n",
    "from scripts.run_solver import load_results"
   ]
  },
  {
   "cell_type": "code",
   "execution_count": null,
   "metadata": {},
   "outputs": [],
   "source": [
    "len(load_problem_set('data/normal/Normal(0, 1)/train'))"
   ]
  },
  {
   "cell_type": "code",
   "execution_count": null,
   "metadata": {},
   "outputs": [],
   "source": [
    "# from problems import *\n",
    "# from solvers import *\n",
    "\n",
    "# from scripts.create_problem import load_problem_set\n",
    "# from scripts.run_solver import load_results\n",
    "\n",
    "from utils import *\n",
    "from natsort import natsorted"
   ]
  },
  {
   "cell_type": "code",
   "execution_count": null,
   "metadata": {},
   "outputs": [],
   "source": [
    "# read_dir = \"data/various\"\n",
    "read_dir = \"data/normal\"\n",
    "# read_dir = \"data/distributions\"\n",
    "problem_list = natsorted(os.listdir(read_dir))\n",
    "\n",
    "# problem_list = [\n",
    "#     'SPP',\n",
    "#     'GraphColoring',\n",
    "#     'Knapsack',\n",
    "#     'MVC',\n",
    "#     'QUBO',\n",
    "#     'SetPack',\n",
    "#     'WMaxCut',\n",
    "#     'NumberPartitioning',\n",
    "#     'MaxCut',\n",
    "#     'WMVC',\n",
    "#     'Ising',\n",
    "#     'Max2Sat',\n",
    "#     'QAP'\n",
    "# ]\n",
    "\n",
    "# problem_list = [\n",
    "#     # 'Distribution__mode_normal__loc_-25__scale_1',\n",
    "#     # 'Distribution__mode_normal__loc_-20__scale_1',\n",
    "#     # 'Distribution__mode_normal__loc_-15__scale_1',\n",
    "#     # 'Distribution__mode_normal__loc_-10__scale_1',\n",
    "#     # 'Distribution__mode_normal__loc_-5__scale_1',\n",
    "#     'Distribution__mode_normal__loc_0__scale_1',\n",
    "#     'Distribution__mode_normal__loc_5__scale_1',\n",
    "#     'Distribution__mode_normal__loc_10__scale_1',\n",
    "#     'Distribution__mode_normal__loc_15__scale_1',\n",
    "#     'Distribution__mode_normal__loc_20__scale_1',\n",
    "#     'Distribution__mode_normal__loc_25__scale_1',\n",
    "#     'Distribution__mode_normal__loc_30__scale_1',\n",
    "#     'Distribution__mode_normal__loc_35__scale_1',\n",
    "#     'Distribution__mode_normal__loc_40__scale_1',\n",
    "#     'Distribution__mode_normal__loc_45__scale_1',\n",
    "#     'Distribution__mode_normal__loc_50__scale_1',\n",
    "# ]\n",
    "\n",
    "X, y = get_Xy(read_dir, problem_list)\n",
    "X_tsne = get_tsne(X)\n",
    "show_tsne(problem_list, X_tsne, y)\n",
    "print_unique(read_dir, problem_list)"
   ]
  },
  {
   "cell_type": "code",
   "execution_count": null,
   "metadata": {},
   "outputs": [],
   "source": [
    "d_x = []\n",
    "problem_name = 'QAP'\n",
    "problems = load_problem_set(f'{read_dir}/{problem_name}/train')\n",
    "for problem in problems:\n",
    "    d_x.append(problem.info['x_best'])\n",
    "    print(problem.Q)\n",
    "x_unique = torch.unique(torch.stack(d_x), dim=0)\n",
    "print(x_unique)"
   ]
  },
  {
   "cell_type": "code",
   "execution_count": null,
   "metadata": {},
   "outputs": [],
   "source": [
    "print(x_unique[1, :-1].reshape(7, 7))"
   ]
  },
  {
   "cell_type": "code",
   "execution_count": null,
   "metadata": {},
   "outputs": [],
   "source": [
    "# read_dir = 'results/various'\n",
    "read_dir = 'results/normal'\n",
    "# read_dir = 'results/distributions'\n",
    "\n",
    "# problem_list = os.listdir(read_dir)\n",
    "meta_results = get_meta_results(read_dir, problem_list)\n",
    "problem_averaged_meta_results = get_problem_averaged_meta_results(meta_results)"
   ]
  },
  {
   "cell_type": "code",
   "execution_count": null,
   "metadata": {},
   "outputs": [],
   "source": [
    "show_meta_results(meta_results)\n",
    "show_meta_results(problem_averaged_meta_results)"
   ]
  },
  {
   "cell_type": "code",
   "execution_count": null,
   "metadata": {},
   "outputs": [],
   "source": []
  }
 ],
 "metadata": {
  "kernelspec": {
   "display_name": "DPT",
   "language": "python",
   "name": "python3"
  },
  "language_info": {
   "codemirror_mode": {
    "name": "ipython",
    "version": 3
   },
   "file_extension": ".py",
   "mimetype": "text/x-python",
   "name": "python",
   "nbconvert_exporter": "python",
   "pygments_lexer": "ipython3",
   "version": "3.12.8"
  }
 },
 "nbformat": 4,
 "nbformat_minor": 2
}
