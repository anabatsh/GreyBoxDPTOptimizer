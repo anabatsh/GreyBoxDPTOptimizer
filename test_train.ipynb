{
 "cells": [
  {
   "cell_type": "code",
   "execution_count": 1,
   "metadata": {},
   "outputs": [],
   "source": [
    "from functools import partial\n",
    "from torch.utils.data import DataLoader\n",
    "\n",
    "import problems as p\n",
    "from src.data import OfflineDataset, OnlineDataset, custom_collate_fn\n",
    "from src.train import DPTSolver\n",
    "from utils import load_config"
   ]
  },
  {
   "cell_type": "code",
   "execution_count": 2,
   "metadata": {},
   "outputs": [],
   "source": [
    "%load_ext autoreload\n",
    "%autoreload 2"
   ]
  },
  {
   "cell_type": "code",
   "execution_count": 3,
   "metadata": {},
   "outputs": [
    {
     "name": "stdout",
     "output_type": "stream",
     "text": [
      "problem: ContinuousQuadratic({'d': 1, 'n': 1})\n",
      "seq_len: 3\n"
     ]
    }
   ],
   "source": [
    "config = load_config('config.yaml')\n",
    "print(f'problem: {config[\"problem\"]}({config[\"problem_params\"]})')\n",
    "print(f'seq_len: {config[\"model_params\"][\"seq_len\"]}')\n",
    "\n",
    "problem_class = getattr(p, config[\"problem\"])\n",
    "problems = [problem_class(**config[\"problem_params\"], seed=seed) for seed in range(10)]"
   ]
  },
  {
   "cell_type": "code",
   "execution_count": 10,
   "metadata": {},
   "outputs": [],
   "source": [
    "device = \"cpu\"\n",
    "# device = \"cuda\"\n",
    "model = DPTSolver(config).to(device)"
   ]
  },
  {
   "cell_type": "markdown",
   "metadata": {},
   "source": [
    "### Offline Dataset"
   ]
  },
  {
   "cell_type": "code",
   "execution_count": 12,
   "metadata": {},
   "outputs": [
    {
     "data": {
      "text/plain": [
       "{'x': tensor([[[0.5488],\n",
       "          [0.7152],\n",
       "          [0.6028]],\n",
       " \n",
       "         [[0.5488],\n",
       "          [0.7152],\n",
       "          [0.6028]]]),\n",
       " 'y': tensor([[0.4171, 0.4739, 0.4002],\n",
       "         [0.9162, 1.9833, 1.2314]]),\n",
       " 'x_min': tensor([[6.0276e-01],\n",
       "         [1.1437e-04]]),\n",
       " 'problem': [<problems.quadratic.ContinuousQuadratic at 0x7bb9e699abd0>,\n",
       "  <problems.quadratic.ContinuousQuadratic at 0x7bb9e550f0e0>]}"
      ]
     },
     "execution_count": 12,
     "metadata": {},
     "output_type": "execute_result"
    }
   ],
   "source": [
    "seq_len = 3\n",
    "batch_size = 2\n",
    "\n",
    "dataset = OfflineDataset(problems, seq_len=seq_len)\n",
    "collate_fn = partial(custom_collate_fn, problem_class=problem_class)\n",
    "dataloader = DataLoader(dataset, batch_size=batch_size, collate_fn=collate_fn)\n",
    "batch = next(iter(dataloader))\n",
    "batch"
   ]
  },
  {
   "cell_type": "code",
   "execution_count": 13,
   "metadata": {},
   "outputs": [
    {
     "name": "stdout",
     "output_type": "stream",
     "text": [
      "x torch.Size([2, 3, 1]) torch.float32\n",
      "y torch.Size([2, 3]) torch.float32\n",
      "x_min torch.Size([2, 1]) torch.float32\n",
      "problem [<problems.quadratic.ContinuousQuadratic object at 0x7bb9e699abd0>, <problems.quadratic.ContinuousQuadratic object at 0x7bb9e550f0e0>] <class 'list'>\n"
     ]
    }
   ],
   "source": [
    "print('x', batch[\"x\"].shape, batch[\"x\"].dtype)\n",
    "print('y', batch[\"y\"].shape, batch[\"y\"].dtype)\n",
    "print('x_min', batch[\"x_min\"].shape, batch[\"x_min\"].dtype)\n",
    "print('problem', batch[\"problem\"], type(batch[\"problem\"]))"
   ]
  },
  {
   "cell_type": "code",
   "execution_count": 16,
   "metadata": {},
   "outputs": [
    {
     "data": {
      "text/plain": [
       "{'outputs': tensor([[[ 0.2753],\n",
       "          [ 0.2370],\n",
       "          [ 0.2271],\n",
       "          [ 0.2481]],\n",
       " \n",
       "         [[ 0.2753],\n",
       "          [ 0.1574],\n",
       "          [-0.0752],\n",
       "          [ 0.0806]]], grad_fn=<ViewBackward0>),\n",
       " 'predictions': tensor([[[ 0.2753],\n",
       "          [ 0.2370],\n",
       "          [ 0.2271],\n",
       "          [ 0.2481]],\n",
       " \n",
       "         [[ 0.2753],\n",
       "          [ 0.1574],\n",
       "          [-0.0752],\n",
       "          [ 0.0806]]], grad_fn=<ViewBackward0>),\n",
       " 'targets': tensor([[6.0276e-01],\n",
       "         [1.1437e-04]])}"
      ]
     },
     "execution_count": 16,
     "metadata": {},
     "output_type": "execute_result"
    }
   ],
   "source": [
    "outputs = model._offline_step(batch)\n",
    "outputs"
   ]
  },
  {
   "cell_type": "code",
   "execution_count": 17,
   "metadata": {},
   "outputs": [
    {
     "name": "stdout",
     "output_type": "stream",
     "text": [
      "outputs torch.Size([2, 4, 1]) torch.float32\n",
      "predictions torch.Size([2, 4, 1]) torch.float32\n",
      "targets torch.Size([2, 1]) torch.float32\n"
     ]
    }
   ],
   "source": [
    "print('outputs', outputs[\"outputs\"].shape, outputs[\"outputs\"].dtype)\n",
    "print('predictions', outputs[\"predictions\"].shape, outputs[\"predictions\"].dtype)\n",
    "print('targets', outputs[\"targets\"].shape, outputs[\"targets\"].dtype)"
   ]
  },
  {
   "cell_type": "code",
   "execution_count": 19,
   "metadata": {},
   "outputs": [
    {
     "data": {
      "text/plain": [
       "{'loss': tensor(0.0661, grad_fn=<MseLossBackward0>),\n",
       " 'accuracy': tensor(0.),\n",
       " 'mae': tensor(0.2175, grad_fn=<MeanBackward0>)}"
      ]
     },
     "execution_count": 19,
     "metadata": {},
     "output_type": "execute_result"
    }
   ],
   "source": [
    "model.training_step(batch, 0)"
   ]
  },
  {
   "cell_type": "code",
   "execution_count": 20,
   "metadata": {},
   "outputs": [
    {
     "data": {
      "text/plain": [
       "{'loss': tensor(0.0661, grad_fn=<MseLossBackward0>),\n",
       " 'accuracy': tensor(0.),\n",
       " 'mae': tensor(0.2175, grad_fn=<MeanBackward0>)}"
      ]
     },
     "execution_count": 20,
     "metadata": {},
     "output_type": "execute_result"
    }
   ],
   "source": [
    "model.eval()\n",
    "model.validation_step(batch, 0)"
   ]
  },
  {
   "cell_type": "markdown",
   "metadata": {},
   "source": [
    "### Online Dataset"
   ]
  },
  {
   "cell_type": "code",
   "execution_count": 22,
   "metadata": {},
   "outputs": [
    {
     "data": {
      "text/plain": [
       "{'x_min': tensor([[6.0276e-01],\n",
       "         [1.1437e-04]]),\n",
       " 'problem': [<problems.quadratic.ContinuousQuadratic at 0x7bb9e699abd0>,\n",
       "  <problems.quadratic.ContinuousQuadratic at 0x7bb9e550f0e0>]}"
      ]
     },
     "execution_count": 22,
     "metadata": {},
     "output_type": "execute_result"
    }
   ],
   "source": [
    "dataset = OnlineDataset(problems)\n",
    "collate_fn = partial(custom_collate_fn, problem_class=problem_class)\n",
    "dataloader = DataLoader(dataset, batch_size=2, collate_fn=collate_fn)\n",
    "batch = next(iter(dataloader))\n",
    "batch"
   ]
  },
  {
   "cell_type": "code",
   "execution_count": 23,
   "metadata": {},
   "outputs": [
    {
     "name": "stdout",
     "output_type": "stream",
     "text": [
      "x_min torch.Size([2, 1]) torch.float32\n",
      "problem [<problems.quadratic.ContinuousQuadratic object at 0x7bb9e699abd0>, <problems.quadratic.ContinuousQuadratic object at 0x7bb9e550f0e0>] <class 'list'>\n"
     ]
    }
   ],
   "source": [
    "print('x_min', batch[\"x_min\"].shape, batch[\"x_min\"].dtype)\n",
    "print('problem', batch[\"problem\"], type(batch[\"problem\"]))"
   ]
  },
  {
   "cell_type": "code",
   "execution_count": 26,
   "metadata": {},
   "outputs": [
    {
     "data": {
      "text/plain": [
       "{'outputs': tensor([[[0.2753],\n",
       "          [0.1444],\n",
       "          [0.0495]],\n",
       " \n",
       "         [[0.2753],\n",
       "          [0.3290],\n",
       "          [0.3033]]], grad_fn=<StackBackward0>),\n",
       " 'predictions': tensor([[[0.2753],\n",
       "          [0.1444],\n",
       "          [0.0495]],\n",
       " \n",
       "         [[0.2753],\n",
       "          [0.3290],\n",
       "          [0.3033]]], grad_fn=<StackBackward0>),\n",
       " 'targets': tensor([[6.0276e-01],\n",
       "         [1.1437e-04]])}"
      ]
     },
     "execution_count": 26,
     "metadata": {},
     "output_type": "execute_result"
    }
   ],
   "source": [
    "outputs = model._online_step(batch)\n",
    "outputs"
   ]
  },
  {
   "cell_type": "code",
   "execution_count": 27,
   "metadata": {},
   "outputs": [
    {
     "name": "stdout",
     "output_type": "stream",
     "text": [
      "outputs torch.Size([2, 3, 1]) torch.float32\n",
      "predictions torch.Size([2, 3, 1]) torch.float32\n",
      "targets torch.Size([2, 1]) torch.float32\n"
     ]
    }
   ],
   "source": [
    "print('outputs', outputs[\"outputs\"].shape, outputs[\"outputs\"].dtype)\n",
    "print('predictions', outputs[\"predictions\"].shape, outputs[\"predictions\"].dtype)\n",
    "print('targets', outputs[\"targets\"].shape, outputs[\"targets\"].dtype)"
   ]
  },
  {
   "cell_type": "code",
   "execution_count": 30,
   "metadata": {},
   "outputs": [
    {
     "data": {
      "text/plain": [
       "{'loss': tensor(0.1990, grad_fn=<MseLossBackward0>),\n",
       " 'accuracy': tensor(0.),\n",
       " 'mae': tensor(0.4282, grad_fn=<MeanBackward0>)}"
      ]
     },
     "execution_count": 30,
     "metadata": {},
     "output_type": "execute_result"
    }
   ],
   "source": [
    "model.eval()\n",
    "model.validation_step(batch, 0)"
   ]
  }
 ],
 "metadata": {
  "kernelspec": {
   "display_name": "DPT",
   "language": "python",
   "name": "python3"
  },
  "language_info": {
   "codemirror_mode": {
    "name": "ipython",
    "version": 3
   },
   "file_extension": ".py",
   "mimetype": "text/x-python",
   "name": "python",
   "nbconvert_exporter": "python",
   "pygments_lexer": "ipython3",
   "version": "3.12.8"
  }
 },
 "nbformat": 4,
 "nbformat_minor": 2
}
