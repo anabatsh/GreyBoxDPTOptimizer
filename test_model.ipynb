{
 "cells": [
  {
   "cell_type": "code",
   "execution_count": 1,
   "metadata": {},
   "outputs": [],
   "source": [
    "from functools import partial\n",
    "from torch.utils.data import DataLoader\n",
    "\n",
    "from problems import ContinuousQuadratic, DiscreteQuadratic\n",
    "from src.data import OfflineDataset, OnlineDataset, custom_collate_fn\n",
    "from src.model import DPT"
   ]
  },
  {
   "cell_type": "code",
   "execution_count": 2,
   "metadata": {},
   "outputs": [],
   "source": [
    "%load_ext autoreload\n",
    "%autoreload 2"
   ]
  },
  {
   "cell_type": "code",
   "execution_count": 3,
   "metadata": {},
   "outputs": [],
   "source": [
    "n = 1\n",
    "d = 1\n",
    "\n",
    "if n == 1:\n",
    "    problem_class = ContinuousQuadratic\n",
    "    problems = [problem_class(d=d, n=n, seed=seed) for seed in range(10)]\n",
    "else:\n",
    "    problem_class = DiscreteQuadratic\n",
    "    problems = [problem_class(d=d, n=n, seed=seed) for seed in range(10)]"
   ]
  },
  {
   "cell_type": "code",
   "execution_count": 12,
   "metadata": {},
   "outputs": [
    {
     "data": {
      "text/plain": [
       "{'x': tensor([[[0.5488],\n",
       "          [0.7152],\n",
       "          [0.6028]],\n",
       " \n",
       "         [[0.5488],\n",
       "          [0.7152],\n",
       "          [0.6028]]]),\n",
       " 'y': tensor([[0.4171, 0.4739, 0.4002],\n",
       "         [0.9162, 1.9833, 1.2314]]),\n",
       " 'x_min': tensor([[6.0276e-01],\n",
       "         [1.1437e-04]]),\n",
       " 'problem': [<problems.quadratic.ContinuousQuadratic at 0x7baa833d03e0>,\n",
       "  <problems.quadratic.ContinuousQuadratic at 0x7baaf0413c80>]}"
      ]
     },
     "execution_count": 12,
     "metadata": {},
     "output_type": "execute_result"
    }
   ],
   "source": [
    "seq_len = 3\n",
    "batch_size = 2\n",
    "\n",
    "dataset = OfflineDataset(problems, seq_len=seq_len)\n",
    "collate_fn = partial(custom_collate_fn, problem_class=problem_class)\n",
    "dataloader = DataLoader(dataset, batch_size=batch_size, collate_fn=collate_fn)\n",
    "batch = next(iter(dataloader))\n",
    "batch"
   ]
  },
  {
   "cell_type": "code",
   "execution_count": 13,
   "metadata": {},
   "outputs": [
    {
     "name": "stdout",
     "output_type": "stream",
     "text": [
      "x torch.Size([2, 3, 1]) torch.float32\n",
      "y torch.Size([2, 3]) torch.float32\n",
      "x_min torch.Size([2, 1]) torch.float32\n",
      "problem [<problems.quadratic.ContinuousQuadratic object at 0x7baa833d03e0>, <problems.quadratic.ContinuousQuadratic object at 0x7baaf0413c80>] <class 'list'>\n"
     ]
    }
   ],
   "source": [
    "print('x', batch[\"x\"].shape, batch[\"x\"].dtype)\n",
    "print('y', batch[\"y\"].shape, batch[\"y\"].dtype)\n",
    "print('x_min', batch[\"x_min\"].shape, batch[\"x_min\"].dtype)\n",
    "print('problem', batch[\"problem\"], type(batch[\"problem\"]))"
   ]
  },
  {
   "cell_type": "code",
   "execution_count": 44,
   "metadata": {},
   "outputs": [
    {
     "data": {
      "text/plain": [
       "tensor([[[-0.7146],\n",
       "         [-0.1747],\n",
       "         [-0.0399],\n",
       "         [-0.1165]],\n",
       "\n",
       "        [[-0.7146],\n",
       "         [ 0.2069],\n",
       "         [ 0.9116],\n",
       "         [ 0.6276]]], grad_fn=<ViewBackward0>)"
      ]
     },
     "execution_count": 44,
     "metadata": {},
     "output_type": "execute_result"
    }
   ],
   "source": [
    "device = \"cpu\"\n",
    "# device = \"cuda\"\n",
    "# model = DPT(\n",
    "#     seq_len=seq_len, input_dim=d, output_dim=d, hidden_dim=16, \n",
    "#     embedding_dropout=0.0, attention_dropout=0.0, residual_dropout=0.0\n",
    "# ).to(device)\n",
    "outputs = model(batch[\"x\"].to(device), batch[\"y\"].to(device))\n",
    "outputs"
   ]
  },
  {
   "cell_type": "code",
   "execution_count": 41,
   "metadata": {},
   "outputs": [
    {
     "name": "stdout",
     "output_type": "stream",
     "text": [
      "outputs torch.Size([2, 4, 1]) torch.float32 cpu\n"
     ]
    }
   ],
   "source": [
    "print('outputs', outputs.shape, outputs.dtype, outputs.device)"
   ]
  }
 ],
 "metadata": {
  "kernelspec": {
   "display_name": "DPT",
   "language": "python",
   "name": "python3"
  },
  "language_info": {
   "codemirror_mode": {
    "name": "ipython",
    "version": 3
   },
   "file_extension": ".py",
   "mimetype": "text/x-python",
   "name": "python",
   "nbconvert_exporter": "python",
   "pygments_lexer": "ipython3",
   "version": "3.12.8"
  }
 },
 "nbformat": 4,
 "nbformat_minor": 2
}
