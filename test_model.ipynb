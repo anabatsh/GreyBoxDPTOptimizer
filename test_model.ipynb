{
 "cells": [
  {
   "cell_type": "code",
   "execution_count": null,
   "metadata": {},
   "outputs": [],
   "source": [
    "%load_ext autoreload\n",
    "%autoreload 2"
   ]
  },
  {
   "cell_type": "code",
   "execution_count": null,
   "metadata": {},
   "outputs": [],
   "source": [
    "from problems import *"
   ]
  },
  {
   "cell_type": "code",
   "execution_count": null,
   "metadata": {},
   "outputs": [],
   "source": [
    "Problem().name\n",
    "QUBOBase().name\n",
    "Distribution(loc=0, scale=1).name\n",
    "QUBO().name"
   ]
  },
  {
   "cell_type": "code",
   "execution_count": null,
   "metadata": {},
   "outputs": [],
   "source": [
    "import os\n",
    "from functools import partial\n",
    "from torch.utils.data import DataLoader"
   ]
  },
  {
   "cell_type": "code",
   "execution_count": null,
   "metadata": {},
   "outputs": [],
   "source": [
    "from scripts.create_problem import load_problem_set\n",
    "import problems as pbs\n",
    "from dpt.data_ import *\n",
    "from train_dpt import *"
   ]
  },
  {
   "cell_type": "code",
   "execution_count": null,
   "metadata": {},
   "outputs": [],
   "source": [
    "problems = load_problem_set('data/various/QUBO/test')\n",
    "results_dir = 'results/various'"
   ]
  },
  {
   "cell_type": "code",
   "execution_count": null,
   "metadata": {},
   "outputs": [],
   "source": [
    "dataset = OfflineDataset(problems, seq_len=10, results_dir=results_dir, ad_ratio=0.0, action='bitflip', target_action='greedy')\n",
    "sample = dataset[0]\n",
    "\n",
    "for k, v in sample.items():\n",
    "    if isinstance(v, torch.Tensor):\n",
    "        print(k, v.dtype, v.shape)\n",
    "    else:\n",
    "        print(k, type(v))\n",
    "\n",
    "# print(sample['query_state'])\n",
    "# print(sample['target_action'])\n",
    "# print(sample['target_state'])"
   ]
  },
  {
   "cell_type": "code",
   "execution_count": null,
   "metadata": {},
   "outputs": [],
   "source": [
    "collate_fn = partial(custom_collate_fn, problem_classes=[getattr(pbs, 'QUBO')])\n",
    "dataloader = DataLoader(dataset=dataset, batch_size=10, collate_fn=collate_fn)\n",
    "batch = next(iter(dataloader))\n",
    "\n",
    "for k, v in batch.items():\n",
    "    if isinstance(v, torch.Tensor):\n",
    "        print(k, v.dtype, v.shape)\n",
    "    else:\n",
    "        print(k, type(v))"
   ]
  },
  {
   "cell_type": "code",
   "execution_count": null,
   "metadata": {},
   "outputs": [],
   "source": [
    "# from train_dpt import ProblemDataModule, DPTSolver, L\n",
    "from utils import load_config"
   ]
  },
  {
   "cell_type": "code",
   "execution_count": null,
   "metadata": {},
   "outputs": [],
   "source": [
    "config = load_config('configs/config.yaml')\n",
    "config['batch_size'] = 3\n",
    "\n",
    "config['action'] = \"point\"\n",
    "# target_action: \"gt\"\n",
    "# ad_ratio: 0.0\n",
    "config['model_params']['action_dim'] = 50\n",
    "\n",
    "datamodule = ProblemDataModule(config)\n",
    "datamodule.setup()"
   ]
  },
  {
   "cell_type": "code",
   "execution_count": null,
   "metadata": {},
   "outputs": [],
   "source": [
    "batch = next(iter(datamodule.train_dataloader()))"
   ]
  },
  {
   "cell_type": "code",
   "execution_count": null,
   "metadata": {},
   "outputs": [],
   "source": [
    "# for k, v in batch.items():\n",
    "#     if isinstance(v, torch.Tensor):\n",
    "#         print(k, v.dtype, v.shape)\n",
    "#     else:\n",
    "#         print(k, type(v))"
   ]
  },
  {
   "cell_type": "code",
   "execution_count": null,
   "metadata": {},
   "outputs": [],
   "source": [
    "model = DPTSolver(config)\n",
    "model.configure_model()"
   ]
  },
  {
   "cell_type": "code",
   "execution_count": null,
   "metadata": {},
   "outputs": [],
   "source": [
    "rewards = model.reward_model.offline(\n",
    "    states=batch[\"states\"],\n",
    "    actions=batch[\"actions\"],\n",
    "    next_states=batch[\"next_states\"]\n",
    ")\n",
    "rewards.shape"
   ]
  },
  {
   "cell_type": "code",
   "execution_count": null,
   "metadata": {},
   "outputs": [],
   "source": [
    "outputs = model.model(\n",
    "    query_state=batch[\"query_state\"],\n",
    "    states=batch[\"states\"],\n",
    "    actions=batch[\"actions\"],\n",
    "    next_states=batch[\"next_states\"],\n",
    "    rewards=rewards,\n",
    ")\n",
    "outputs.shape"
   ]
  },
  {
   "cell_type": "code",
   "execution_count": null,
   "metadata": {},
   "outputs": [],
   "source": [
    "trainer = L.Trainer(\n",
    "    logger=None,\n",
    "    precision=config[\"precision\"] if config[\"strategy\"] != \"fsdp\" else None,\n",
    "    max_epochs=config[\"max_epochs\"],\n",
    "    log_every_n_steps=config[\"log_every_n_steps\"],\n",
    "    default_root_dir=config[\"wandb_params\"][\"save_dir\"],\n",
    "    enable_model_summary=True,\n",
    "    use_distributed_sampler=False,\n",
    "    # strategy=config[\"strategy\"]\n",
    ")"
   ]
  },
  {
   "cell_type": "code",
   "execution_count": null,
   "metadata": {},
   "outputs": [],
   "source": []
  }
 ],
 "metadata": {
  "kernelspec": {
   "display_name": "DPT",
   "language": "python",
   "name": "python3"
  },
  "language_info": {
   "codemirror_mode": {
    "name": "ipython",
    "version": 3
   },
   "file_extension": ".py",
   "mimetype": "text/x-python",
   "name": "python",
   "nbconvert_exporter": "python",
   "pygments_lexer": "ipython3",
   "version": "3.12.8"
  }
 },
 "nbformat": 4,
 "nbformat_minor": 2
}
