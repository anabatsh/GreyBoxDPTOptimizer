{
 "cells": [
  {
   "cell_type": "code",
   "execution_count": null,
   "metadata": {},
   "outputs": [],
   "source": [
    "%load_ext autoreload\n",
    "%autoreload 2"
   ]
  },
  {
   "cell_type": "code",
   "execution_count": null,
   "metadata": {},
   "outputs": [],
   "source": [
    "from problems import *"
   ]
  },
  {
   "cell_type": "code",
   "execution_count": null,
   "metadata": {},
   "outputs": [],
   "source": [
    "Problem().name\n",
    "QUBOBase().name\n",
    "Distribution(loc=0, scale=1).name\n",
    "QUBO().name"
   ]
  },
  {
   "cell_type": "code",
   "execution_count": null,
   "metadata": {},
   "outputs": [],
   "source": [
    "import os\n",
    "from functools import partial\n",
    "from torch.utils.data import DataLoader"
   ]
  },
  {
   "cell_type": "code",
   "execution_count": null,
   "metadata": {},
   "outputs": [],
   "source": [
    "from scripts.create_problem import load_problem_set\n",
    "import problems as pbs\n",
    "from dpt.data import *\n",
    "from train_dpt import *"
   ]
  },
  {
   "cell_type": "code",
   "execution_count": null,
   "metadata": {},
   "outputs": [],
   "source": [
    "problems = load_problem_set('data/normal_2/Normal(0, 1)/test')\n",
    "for problem in problems:\n",
    "    print(problem.name)"
   ]
  },
  {
   "cell_type": "code",
   "execution_count": null,
   "metadata": {},
   "outputs": [],
   "source": [
    "# trajectories = defaultdict(int)\n",
    "# results_dir = 'results/normal'\n",
    "# output_dir = 'trajectories/normal'\n",
    "\n",
    "# for suffix in ('train', 'val', 'test'):\n",
    "#     for problem_class in tqdm(os.listdir(results_dir)):\n",
    "#         problem_path = os.path.join(results_dir, problem_class, suffix)\n",
    "#         solvers = [solver[:-5] for solver in os.listdir(problem_path)]\n",
    "#         for solver in tqdm(solvers):\n",
    "#             solver_path = os.path.join(problem_path, solver)\n",
    "#             results = load_results(solver_path)\n",
    "#             for problem, v in tqdm(results.items()):\n",
    "#                 x = torch.tensor(v['x_list']).float()\n",
    "#                 y = torch.tensor(v['y_list']).float()\n",
    "#                 states = torch.cat([x, y.unsqueeze(-1)], dim=-1)\n",
    "#                 out_path = os.path.join(output_dir, suffix, problem)\n",
    "#                 os.makedirs(out_path, exist_ok=True)\n",
    "#                 for seed in range(len(states)):\n",
    "#                     torch.save(states[seed], os.path.join(out_path, f'{trajectories[problem]:08d}.pt'))\n",
    "#                     trajectories[problem] += 1"
   ]
  },
  {
   "cell_type": "code",
   "execution_count": null,
   "metadata": {},
   "outputs": [],
   "source": [
    "results_dir = 'results/normal'\n",
    "dataset = OfflineDataset(problems, seq_len=10, results_dir=results_dir, suffix='test', ad_ratio=1.0, action='point', target_action='gt')\n",
    "sample = dataset[0]\n",
    "\n",
    "for k, v in sample.items():\n",
    "    if isinstance(v, torch.Tensor):\n",
    "        print(k, v.dtype, v.shape)\n",
    "    else:\n",
    "        print(k, type(v))\n",
    "\n",
    "# print(sample['query_state'])\n",
    "# print(sample['target_action'])\n",
    "# print(sample['target_state'])"
   ]
  },
  {
   "cell_type": "code",
   "execution_count": null,
   "metadata": {},
   "outputs": [],
   "source": [
    "collate_fn = partial(custom_collate_fn, problem_classes=[getattr(pbs, 'Distribution')])\n",
    "dataloader = DataLoader(dataset=dataset, batch_size=10, collate_fn=collate_fn)\n",
    "batch = next(iter(dataloader))\n",
    "\n",
    "for k, v in batch.items():\n",
    "    if isinstance(v, torch.Tensor):\n",
    "        print(k, v.dtype, v.shape)\n",
    "    else:\n",
    "        print(k, type(v))"
   ]
  },
  {
   "cell_type": "code",
   "execution_count": null,
   "metadata": {},
   "outputs": [],
   "source": [
    "# from train_dpt import ProblemDataModule, DPTSolver, L\n",
    "from utils import load_config"
   ]
  },
  {
   "cell_type": "code",
   "execution_count": null,
   "metadata": {},
   "outputs": [],
   "source": [
    "config = load_config('configs/config.yaml')\n",
    "config['batch_size'] = 3\n",
    "\n",
    "config['action'] = \"point\"\n",
    "# target_action: \"gt\"\n",
    "# ad_ratio: 0.0\n",
    "config['model_params']['action_dim'] = 50\n",
    "\n",
    "datamodule = ProblemDataModule(config)\n",
    "datamodule.setup()"
   ]
  },
  {
   "cell_type": "code",
   "execution_count": null,
   "metadata": {},
   "outputs": [],
   "source": [
    "batch = next(iter(datamodule.train_dataloader()))"
   ]
  },
  {
   "cell_type": "code",
   "execution_count": null,
   "metadata": {},
   "outputs": [],
   "source": [
    "# for k, v in batch.items():\n",
    "#     if isinstance(v, torch.Tensor):\n",
    "#         print(k, v.dtype, v.shape)\n",
    "#     else:\n",
    "#         print(k, type(v))"
   ]
  },
  {
   "cell_type": "code",
   "execution_count": null,
   "metadata": {},
   "outputs": [],
   "source": [
    "model = DPTSolver(config)\n",
    "model.configure_model()"
   ]
  },
  {
   "cell_type": "code",
   "execution_count": null,
   "metadata": {},
   "outputs": [],
   "source": [
    "rewards = model.reward_model.offline(\n",
    "    states=batch[\"states\"],\n",
    "    actions=batch[\"actions\"],\n",
    "    next_states=batch[\"next_states\"]\n",
    ")\n",
    "rewards.shape"
   ]
  },
  {
   "cell_type": "code",
   "execution_count": null,
   "metadata": {},
   "outputs": [],
   "source": [
    "outputs = model.model(\n",
    "    query_state=batch[\"query_state\"],\n",
    "    states=batch[\"states\"],\n",
    "    actions=batch[\"actions\"],\n",
    "    next_states=batch[\"next_states\"],\n",
    "    rewards=rewards,\n",
    ")\n",
    "outputs.shape"
   ]
  },
  {
   "cell_type": "code",
   "execution_count": null,
   "metadata": {},
   "outputs": [],
   "source": [
    "trainer = L.Trainer(\n",
    "    logger=None,\n",
    "    precision=config[\"precision\"] if config[\"strategy\"] != \"fsdp\" else None,\n",
    "    max_epochs=config[\"max_epochs\"],\n",
    "    log_every_n_steps=config[\"log_every_n_steps\"],\n",
    "    default_root_dir=config[\"wandb_params\"][\"save_dir\"],\n",
    "    enable_model_summary=True,\n",
    "    use_distributed_sampler=False,\n",
    "    # strategy=config[\"strategy\"]\n",
    ")"
   ]
  },
  {
   "cell_type": "code",
   "execution_count": null,
   "metadata": {},
   "outputs": [],
   "source": []
  }
 ],
 "metadata": {
  "kernelspec": {
   "display_name": "DPT",
   "language": "python",
   "name": "python3"
  },
  "language_info": {
   "codemirror_mode": {
    "name": "ipython",
    "version": 3
   },
   "file_extension": ".py",
   "mimetype": "text/x-python",
   "name": "python",
   "nbconvert_exporter": "python",
   "pygments_lexer": "ipython3",
   "version": "3.12.8"
  }
 },
 "nbformat": 4,
 "nbformat_minor": 2
}
