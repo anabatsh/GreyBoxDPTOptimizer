{
 "cells": [
  {
   "cell_type": "code",
   "execution_count": null,
   "metadata": {},
   "outputs": [],
   "source": [
    "%load_ext autoreload\n",
    "%autoreload 2"
   ]
  },
  {
   "cell_type": "code",
   "execution_count": null,
   "metadata": {},
   "outputs": [],
   "source": [
    "from problems import *\n",
    "from solvers import *"
   ]
  },
  {
   "cell_type": "code",
   "execution_count": null,
   "metadata": {},
   "outputs": [],
   "source": [
    "# problem = QUBO(d=50, n=2, seed=0, mode=\"normal\", loc=0, scale=1)\n",
    "# solver = RandomSearch(problem=problem, budget=10, seed=0)\n",
    "# solver = PSO(problem=problem, budget=10, seed=0)\n",
    "# solver = PROTES(problem=problem, budget=10, seed=0)\n",
    "# solver.optimize()"
   ]
  },
  {
   "cell_type": "code",
   "execution_count": null,
   "metadata": {},
   "outputs": [],
   "source": [
    "from scripts.create_problem import load_problem_set\n",
    "from scripts.run_solver import load_results"
   ]
  },
  {
   "cell_type": "code",
   "execution_count": null,
   "metadata": {},
   "outputs": [],
   "source": [
    "problems = load_problem_set('data/normal/QUBO__mode_normal__loc_-5__scale_1/train')"
   ]
  },
  {
   "cell_type": "code",
   "execution_count": null,
   "metadata": {},
   "outputs": [],
   "source": [
    "for problem in problems:\n",
    "    print(problem.info)"
   ]
  },
  {
   "cell_type": "code",
   "execution_count": null,
   "metadata": {},
   "outputs": [],
   "source": [
    "import matplotlib.pyplot as plt\n",
    "from collections import defaultdict\n",
    "import os"
   ]
  },
  {
   "cell_type": "code",
   "execution_count": null,
   "metadata": {},
   "outputs": [],
   "source": [
    "def average_results(results):\n",
    "    av_results = {'m': [], 'y (mean)': [], 'y (std)': []}\n",
    "    for problem, logs in results.items():\n",
    "        m = logs['m_list'][0]\n",
    "        y = np.minimum.accumulate(logs['y_list'], axis=-1)\n",
    "        y_mean = np.mean(y, axis=0)\n",
    "        y_std = np.std(y, axis=0)\n",
    "        av_results['m'].append(m)\n",
    "        av_results['y (mean)'].append(y_mean)\n",
    "        av_results['y (std)'].append(y_std)\n",
    "\n",
    "    av_results['m'] = av_results['m'][0]\n",
    "    av_results['y (mean)'] = np.mean(av_results['y (mean)'], axis=0)\n",
    "    av_results['y (std)'] = np.mean(av_results['y (std)'], axis=0)\n",
    "    return av_results"
   ]
  },
  {
   "cell_type": "code",
   "execution_count": null,
   "metadata": {},
   "outputs": [],
   "source": [
    "read_dir = 'results/normal'\n",
    "problem_list = os.listdir(read_dir)\n",
    "solver_list = ['RandomSearch', 'PSO', 'PROTES']\n",
    "suffix = 'test'\n",
    "\n",
    "# plt.figure()\n",
    "for solver in solver_list:\n",
    "    av_results = defaultdict(list)\n",
    "    for problem in problem_list:\n",
    "        read_path = os.path.join(read_dir, problem, suffix, solver)\n",
    "        results = load_results(read_path)\n",
    "        for k, v in average_results(results).items():\n",
    "            av_results[k].append(v)\n",
    "\n",
    "    av_results['m'] = av_results['m'][0]\n",
    "    av_results['y (mean)'] = np.mean(av_results['y (mean)'], axis=0)\n",
    "    av_results['y (std)'] = np.mean(av_results['y (std)'], axis=0)\n",
    "\n",
    "    plt.plot(av_results['m'], av_results['y (mean)'], label=solver)\n",
    "    plt.fill_between(\n",
    "        av_results['m'], \n",
    "        av_results['y (mean)'] - av_results['y (std)'], \n",
    "        av_results['y (mean)'] + av_results['y (std)'], \n",
    "        alpha=0.3\n",
    "    )\n",
    "plt.legend()\n",
    "plt.show()"
   ]
  },
  {
   "cell_type": "code",
   "execution_count": null,
   "metadata": {},
   "outputs": [],
   "source": [
    "from train_dpt_ import ProblemDataModule, DPTSolver, L\n",
    "from utils import load_config"
   ]
  },
  {
   "cell_type": "code",
   "execution_count": null,
   "metadata": {},
   "outputs": [],
   "source": [
    "config = load_config('config.yaml')\n",
    "datamodule = ProblemDataModule(config)\n",
    "datamodule.setup()\n",
    "datamodule.test_dataloader().dataset[0]"
   ]
  },
  {
   "cell_type": "code",
   "execution_count": null,
   "metadata": {},
   "outputs": [],
   "source": [
    "batch = next(iter(datamodule.train_dataloader()))"
   ]
  },
  {
   "cell_type": "code",
   "execution_count": null,
   "metadata": {},
   "outputs": [],
   "source": [
    "batch.keys()"
   ]
  },
  {
   "cell_type": "code",
   "execution_count": null,
   "metadata": {},
   "outputs": [],
   "source": [
    "batch[\"actions\"].max()"
   ]
  },
  {
   "cell_type": "code",
   "execution_count": null,
   "metadata": {},
   "outputs": [],
   "source": [
    "model.model.action_dim"
   ]
  },
  {
   "cell_type": "code",
   "execution_count": null,
   "metadata": {},
   "outputs": [],
   "source": [
    "model = DPTSolver(config)\n",
    "model.configure_model()"
   ]
  },
  {
   "cell_type": "code",
   "execution_count": null,
   "metadata": {},
   "outputs": [],
   "source": [
    "rewards = model.reward_model.offline(\n",
    "    states=batch[\"states\"],\n",
    "    actions=batch[\"actions\"],\n",
    "    next_states=batch[\"next_states\"]\n",
    ")\n",
    "outputs = model.model(\n",
    "    query_state=batch[\"query_state\"],\n",
    "    states=batch[\"states\"],\n",
    "    actions=batch[\"actions\"],\n",
    "    next_states=batch[\"next_states\"],\n",
    "    rewards=rewards,\n",
    ")"
   ]
  },
  {
   "cell_type": "code",
   "execution_count": null,
   "metadata": {},
   "outputs": [],
   "source": [
    "trainer = L.Trainer(\n",
    "    logger=None,\n",
    "    precision=config[\"precision\"] if config[\"strategy\"] != \"fsdp\" else None,\n",
    "    max_epochs=config[\"max_epochs\"],\n",
    "    log_every_n_steps=config[\"log_every_n_steps\"],\n",
    "    default_root_dir=config[\"wandb_params\"][\"save_dir\"],\n",
    "    enable_model_summary=True,\n",
    "    use_distributed_sampler=False,\n",
    "    # strategy=config[\"strategy\"]\n",
    ")"
   ]
  },
  {
   "cell_type": "code",
   "execution_count": null,
   "metadata": {},
   "outputs": [],
   "source": []
  }
 ],
 "metadata": {
  "kernelspec": {
   "display_name": "DPT",
   "language": "python",
   "name": "python3"
  },
  "language_info": {
   "codemirror_mode": {
    "name": "ipython",
    "version": 3
   },
   "file_extension": ".py",
   "mimetype": "text/x-python",
   "name": "python",
   "nbconvert_exporter": "python",
   "pygments_lexer": "ipython3",
   "version": "3.12.8"
  }
 },
 "nbformat": 4,
 "nbformat_minor": 2
}
